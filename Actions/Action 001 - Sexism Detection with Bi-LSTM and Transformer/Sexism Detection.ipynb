{
 "cells": [
  {
   "cell_type": "markdown",
   "metadata": {
    "id": "Pz1W0D0UayC0"
   },
   "source": [
    "# Sexism Classification with BLSTM and Transformer\n",
    "In this notebook, we have implemented two BLSTM models and imported RoBERTa transoformer. Then we used these to study a classification problem. The problem is defined as whether a given tweeet is sexism.\n",
    "\n"
   ]
  },
  {
   "cell_type": "markdown",
   "metadata": {
    "id": "LCLn9CrnshI4"
   },
   "source": [
    "## Outlines\n",
    "1. [Packages](#packages)\n",
    "2. [Corpus](#corpus)\n",
    "3. [Corpus Settings](#corpus-settings)\n",
    "4. [Data Cleaning](#data-cleaning)\n",
    "5. [Bidirectional LSTM Model](#bidirectional-LSTM-model)\n",
    "    1. [Step 1 - Tokenization](#tokenization)\n",
    "        1. [Download and Import GloVe](#glvoe)\n",
    "        2. [Build Vocabulary - Word Tokenization](#word-tokenization)\n",
    "        3. [Build Vocabulary - BPE](#bpe)\n",
    "    2. [Step 2 - Embeddings](#embeddings)\n",
    "        1. [Words' ID and Tweets' Sequence IDs](#word-ID)\n",
    "        2. [Checking OOV](#word-OOV)\n",
    "        3. [Embedding Matrix](#embedding-matrix)\n",
    "    3. [Step 3 - Paddings](#padding)\n",
    "    4. [Step 4 - Model Definition](#blstm-model-definition)\n",
    "    5. [Step 5 - Training](#blstm-training)\n",
    "    6. [Step 6 - Test Evaluation](#blstm-test-evaluation)\n",
    "6. [Transformer Model](#transformer-model)\n",
    "    1. [Importing Transformer and Preprocessing](#transformer-preprocessing)\n",
    "    2. [Defining the model and Metrics](#transformer-modeling)\n",
    "    3. [Training](#transformer-training)\n",
    "    4. [Test Evaluation](#transformer-test-evaluation)\n",
    "7. [Results Analysis](#result-analysis)\n",
    "    1. [BLSTM Curve Analysis](#curve-analysis)\n",
    "    2. [Vocabulary and Tokenization Analysis](#tokenization-analysis)\n",
    "    3. [Confusion Matrix Analysis](#confusion-matrix-analysis)\n",
    "    4. [Other Notes](#other-analysis)\n"
   ]
  },
  {
   "cell_type": "markdown",
   "metadata": {
    "id": "9Suoq71nb7TP"
   },
   "source": [
    "<a name='packages'></a>\n",
    "# Packages\n",
    "This sections will import and install all the necessary libraries for this project."
   ]
  },
  {
   "cell_type": "code",
   "execution_count": null,
   "metadata": {
    "colab": {
     "base_uri": "https://localhost:8080/"
    },
    "executionInfo": {
     "elapsed": 24645,
     "status": "ok",
     "timestamp": 1736801788809,
     "user": {
      "displayName": "Seyedali Shohadaeolhosseini",
      "userId": "07992724724533035419"
     },
     "user_tz": -60
    },
    "id": "lmcGkXQBxL-u",
    "outputId": "46ba04a2-c0bd-44a0-ba91-09afdb7b32e7"
   },
   "outputs": [
    {
     "name": "stdout",
     "output_type": "stream",
     "text": [
      "Mounted at /content/drive\n"
     ]
    }
   ],
   "source": [
    "from google.colab import drive\n",
    "drive.mount('/content/drive')"
   ]
  },
  {
   "cell_type": "code",
   "execution_count": null,
   "metadata": {
    "id": "JhAav3hzjRGY"
   },
   "outputs": [],
   "source": [
    "# Uncomment this cell if you don't have access locally, ow. change the paths to your local\n",
    "# Download GloVe embeddings\n",
    "# GloVe Embeddings are a type of word embedding that encode the co-occurrence\n",
    "# probability ratio between two words as vector differences.\n",
    "# Ref: https://paperswithcode.com/method/glove\n",
    "# Following Glove Link is from its official Github account\n",
    "# You can download them to your workspace by uncommenting the following lines or,\n",
    "# if you already have it, later in the notebook, you can change the path to yours\n",
    "\n",
    "# Uncomment next two for the 840B tokens with 300D version of Glove\n",
    "# !wget -p \"/content/drive/MyDrive/Colab Notebooks/Sexism Detection/embeddings\" https://huggingface.co/stanfordnlp/glove/resolve/main/glove.840B.300d.zip\n",
    "# !unzip \"/content/drive/MyDrive/Colab Notebooks/Sexism Detection/embeddings/glove.840B.300d.zip\"\n",
    "\n",
    "# Uncomment next two for the 6B tokens with 50D, 100D, 200D, 300D version of Glove\n",
    "# !wget -p \"/content/drive/MyDrive/Colab Notebooks/Sexism Detection/embeddings\" https://huggingface.co/stanfordnlp/glove/resolve/main/glove.6B.zip\n",
    "# !unzip \"/content/drive/MyDrive/Colab Notebooks/Sexism Detection/embeddings/glove.6B.zip\""
   ]
  },
  {
   "cell_type": "code",
   "execution_count": null,
   "metadata": {
    "id": "w7Y8giNfjHRA"
   },
   "outputs": [],
   "source": [
    "%%capture\n",
    "!pip install transformers datasets evaluate"
   ]
  },
  {
   "cell_type": "code",
   "execution_count": null,
   "metadata": {
    "id": "Idoz0NFJcEQH"
   },
   "outputs": [],
   "source": [
    "# Packages\n",
    "from tensorflow.keras.layers import Embedding, Bidirectional, LSTM, Dense, Dropout, BatchNormalization, Activation\n",
    "from transformers import AutoTokenizer, AutoModelForSequenceClassification, Trainer, TrainingArguments\n",
    "from tensorflow.keras.preprocessing.sequence import pad_sequences\n",
    "from transformers import DataCollatorWithPadding\n",
    "from tensorflow.keras.models import Sequential\n",
    "from transformers import set_seed\n",
    "\n",
    "from sklearn.metrics import f1_score, precision_score, recall_score, accuracy_score\n",
    "from sklearn.metrics import confusion_matrix, classification_report\n",
    "from sklearn.utils import resample\n",
    "import tensorflow as tf\n",
    "import pandas as pd\n",
    "\n",
    "import matplotlib.pyplot as plt\n",
    "import seaborn as sns\n",
    "import numpy as np\n",
    "import json\n",
    "import re\n",
    "\n",
    "from torch.utils.data import Dataset\n",
    "from datasets import Dataset as DS\n",
    "import evaluate\n",
    "import torch\n",
    "\n",
    "from nltk.stem import WordNetLemmatizer\n",
    "import nltk\n",
    "\n",
    "from collections import Counter\n",
    "from pathlib import Path\n",
    "import numpy as np\n",
    "import warnings\n",
    "import random\n",
    "import os\n",
    "\n",
    "warnings.filterwarnings(\"ignore\", category=FutureWarning)"
   ]
  },
  {
   "cell_type": "markdown",
   "metadata": {
    "id": "2iu1X4I98M8B"
   },
   "source": [
    "<a name='corpus'></a>\n",
    "# Corpus\n",
    "In this section we have downloaded the data from the [Github repository](https://github.com/lt-nlp-lab-unibo/nlp-course-material/tree/main/2024-2025/Assignment%201/data) and add it to our directory.\n",
    "\n",
    "The three sets are slightly unbalanced, with a bias toward the `Non-sexist` class. In the following cells, I will discusss how I handled the balance and unbalance dataset.\n"
   ]
  },
  {
   "cell_type": "code",
   "execution_count": null,
   "metadata": {
    "colab": {
     "base_uri": "https://localhost:8080/",
     "height": 372
    },
    "executionInfo": {
     "elapsed": 4553,
     "status": "ok",
     "timestamp": 1736801817452,
     "user": {
      "displayName": "Seyedali Shohadaeolhosseini",
      "userId": "07992724724533035419"
     },
     "user_tz": -60
    },
    "id": "Z5jADfl5xXOW",
    "outputId": "a004fd54-7906-4aa5-8861-97b6611a832b"
   },
   "outputs": [
    {
     "name": "stdout",
     "output_type": "stream",
     "text": [
      "Train df shape: (6920, 11)\n",
      "Validation df shape: (726, 11)\n",
      "Test df shape: (312, 11)\n"
     ]
    },
    {
     "data": {
      "application/vnd.google.colaboratory.intrinsic+json": {
       "summary": "{\n  \"name\": \"train_df\",\n  \"rows\": 6920,\n  \"fields\": [\n    {\n      \"column\": \"id_EXIST\",\n      \"properties\": {\n        \"dtype\": \"string\",\n        \"num_unique_values\": 6920,\n        \"samples\": [\n          \"100469\",\n          \"101957\",\n          \"100801\"\n        ],\n        \"semantic_type\": \"\",\n        \"description\": \"\"\n      }\n    },\n    {\n      \"column\": \"lang\",\n      \"properties\": {\n        \"dtype\": \"category\",\n        \"num_unique_values\": 2,\n        \"samples\": [\n          \"en\",\n          \"es\"\n        ],\n        \"semantic_type\": \"\",\n        \"description\": \"\"\n      }\n    },\n    {\n      \"column\": \"tweet\",\n      \"properties\": {\n        \"dtype\": \"string\",\n        \"num_unique_values\": 6920,\n        \"samples\": [\n          \"@AnelPerezM Pues.... realmente sabes cu\\u00e1ndo alguien aumenta tu serotonina... porque ver una mujer atractiva pues si.... pero que realmente te enamore...lo sientes porque eso te pone realmente feliz.\",\n          \"@giuli_cc:A confesi\\u00f3n de parte relevo de prueba.Claramente el ex Minedu CUENCA sostiene q el enfoque de g\\u00e9nero es lo m\\u00e1s alejado a lo binario.\\u00bfNo q el enfoque de g\\u00e9nero era buscar la igualdad entre VAR\\u00d3N Y MUJER?Claramente el EdG es un sin fin de g\\u00e9neros que quieren ense\\u00f1ar. https://t.co/UIxAyyC5nR\"\n        ],\n        \"semantic_type\": \"\",\n        \"description\": \"\"\n      }\n    },\n    {\n      \"column\": \"number_annotators\",\n      \"properties\": {\n        \"dtype\": \"number\",\n        \"std\": 0,\n        \"min\": 6,\n        \"max\": 6,\n        \"num_unique_values\": 1,\n        \"samples\": [\n          6\n        ],\n        \"semantic_type\": \"\",\n        \"description\": \"\"\n      }\n    },\n    {\n      \"column\": \"annotators\",\n      \"properties\": {\n        \"dtype\": \"object\",\n        \"semantic_type\": \"\",\n        \"description\": \"\"\n      }\n    },\n    {\n      \"column\": \"gender_annotators\",\n      \"properties\": {\n        \"dtype\": \"object\",\n        \"semantic_type\": \"\",\n        \"description\": \"\"\n      }\n    },\n    {\n      \"column\": \"age_annotators\",\n      \"properties\": {\n        \"dtype\": \"object\",\n        \"semantic_type\": \"\",\n        \"description\": \"\"\n      }\n    },\n    {\n      \"column\": \"labels_task1\",\n      \"properties\": {\n        \"dtype\": \"object\",\n        \"semantic_type\": \"\",\n        \"description\": \"\"\n      }\n    },\n    {\n      \"column\": \"labels_task2\",\n      \"properties\": {\n        \"dtype\": \"object\",\n        \"semantic_type\": \"\",\n        \"description\": \"\"\n      }\n    },\n    {\n      \"column\": \"labels_task3\",\n      \"properties\": {\n        \"dtype\": \"object\",\n        \"semantic_type\": \"\",\n        \"description\": \"\"\n      }\n    },\n    {\n      \"column\": \"split\",\n      \"properties\": {\n        \"dtype\": \"category\",\n        \"num_unique_values\": 2,\n        \"samples\": [\n          \"TRAIN_EN\"\n        ],\n        \"semantic_type\": \"\",\n        \"description\": \"\"\n      }\n    }\n  ]\n}",
       "type": "dataframe",
       "variable_name": "train_df"
      },
      "text/html": [
       "\n",
       "  <div id=\"df-b22604d6-8767-4060-b551-7651cf3aec58\" class=\"colab-df-container\">\n",
       "    <div>\n",
       "<style scoped>\n",
       "    .dataframe tbody tr th:only-of-type {\n",
       "        vertical-align: middle;\n",
       "    }\n",
       "\n",
       "    .dataframe tbody tr th {\n",
       "        vertical-align: top;\n",
       "    }\n",
       "\n",
       "    .dataframe thead th {\n",
       "        text-align: right;\n",
       "    }\n",
       "</style>\n",
       "<table border=\"1\" class=\"dataframe\">\n",
       "  <thead>\n",
       "    <tr style=\"text-align: right;\">\n",
       "      <th></th>\n",
       "      <th>id_EXIST</th>\n",
       "      <th>lang</th>\n",
       "      <th>tweet</th>\n",
       "      <th>number_annotators</th>\n",
       "      <th>annotators</th>\n",
       "      <th>gender_annotators</th>\n",
       "      <th>age_annotators</th>\n",
       "      <th>labels_task1</th>\n",
       "      <th>labels_task2</th>\n",
       "      <th>labels_task3</th>\n",
       "      <th>split</th>\n",
       "    </tr>\n",
       "  </thead>\n",
       "  <tbody>\n",
       "    <tr>\n",
       "      <th>100001</th>\n",
       "      <td>100001</td>\n",
       "      <td>es</td>\n",
       "      <td>@TheChiflis Ignora al otro, es un capullo.El p...</td>\n",
       "      <td>6</td>\n",
       "      <td>[Annotator_1, Annotator_2, Annotator_3, Annota...</td>\n",
       "      <td>[F, F, F, M, M, M]</td>\n",
       "      <td>[18-22, 23-45, 46+, 46+, 23-45, 18-22]</td>\n",
       "      <td>[YES, YES, NO, YES, YES, YES]</td>\n",
       "      <td>[REPORTED, JUDGEMENTAL, -, REPORTED, JUDGEMENT...</td>\n",
       "      <td>[[OBJECTIFICATION], [OBJECTIFICATION, SEXUAL-V...</td>\n",
       "      <td>TRAIN_ES</td>\n",
       "    </tr>\n",
       "    <tr>\n",
       "      <th>100002</th>\n",
       "      <td>100002</td>\n",
       "      <td>es</td>\n",
       "      <td>@ultimonomada_ Si comicsgate se parece en algo...</td>\n",
       "      <td>6</td>\n",
       "      <td>[Annotator_7, Annotator_8, Annotator_9, Annota...</td>\n",
       "      <td>[F, F, F, M, M, M]</td>\n",
       "      <td>[18-22, 23-45, 46+, 46+, 23-45, 18-22]</td>\n",
       "      <td>[NO, NO, NO, NO, YES, NO]</td>\n",
       "      <td>[-, -, -, -, DIRECT, -]</td>\n",
       "      <td>[[-], [-], [-], [-], [OBJECTIFICATION], [-]]</td>\n",
       "      <td>TRAIN_ES</td>\n",
       "    </tr>\n",
       "    <tr>\n",
       "      <th>100003</th>\n",
       "      <td>100003</td>\n",
       "      <td>es</td>\n",
       "      <td>@Steven2897 Lee sobre Gamergate, y como eso ha...</td>\n",
       "      <td>6</td>\n",
       "      <td>[Annotator_7, Annotator_8, Annotator_9, Annota...</td>\n",
       "      <td>[F, F, F, M, M, M]</td>\n",
       "      <td>[18-22, 23-45, 46+, 46+, 23-45, 18-22]</td>\n",
       "      <td>[NO, NO, NO, NO, NO, NO]</td>\n",
       "      <td>[-, -, -, -, -, -]</td>\n",
       "      <td>[[-], [-], [-], [-], [-], [-]]</td>\n",
       "      <td>TRAIN_ES</td>\n",
       "    </tr>\n",
       "  </tbody>\n",
       "</table>\n",
       "</div>\n",
       "    <div class=\"colab-df-buttons\">\n",
       "\n",
       "  <div class=\"colab-df-container\">\n",
       "    <button class=\"colab-df-convert\" onclick=\"convertToInteractive('df-b22604d6-8767-4060-b551-7651cf3aec58')\"\n",
       "            title=\"Convert this dataframe to an interactive table.\"\n",
       "            style=\"display:none;\">\n",
       "\n",
       "  <svg xmlns=\"http://www.w3.org/2000/svg\" height=\"24px\" viewBox=\"0 -960 960 960\">\n",
       "    <path d=\"M120-120v-720h720v720H120Zm60-500h600v-160H180v160Zm220 220h160v-160H400v160Zm0 220h160v-160H400v160ZM180-400h160v-160H180v160Zm440 0h160v-160H620v160ZM180-180h160v-160H180v160Zm440 0h160v-160H620v160Z\"/>\n",
       "  </svg>\n",
       "    </button>\n",
       "\n",
       "  <style>\n",
       "    .colab-df-container {\n",
       "      display:flex;\n",
       "      gap: 12px;\n",
       "    }\n",
       "\n",
       "    .colab-df-convert {\n",
       "      background-color: #E8F0FE;\n",
       "      border: none;\n",
       "      border-radius: 50%;\n",
       "      cursor: pointer;\n",
       "      display: none;\n",
       "      fill: #1967D2;\n",
       "      height: 32px;\n",
       "      padding: 0 0 0 0;\n",
       "      width: 32px;\n",
       "    }\n",
       "\n",
       "    .colab-df-convert:hover {\n",
       "      background-color: #E2EBFA;\n",
       "      box-shadow: 0px 1px 2px rgba(60, 64, 67, 0.3), 0px 1px 3px 1px rgba(60, 64, 67, 0.15);\n",
       "      fill: #174EA6;\n",
       "    }\n",
       "\n",
       "    .colab-df-buttons div {\n",
       "      margin-bottom: 4px;\n",
       "    }\n",
       "\n",
       "    [theme=dark] .colab-df-convert {\n",
       "      background-color: #3B4455;\n",
       "      fill: #D2E3FC;\n",
       "    }\n",
       "\n",
       "    [theme=dark] .colab-df-convert:hover {\n",
       "      background-color: #434B5C;\n",
       "      box-shadow: 0px 1px 3px 1px rgba(0, 0, 0, 0.15);\n",
       "      filter: drop-shadow(0px 1px 2px rgba(0, 0, 0, 0.3));\n",
       "      fill: #FFFFFF;\n",
       "    }\n",
       "  </style>\n",
       "\n",
       "    <script>\n",
       "      const buttonEl =\n",
       "        document.querySelector('#df-b22604d6-8767-4060-b551-7651cf3aec58 button.colab-df-convert');\n",
       "      buttonEl.style.display =\n",
       "        google.colab.kernel.accessAllowed ? 'block' : 'none';\n",
       "\n",
       "      async function convertToInteractive(key) {\n",
       "        const element = document.querySelector('#df-b22604d6-8767-4060-b551-7651cf3aec58');\n",
       "        const dataTable =\n",
       "          await google.colab.kernel.invokeFunction('convertToInteractive',\n",
       "                                                    [key], {});\n",
       "        if (!dataTable) return;\n",
       "\n",
       "        const docLinkHtml = 'Like what you see? Visit the ' +\n",
       "          '<a target=\"_blank\" href=https://colab.research.google.com/notebooks/data_table.ipynb>data table notebook</a>'\n",
       "          + ' to learn more about interactive tables.';\n",
       "        element.innerHTML = '';\n",
       "        dataTable['output_type'] = 'display_data';\n",
       "        await google.colab.output.renderOutput(dataTable, element);\n",
       "        const docLink = document.createElement('div');\n",
       "        docLink.innerHTML = docLinkHtml;\n",
       "        element.appendChild(docLink);\n",
       "      }\n",
       "    </script>\n",
       "  </div>\n",
       "\n",
       "\n",
       "<div id=\"df-8d150c30-3a90-488c-8160-02ef503073e5\">\n",
       "  <button class=\"colab-df-quickchart\" onclick=\"quickchart('df-8d150c30-3a90-488c-8160-02ef503073e5')\"\n",
       "            title=\"Suggest charts\"\n",
       "            style=\"display:none;\">\n",
       "\n",
       "<svg xmlns=\"http://www.w3.org/2000/svg\" height=\"24px\"viewBox=\"0 0 24 24\"\n",
       "     width=\"24px\">\n",
       "    <g>\n",
       "        <path d=\"M19 3H5c-1.1 0-2 .9-2 2v14c0 1.1.9 2 2 2h14c1.1 0 2-.9 2-2V5c0-1.1-.9-2-2-2zM9 17H7v-7h2v7zm4 0h-2V7h2v10zm4 0h-2v-4h2v4z\"/>\n",
       "    </g>\n",
       "</svg>\n",
       "  </button>\n",
       "\n",
       "<style>\n",
       "  .colab-df-quickchart {\n",
       "      --bg-color: #E8F0FE;\n",
       "      --fill-color: #1967D2;\n",
       "      --hover-bg-color: #E2EBFA;\n",
       "      --hover-fill-color: #174EA6;\n",
       "      --disabled-fill-color: #AAA;\n",
       "      --disabled-bg-color: #DDD;\n",
       "  }\n",
       "\n",
       "  [theme=dark] .colab-df-quickchart {\n",
       "      --bg-color: #3B4455;\n",
       "      --fill-color: #D2E3FC;\n",
       "      --hover-bg-color: #434B5C;\n",
       "      --hover-fill-color: #FFFFFF;\n",
       "      --disabled-bg-color: #3B4455;\n",
       "      --disabled-fill-color: #666;\n",
       "  }\n",
       "\n",
       "  .colab-df-quickchart {\n",
       "    background-color: var(--bg-color);\n",
       "    border: none;\n",
       "    border-radius: 50%;\n",
       "    cursor: pointer;\n",
       "    display: none;\n",
       "    fill: var(--fill-color);\n",
       "    height: 32px;\n",
       "    padding: 0;\n",
       "    width: 32px;\n",
       "  }\n",
       "\n",
       "  .colab-df-quickchart:hover {\n",
       "    background-color: var(--hover-bg-color);\n",
       "    box-shadow: 0 1px 2px rgba(60, 64, 67, 0.3), 0 1px 3px 1px rgba(60, 64, 67, 0.15);\n",
       "    fill: var(--button-hover-fill-color);\n",
       "  }\n",
       "\n",
       "  .colab-df-quickchart-complete:disabled,\n",
       "  .colab-df-quickchart-complete:disabled:hover {\n",
       "    background-color: var(--disabled-bg-color);\n",
       "    fill: var(--disabled-fill-color);\n",
       "    box-shadow: none;\n",
       "  }\n",
       "\n",
       "  .colab-df-spinner {\n",
       "    border: 2px solid var(--fill-color);\n",
       "    border-color: transparent;\n",
       "    border-bottom-color: var(--fill-color);\n",
       "    animation:\n",
       "      spin 1s steps(1) infinite;\n",
       "  }\n",
       "\n",
       "  @keyframes spin {\n",
       "    0% {\n",
       "      border-color: transparent;\n",
       "      border-bottom-color: var(--fill-color);\n",
       "      border-left-color: var(--fill-color);\n",
       "    }\n",
       "    20% {\n",
       "      border-color: transparent;\n",
       "      border-left-color: var(--fill-color);\n",
       "      border-top-color: var(--fill-color);\n",
       "    }\n",
       "    30% {\n",
       "      border-color: transparent;\n",
       "      border-left-color: var(--fill-color);\n",
       "      border-top-color: var(--fill-color);\n",
       "      border-right-color: var(--fill-color);\n",
       "    }\n",
       "    40% {\n",
       "      border-color: transparent;\n",
       "      border-right-color: var(--fill-color);\n",
       "      border-top-color: var(--fill-color);\n",
       "    }\n",
       "    60% {\n",
       "      border-color: transparent;\n",
       "      border-right-color: var(--fill-color);\n",
       "    }\n",
       "    80% {\n",
       "      border-color: transparent;\n",
       "      border-right-color: var(--fill-color);\n",
       "      border-bottom-color: var(--fill-color);\n",
       "    }\n",
       "    90% {\n",
       "      border-color: transparent;\n",
       "      border-bottom-color: var(--fill-color);\n",
       "    }\n",
       "  }\n",
       "</style>\n",
       "\n",
       "  <script>\n",
       "    async function quickchart(key) {\n",
       "      const quickchartButtonEl =\n",
       "        document.querySelector('#' + key + ' button');\n",
       "      quickchartButtonEl.disabled = true;  // To prevent multiple clicks.\n",
       "      quickchartButtonEl.classList.add('colab-df-spinner');\n",
       "      try {\n",
       "        const charts = await google.colab.kernel.invokeFunction(\n",
       "            'suggestCharts', [key], {});\n",
       "      } catch (error) {\n",
       "        console.error('Error during call to suggestCharts:', error);\n",
       "      }\n",
       "      quickchartButtonEl.classList.remove('colab-df-spinner');\n",
       "      quickchartButtonEl.classList.add('colab-df-quickchart-complete');\n",
       "    }\n",
       "    (() => {\n",
       "      let quickchartButtonEl =\n",
       "        document.querySelector('#df-8d150c30-3a90-488c-8160-02ef503073e5 button');\n",
       "      quickchartButtonEl.style.display =\n",
       "        google.colab.kernel.accessAllowed ? 'block' : 'none';\n",
       "    })();\n",
       "  </script>\n",
       "</div>\n",
       "\n",
       "    </div>\n",
       "  </div>\n"
      ],
      "text/plain": [
       "       id_EXIST lang                                              tweet  \\\n",
       "100001   100001   es  @TheChiflis Ignora al otro, es un capullo.El p...   \n",
       "100002   100002   es  @ultimonomada_ Si comicsgate se parece en algo...   \n",
       "100003   100003   es  @Steven2897 Lee sobre Gamergate, y como eso ha...   \n",
       "\n",
       "        number_annotators                                         annotators  \\\n",
       "100001                  6  [Annotator_1, Annotator_2, Annotator_3, Annota...   \n",
       "100002                  6  [Annotator_7, Annotator_8, Annotator_9, Annota...   \n",
       "100003                  6  [Annotator_7, Annotator_8, Annotator_9, Annota...   \n",
       "\n",
       "         gender_annotators                          age_annotators  \\\n",
       "100001  [F, F, F, M, M, M]  [18-22, 23-45, 46+, 46+, 23-45, 18-22]   \n",
       "100002  [F, F, F, M, M, M]  [18-22, 23-45, 46+, 46+, 23-45, 18-22]   \n",
       "100003  [F, F, F, M, M, M]  [18-22, 23-45, 46+, 46+, 23-45, 18-22]   \n",
       "\n",
       "                         labels_task1  \\\n",
       "100001  [YES, YES, NO, YES, YES, YES]   \n",
       "100002      [NO, NO, NO, NO, YES, NO]   \n",
       "100003       [NO, NO, NO, NO, NO, NO]   \n",
       "\n",
       "                                             labels_task2  \\\n",
       "100001  [REPORTED, JUDGEMENTAL, -, REPORTED, JUDGEMENT...   \n",
       "100002                            [-, -, -, -, DIRECT, -]   \n",
       "100003                                 [-, -, -, -, -, -]   \n",
       "\n",
       "                                             labels_task3     split  \n",
       "100001  [[OBJECTIFICATION], [OBJECTIFICATION, SEXUAL-V...  TRAIN_ES  \n",
       "100002       [[-], [-], [-], [-], [OBJECTIFICATION], [-]]  TRAIN_ES  \n",
       "100003                     [[-], [-], [-], [-], [-], [-]]  TRAIN_ES  "
      ]
     },
     "execution_count": 5,
     "metadata": {},
     "output_type": "execute_result"
    }
   ],
   "source": [
    "# Updated the following paths base on your own environment\n",
    "path_to_trai_json = '/content/drive/MyDrive/Colab Notebooks/Sexism Detection/data/training.json'\n",
    "path_to_val_json = '/content/drive/MyDrive/Colab Notebooks/Sexism Detection/data/validation.json'\n",
    "path_to_test_json = '/content/drive/MyDrive/Colab Notebooks/Sexism Detection/data/test.json'\n",
    "\n",
    "def load_json_to_df(file_path):\n",
    "    with open(file_path, 'r') as f:\n",
    "        data = json.load(f)\n",
    "    return pd.DataFrame.from_dict(data, orient='index')\n",
    "\n",
    "# Load the JSON files into pandas DataFrames\n",
    "train_df = load_json_to_df(path_to_trai_json)\n",
    "val_df = load_json_to_df(path_to_val_json)\n",
    "test_df = load_json_to_df(path_to_test_json)\n",
    "\n",
    "print(\"Train df shape:\", train_df.shape)\n",
    "print(\"Validation df shape:\", val_df.shape)\n",
    "print(\"Test df shape:\", test_df.shape)\n",
    "\n",
    "train_df.head(3)"
   ]
  },
  {
   "cell_type": "markdown",
   "metadata": {
    "id": "8O5lEVRba-Uu"
   },
   "source": [
    "<a name='corpus-settings'></a>\n",
    "# Corpus Settings\n",
    "In this step, we will modify the dataset with defined rules settings."
   ]
  },
  {
   "cell_type": "code",
   "execution_count": null,
   "metadata": {
    "colab": {
     "base_uri": "https://localhost:8080/"
    },
    "executionInfo": {
     "elapsed": 6,
     "status": "ok",
     "timestamp": 1736801817452,
     "user": {
      "displayName": "Seyedali Shohadaeolhosseini",
      "userId": "07992724724533035419"
     },
     "user_tz": -60
    },
    "id": "9ZAavp_lxV0X",
    "outputId": "38664e7b-96d2-462b-dcf4-b1f3dc3f6cdf"
   },
   "outputs": [
    {
     "name": "stdout",
     "output_type": "stream",
     "text": [
      "Train df shape: (2870, 4)\n",
      "Validation df shape: (158, 4)\n",
      "Test df shape: (286, 4)\n",
      "\n",
      "=== Number of datapoints per dataset&class ===\n",
      "Training Set:\n",
      "hard_label_task1\n",
      "0    1733\n",
      "1    1137\n",
      "Name: count, dtype: int64\n",
      "\n",
      "Validation Set:\n",
      "hard_label_task1\n",
      "0    90\n",
      "1    68\n",
      "Name: count, dtype: int64\n",
      "\n",
      "Test Set:\n",
      "hard_label_task1\n",
      "0    160\n",
      "1    126\n",
      "Name: count, dtype: int64\n"
     ]
    }
   ],
   "source": [
    "def majority_voting(labels):\n",
    "    count = Counter(labels)\n",
    "    if count['YES'] > count['NO']:\n",
    "        return 'YES'\n",
    "    elif count['NO'] > count['YES']:\n",
    "        return 'NO'\n",
    "    else:\n",
    "        return None\n",
    "\n",
    "def initial_process(df):\n",
    "    # Generate hard labels using majority voting\n",
    "    df['hard_label_task1'] = df['labels_task1'].apply(majority_voting)\n",
    "\n",
    "    # Remove rows without a clear majority\n",
    "    df = df.dropna(subset=['hard_label_task1'])\n",
    "\n",
    "    # Filter for English tweets\n",
    "    df = df[df['lang'] == 'en']\n",
    "\n",
    "    # Keep only relevant columns\n",
    "    df = df[['id_EXIST', 'lang', 'tweet', 'hard_label_task1']]\n",
    "\n",
    "    # Encode the hard labels\n",
    "    df['hard_label_task1'] = df['hard_label_task1'].map({'YES': 1, 'NO': 0})\n",
    "\n",
    "    # Display the resulting DataFrame\n",
    "    return df\n",
    "\n",
    "train_df = initial_process(train_df)\n",
    "val_df = initial_process(val_df)\n",
    "test_df = initial_process(test_df)\n",
    "\n",
    "print(\"Train df shape:\", train_df.shape)\n",
    "print(\"Validation df shape:\", val_df.shape)\n",
    "print(\"Test df shape:\", test_df.shape)\n",
    "print(\"\\n=== Number of datapoints per dataset&class ===\")\n",
    "print(\"Training Set:\")\n",
    "print(train_df['hard_label_task1'].value_counts())\n",
    "print(\"\\nValidation Set:\")\n",
    "print(val_df['hard_label_task1'].value_counts())\n",
    "print(\"\\nTest Set:\")\n",
    "print(test_df['hard_label_task1'].value_counts())"
   ]
  },
  {
   "cell_type": "markdown",
   "metadata": {
    "id": "Q8qX8WQ89SYL"
   },
   "source": [
    "Results above shows the the number of datapoints that we have for the `none sexist` class, class 0, is slightly more than the other one."
   ]
  },
  {
   "cell_type": "markdown",
   "metadata": {
    "id": "kKqd-CPV9qKM"
   },
   "source": [
    "We didn't get rid of this unbalanced dataset in this project. In fact, using this unbalance dataset, we have created another training dataset in which the class with higher frequency is downsampled to the other class and we have a balance number of both. Hence, from now on we have two datsets:\n",
    "- `train_df`: The main dataset with its unbalancy.\n",
    "- `train_df_balanced`: The new dataset in which we have a same amount of classes.\n",
    "\n",
    "In this project we will use both of these datasets to train the defined models and we will discuss and analyse them together."
   ]
  },
  {
   "cell_type": "markdown",
   "metadata": {
    "id": "tZUgg9GP-ou6"
   },
   "source": [
    "Next cell, creates this second balanced dataset with downsampling. Moreover, the number of data is few, and downsampling narrows it even more. Hence, a better approach would be to upsample the data of the class with fewer frequency, which can be done in future experiments."
   ]
  },
  {
   "cell_type": "code",
   "execution_count": null,
   "metadata": {
    "colab": {
     "base_uri": "https://localhost:8080/"
    },
    "executionInfo": {
     "elapsed": 5,
     "status": "ok",
     "timestamp": 1736801817452,
     "user": {
      "displayName": "Seyedali Shohadaeolhosseini",
      "userId": "07992724724533035419"
     },
     "user_tz": -60
    },
    "id": "6EGinB7IZRDT",
    "outputId": "037f37e4-5537-45fd-a7f0-9b2018823728"
   },
   "outputs": [
    {
     "name": "stdout",
     "output_type": "stream",
     "text": [
      "=== Number of datapoints per dataset&class after downsampling ===\n",
      "hard_label_task1\n",
      "0    1137\n",
      "1    1137\n",
      "Name: count, dtype: int64\n",
      "<class 'pandas.core.frame.DataFrame'>\n",
      "Index: 2274 entries, 200685 to 203260\n",
      "Data columns (total 4 columns):\n",
      " #   Column            Non-Null Count  Dtype \n",
      "---  ------            --------------  ----- \n",
      " 0   id_EXIST          2274 non-null   object\n",
      " 1   lang              2274 non-null   object\n",
      " 2   tweet             2274 non-null   object\n",
      " 3   hard_label_task1  2274 non-null   int64 \n",
      "dtypes: int64(1), object(3)\n",
      "memory usage: 88.8+ KB\n"
     ]
    }
   ],
   "source": [
    "# Separate majority and minority classes\n",
    "df_majority = train_df[train_df['hard_label_task1'] == 0]\n",
    "df_minority = train_df[train_df['hard_label_task1'] == 1]\n",
    "\n",
    "# Downsample majority class\n",
    "df_majority_downsampled = resample(df_majority,\n",
    "                                 replace=False,    # sample without replacement\n",
    "                                 n_samples=len(df_minority),     # to match minority class\n",
    "                                 random_state=123) # reproducible results\n",
    "\n",
    "# Combine minority class with downsampled majority class\n",
    "train_df_balanced = pd.concat([df_majority_downsampled, df_minority])\n",
    "\n",
    "# Display new class counts\n",
    "print(\"=== Number of datapoints per dataset&class after downsampling ===\")\n",
    "print(train_df_balanced['hard_label_task1'].value_counts())\n",
    "train_df_balanced.info()"
   ]
  },
  {
   "cell_type": "code",
   "execution_count": null,
   "metadata": {
    "colab": {
     "base_uri": "https://localhost:8080/"
    },
    "executionInfo": {
     "elapsed": 5,
     "status": "ok",
     "timestamp": 1736801817452,
     "user": {
      "displayName": "Seyedali Shohadaeolhosseini",
      "userId": "07992724724533035419"
     },
     "user_tz": -60
    },
    "id": "REywhR2snBaE",
    "outputId": "7dd2fed2-cc15-43bf-bd96-81fea3aeea33"
   },
   "outputs": [
    {
     "name": "stdout",
     "output_type": "stream",
     "text": [
      "<class 'pandas.core.frame.DataFrame'>\n",
      "Index: 2870 entries, 200002 to 203260\n",
      "Data columns (total 4 columns):\n",
      " #   Column            Non-Null Count  Dtype \n",
      "---  ------            --------------  ----- \n",
      " 0   id_EXIST          2870 non-null   object\n",
      " 1   lang              2870 non-null   object\n",
      " 2   tweet             2870 non-null   object\n",
      " 3   hard_label_task1  2870 non-null   int64 \n",
      "dtypes: int64(1), object(3)\n",
      "memory usage: 176.6+ KB\n"
     ]
    }
   ],
   "source": [
    "train_df.info()"
   ]
  },
  {
   "cell_type": "markdown",
   "metadata": {
    "collapsed": false,
    "id": "NKufy9NVujy3"
   },
   "source": [
    "<a name='data-cleaning'></a>\n",
    "# Data Cleaning\n",
    "In the context of tweets, we have noisy and informal data that often includes unnecessary elements like emojis, hashtags, mentions, and URLs. These elements may interfere with the text analysis. Although these may be important in other tasks, here we will drop them from the data.\n",
    "\n",
    "We will do a small data cleaning to omit the parts of the tweet that does not contain any information. This is done by the following `clean tweet` function which takes a tweet in and returns it cleaner than ever ;).\n",
    "\n",
    "> Writing regex patterns is important, complex and may some time need a little bit experience. Here, I have used Gemini to get the initial patterns. However, as LLMs make mistakes (quite a lot) I have also used the online tool [Regex 101](https://regex101.com/) to check the soundness of patterns. Following cell is a small colaboration with Gemini."
   ]
  },
  {
   "cell_type": "code",
   "execution_count": null,
   "metadata": {
    "id": "5We8_7IsyaUP"
   },
   "outputs": [],
   "source": [
    "def clean_tweet(tweet):\n",
    "    # Remove(substitute with \"\") emojis and non Ascii\n",
    "    tweet = re.sub(r'[^\\x00-\\x7F]+', '', tweet)\n",
    "\n",
    "    # Remove hashtags or complex usage of hashtags\n",
    "    tweet = re.sub(r'#+\\w+|#+', '', tweet)\n",
    "\n",
    "    # Remove mentions or more complex uses of @\n",
    "    tweet = re.sub(r'@+\\w+|@+', '', tweet)\n",
    "\n",
    "    # Remove URLs\n",
    "    tweet = re.sub(r'http\\S+|www\\S+|https\\S+', '', tweet)\n",
    "\n",
    "    # Remove special characters; Look for something, remove something else\n",
    "    tweet = re.sub(r'[^\\w\\s]', '', tweet)\n",
    "\n",
    "    # Remove specific quote characters; less probable to occur\n",
    "    tweet = re.sub(r'[\\u2018\\u2019\\u201C\\u201D]', '', tweet)\n",
    "\n",
    "    return tweet\n",
    "\n",
    "# Apply the cleaning function to the 'tweet' column\n",
    "train_df['cleaned_tweet'] = train_df['tweet'].apply(clean_tweet)\n",
    "train_df_balanced['cleaned_tweet'] = train_df_balanced['tweet'].apply(clean_tweet)\n",
    "val_df['cleaned_tweet'] = val_df['tweet'].apply(clean_tweet)\n",
    "test_df['cleaned_tweet'] = test_df['tweet'].apply(clean_tweet)"
   ]
  },
  {
   "cell_type": "markdown",
   "metadata": {
    "id": "eu4ISFpnJmVg"
   },
   "source": [
    "In the next cell, we have used the `nltk` tool to lemmatize the input text to their base form. This process, as well as the cleanning process we saw in the previous cell, is being applied to the both of the training sets along with validation and test sets."
   ]
  },
  {
   "cell_type": "code",
   "execution_count": null,
   "metadata": {
    "colab": {
     "base_uri": "https://localhost:8080/"
    },
    "executionInfo": {
     "elapsed": 5018,
     "status": "ok",
     "timestamp": 1736801822466,
     "user": {
      "displayName": "Seyedali Shohadaeolhosseini",
      "userId": "07992724724533035419"
     },
     "user_tz": -60
    },
    "id": "q4Ky92ODceb2",
    "outputId": "cc272492-8181-4d31-d0b7-aa848d4e8b02"
   },
   "outputs": [
    {
     "name": "stderr",
     "output_type": "stream",
     "text": [
      "[nltk_data] Downloading package wordnet to /root/nltk_data...\n",
      "[nltk_data] Downloading package omw-1.4 to /root/nltk_data...\n"
     ]
    },
    {
     "data": {
      "text/plain": [
       "((2870, 6), (2274, 6))"
      ]
     },
     "execution_count": 10,
     "metadata": {},
     "output_type": "execute_result"
    }
   ],
   "source": [
    "#Lemmatization\n",
    "nltk.download('wordnet')\n",
    "nltk.download('omw-1.4')\n",
    "\n",
    "lemmatizer = WordNetLemmatizer()\n",
    "\n",
    "def lemmatize_text(text):\n",
    "    '''\n",
    "    inputes:\n",
    "        - text: the input tweet\n",
    "    outputs:\n",
    "        - lemmatized_words: the lemmatized tweet\n",
    "    '''\n",
    "    words = text.split()\n",
    "    lemmatized_words = [lemmatizer.lemmatize(word) for word in words]\n",
    "    return \" \".join(lemmatized_words)\n",
    "\n",
    "# Apply the cleaning function to the 'tweet' column\n",
    "train_df['lemmatized_tweet'] = train_df['cleaned_tweet'].apply(lemmatize_text)\n",
    "train_df_balanced['lemmatized_tweet'] = train_df_balanced['cleaned_tweet'].apply(lemmatize_text)\n",
    "val_df['lemmatized_tweet'] = val_df['cleaned_tweet'].apply(lemmatize_text)\n",
    "test_df['lemmatized_tweet'] = test_df['cleaned_tweet'].apply(lemmatize_text)\n",
    "train_df.shape, train_df_balanced.shape"
   ]
  },
  {
   "cell_type": "markdown",
   "metadata": {
    "id": "KMQqyE9df7bu"
   },
   "source": [
    "<a name='bidirectional-LSTM-model'></a>\n",
    "# Bidirectional LSTM Model\n",
    "In this section we will go through step to step preparation of our architecure and we will implements necessary parts that have to be done before doing training."
   ]
  },
  {
   "cell_type": "markdown",
   "metadata": {
    "id": "u0oCc481yJ1d"
   },
   "source": [
    "<a name='tokenization'></a>\n",
    "## Step 1 - Tokenization\n",
    "We have preprocessed the entire data we had. Now it's time tokenize the data and create our vocabulary. We can do this part with two approach here:\n",
    "- One approach is to just simply consider all the word type (words that are unique) and are processed and lemmatized as a token and add them to vocabulary list.\n",
    "- Second approach is to choose another method for tokenization. Like BPE.\n",
    "The second approach is a good approach which can be easily implemented with the provided functions by the `SentencePiece`. BPE is a well known algorithm which, by considering a smaller parts of a word as a token, decrease the probabilty of encountering the OOV words.\n",
    "\n",
    "However, for the simplicity, we have choosen the first approach. We added all the word types appeared in the training set to the vocabulary. Moreover, since we are using GloVe, we also added the words of the GloVe to the vocabulary as well which helps us enocountering less OOV and use the existing knowledge.\n",
    "\n",
    "> Our vocablary for this project consists of the union of all the word types in the training set and in the GloVe embeddings dataset.\n",
    "\n",
    "In the following two subsections we have done this. Moreover, and instantiation of BPE is provided here, commented and unused, for seekers of using BPE."
   ]
  },
  {
   "cell_type": "markdown",
   "metadata": {
    "id": "5beqALd1zORL"
   },
   "source": [
    "<a name='glove'></a>\n",
    "### Step 1.1 - Download and import GloVe\n",
    "Importing the GloVe to the project."
   ]
  },
  {
   "cell_type": "code",
   "execution_count": null,
   "metadata": {
    "id": "8ILzg1APzAY5"
   },
   "outputs": [],
   "source": [
    "# Load GloVe embeddings\n",
    "glove_embeddings = {}\n",
    "embedding_dim = 100 # ensure the vector has the correct dim before converting and storing\n",
    "\n",
    "# Update the following path base on your own environment\n",
    "path_to_glove = '/content/drive/MyDrive/Colab Notebooks/Sexism Detection/embeddings/Glove.6B.50d.100d.200d.300d/glove.6B.100d.txt'\n",
    "with open(path_to_glove, 'r', encoding='utf-8') as f:\n",
    "    cnt = 0\n",
    "    for line in f:\n",
    "        values = line.split()\n",
    "        word = values[0]\n",
    "        if len(values[1:]) == embedding_dim:\n",
    "            try: vector = np.asarray(values[1:], \"float32\")\n",
    "            except: continue\n",
    "            glove_embeddings[word] = vector"
   ]
  },
  {
   "cell_type": "markdown",
   "metadata": {
    "id": "U9XO-L7k06Db"
   },
   "source": [
    "<a name='word-tokenization'></a>\n",
    "### Step 1.2 - Building Vocabulary - Word Tokenization\n",
    "In the next cell, we will create the vocabulary list as explained before. Having said that, since we have two training datasets, we need to also have two different vocabularies as the number of words or even word types may vary."
   ]
  },
  {
   "cell_type": "code",
   "execution_count": null,
   "metadata": {
    "id": "Q6OpH8y6HWzy"
   },
   "outputs": [],
   "source": [
    "def create_vocabulary_WT(df, embedding_dictionary):\n",
    "    ''' Word Tokenizatino\n",
    "    inputs:\n",
    "        - df: It is the dataframe of training set that contains the tweets\n",
    "        - embedding_dictionary: the dictionary mapping the words to embeddings\n",
    "    '''\n",
    "    train_tokens = []\n",
    "    for tweet in df['lemmatized_tweet']:\n",
    "        train_tokens.extend(tweet.split())\n",
    "    vocabulary = set(train_tokens) # Removing the multiple occurences\n",
    "\n",
    "    # Adding Glove words to the vocabulary\n",
    "    vocabulary.update(glove_embeddings.keys())\n",
    "    return vocabulary"
   ]
  },
  {
   "cell_type": "markdown",
   "metadata": {
    "id": "37fUNoy21868"
   },
   "source": [
    "Creating vocabulary list from the training test helps us to not encounter [UNK] words while training the model. Adding the Glove tokens to the vocabulary list will also helps us to use the existing knowledge for trainig. Since, [UNK] words are expensive and affects the performance, using the existing knowledge helps the model to encounter to [UNK] fewer time and as the result understand the text and data better.\n"
   ]
  },
  {
   "cell_type": "code",
   "execution_count": null,
   "metadata": {
    "colab": {
     "base_uri": "https://localhost:8080/"
    },
    "executionInfo": {
     "elapsed": 4,
     "status": "ok",
     "timestamp": 1736801833152,
     "user": {
      "displayName": "Seyedali Shohadaeolhosseini",
      "userId": "07992724724533035419"
     },
     "user_tz": -60
    },
    "id": "XRRoTmU21PxY",
    "outputId": "6ba0e39f-4217-4efa-ce5e-0095fe46f5b6"
   },
   "outputs": [
    {
     "name": "stdout",
     "output_type": "stream",
     "text": [
      "Length of vocabulary of union GloVe and Training data:  405482\n",
      "Length of vocabulary_balanced of union GloVe and Training data:  404439\n"
     ]
    }
   ],
   "source": [
    "# Create vocabulary from training set\n",
    "vocabulary = create_vocabulary_WT(train_df, glove_embeddings)\n",
    "vocab_count = len(vocabulary)\n",
    "print(\"Length of vocabulary of union GloVe and Training data: \", vocab_count)\n",
    "\n",
    "vocabulary_balanced = create_vocabulary_WT(train_df_balanced, glove_embeddings)\n",
    "vocab_balanced_count = len(vocabulary_balanced)\n",
    "print(\"Length of vocabulary_balanced of union GloVe and Training data: \", vocab_balanced_count)"
   ]
  },
  {
   "cell_type": "markdown",
   "metadata": {
    "id": "cFbpvB6NQnx4"
   },
   "source": [
    "<a name='bpe'></a>\n",
    "### Step 1.3 - Building Vocabulary - BPE Tokenization\n",
    "In this part we will also provide a second tokenization technique which will help us in comparing the models in terms of different tokenizatins."
   ]
  },
  {
   "cell_type": "code",
   "execution_count": 1,
   "metadata": {
    "executionInfo": {
     "elapsed": 4,
     "status": "ok",
     "timestamp": 1738801984705,
     "user": {
      "displayName": "Seyedali Shohadaeolhosseini",
      "userId": "07992724724533035419"
     },
     "user_tz": -60
    },
    "id": "5X3tSq9ASKJS"
   },
   "outputs": [],
   "source": [
    "# %%capture\n",
    "# !pip3 install sentencepiece\n",
    "\n",
    "# import sentencepiece as spm"
   ]
  },
  {
   "cell_type": "code",
   "execution_count": 2,
   "metadata": {
    "executionInfo": {
     "elapsed": 8,
     "status": "ok",
     "timestamp": 1738801984751,
     "user": {
      "displayName": "Seyedali Shohadaeolhosseini",
      "userId": "07992724724533035419"
     },
     "user_tz": -60
    },
    "id": "dBRxYTarSb6D"
   },
   "outputs": [],
   "source": [
    "# corpus = train_df['lemmatized_tweet']\n",
    "\n",
    "# # Combining the text data into a single string\n",
    "# text = \"\\n\".join(corpus)\n",
    "\n",
    "# # Saving the text corpus to a file (needed for SentencePiece)\n",
    "# with open(\"lemmatized_tweet.txt\", \"w\") as f:\n",
    "#     f.write(text)"
   ]
  },
  {
   "cell_type": "code",
   "execution_count": 3,
   "metadata": {
    "executionInfo": {
     "elapsed": 1,
     "status": "ok",
     "timestamp": 1738801984754,
     "user": {
      "displayName": "Seyedali Shohadaeolhosseini",
      "userId": "07992724724533035419"
     },
     "user_tz": -60
    },
    "id": "z3VlEJ5eSNxN"
   },
   "outputs": [],
   "source": [
    "# spm.SentencePieceTrainer.Train(\n",
    "#     \"--input=lemmatized_tweet.txt \"\n",
    "#     \"--model_prefix=bpe_lemmatized_tweet \"\n",
    "#     \"--vocab_size=8000 \"\n",
    "#     \"--model_type=bpe \"\n",
    "#     \"--pad_id=0 --unk_id=1 --bos_id=2 --eos_id=3 \"\n",
    "#     \"--minloglevel=2\"\n",
    "# )"
   ]
  },
  {
   "cell_type": "code",
   "execution_count": 4,
   "metadata": {
    "executionInfo": {
     "elapsed": 1,
     "status": "ok",
     "timestamp": 1738801984760,
     "user": {
      "displayName": "Seyedali Shohadaeolhosseini",
      "userId": "07992724724533035419"
     },
     "user_tz": -60
    },
    "id": "W4813_BQSThq"
   },
   "outputs": [],
   "source": [
    "# # Load the trained BPE model\n",
    "# sp = spm.SentencePieceProcessor(model_file=\"/content/bpe_lemmatized_tweet.model\")\n",
    "\n",
    "# # Tokenize a sample sentence\n",
    "# tokens = sp.encode(train_df['lemmatized_tweet'][1], out_type=str)\n",
    "\n",
    "# print(\"Original Sentence:\\n\", train_df['lemmatized_tweet'][1])\n",
    "# print(\"BPE Tokens:\\n\", tokens)"
   ]
  },
  {
   "cell_type": "markdown",
   "metadata": {
    "id": "QNvRuzG82bUM"
   },
   "source": [
    "<a name='embeddings'></a>\n",
    "## Step 2 - Embeddings\n",
    "Architectures work with numerical values. Hence, in this second step, our task is to convert each token to their numerical representation, which in practice are called embeddings.\n",
    "- For the embeddings, we will use the [GloVe Embeddings](https://paperswithcode.com/method/glove).\n",
    "- This process can be handle easily by only going through each token in each tweet in each dataset, and then find that token in the Glove, and choose that embeddings defined in the GloVe for that token.\n",
    "- In this step, we also create an embedding matrix, which simply is a matrix of dimension (length of vocabulary) * (Length of embedding)."
   ]
  },
  {
   "cell_type": "markdown",
   "metadata": {
    "id": "LWiqP72wQuZs"
   },
   "source": [
    "<a name='word-ID'></a>\n",
    "### Step 2.1 - Words' ID and Tweets' Sequence IDs\n",
    "The next cell will implement `word signiture` function which is responsible for defining an ID for each token in the vocabulary. Having said that, we also do have [PAD] (makes sure sequences of input has same shape) and [UNK] tokens, for special situation. Hence, we will also add these two tokens and their corresponding IDs to the vocabulary as well."
   ]
  },
  {
   "cell_type": "code",
   "execution_count": null,
   "metadata": {
    "id": "bs-sDFbeIgD2"
   },
   "outputs": [],
   "source": [
    "def word_signiture(vocabulary, PAD_TOKEN, UNK_TOKEN):\n",
    "    word_to_index = {}\n",
    "    index_to_word = {}\n",
    "\n",
    "    # Convert the vocabulary set to a list for stable ordering\n",
    "    vocab_list = sorted(list(vocabulary))\n",
    "\n",
    "    for idx, word in enumerate(vocab_list, start=2):\n",
    "        word_to_index[word] = idx\n",
    "        index_to_word[idx] = word\n",
    "\n",
    "    # adding [pad] token with id 0\n",
    "    word_to_index[PAD_TOKEN] = 0\n",
    "    index_to_word[0] = PAD_TOKEN\n",
    "\n",
    "    # adding [unk] token with id 1\n",
    "    word_to_index[UNK_TOKEN] = 1\n",
    "    index_to_word[1] = UNK_TOKEN\n",
    "\n",
    "    return word_to_index, index_to_word"
   ]
  },
  {
   "cell_type": "code",
   "execution_count": null,
   "metadata": {
    "colab": {
     "base_uri": "https://localhost:8080/"
    },
    "executionInfo": {
     "elapsed": 388,
     "status": "ok",
     "timestamp": 1736801834510,
     "user": {
      "displayName": "Seyedali Shohadaeolhosseini",
      "userId": "07992724724533035419"
     },
     "user_tz": -60
    },
    "id": "zXNLxJMg7nfA",
    "outputId": "84d3a9d1-b075-47e7-a07f-95c6c84ee710"
   },
   "outputs": [
    {
     "name": "stdout",
     "output_type": "stream",
     "text": [
      "Final vocabulary size (with PAD, UNK): 405484\n",
      "Final vocabulary balanced size (with PAD, UNK): 404441\n"
     ]
    }
   ],
   "source": [
    "UNK_TOKEN = \"<UNK>\"\n",
    "PAD_TOKEN = \"<PAD>\"\n",
    "UNK_EMBED = np.random.rand(embedding_dim)\n",
    "\n",
    "word_to_index, index_to_word = word_signiture(vocabulary, PAD_TOKEN, UNK_TOKEN)\n",
    "word_to_index_balanced, index_to_word_balanced = word_signiture(vocabulary_balanced, PAD_TOKEN, UNK_TOKEN)\n",
    "\n",
    "# Updating size of vocabularies due to adding two special tokens\n",
    "vocab_count = len(word_to_index)\n",
    "vocab_balanced_count = len(word_to_index_balanced)\n",
    "\n",
    "print(\"Final vocabulary size (with PAD, UNK):\", vocab_count)\n",
    "print(\"Final vocabulary balanced size (with PAD, UNK):\", vocab_balanced_count)"
   ]
  },
  {
   "cell_type": "markdown",
   "metadata": {
    "id": "JV3Nsxcy8HIJ"
   },
   "source": [
    "Now that we have defined corresponding IDs for each token, in the following we will define the sequence of IDs for each tweet. In other words, we have implemented the `text to sequence` function which in input takes a text(a tweet) along with the dictionary of mapping word to index. Then, for each word in the tweet, it replaces it with its corresponding ID and returns the corresponding sequences of IDs for the given tweet.\n",
    "- Keep in mind, since we have two training data, this has to be done twice for each dataset. Because the generated vocabualry list has different words and different IDs for words as a consequence.\n",
    "- Another important thing that needs to be mentioned is the unknown token. When we are applying this function to the validation and test datasets, we may encounter words in these two datasets that are not in the vocabulary. Hence, for these words, we are assigning the ID of a special token, the unknown token we discussed earlier."
   ]
  },
  {
   "cell_type": "code",
   "execution_count": null,
   "metadata": {
    "id": "AiNi-RX78Zbs"
   },
   "outputs": [],
   "source": [
    "def text_to_sequence(text, word_to_index, unk_token=UNK_TOKEN):\n",
    "    tokens = text.split() # Since we simply considered each word as a token\n",
    "    seq = []\n",
    "    for token in tokens:\n",
    "        if token in word_to_index.keys():\n",
    "            seq.append(word_to_index[token]) # if token is known, add its ID\n",
    "        else: # then it is unknown, add UNK_TOKEN ID\n",
    "            seq.append(word_to_index[unk_token])\n",
    "    return seq\n",
    "\n",
    "# ------ Unbalanced Data\n",
    "train_sequences = []\n",
    "for tweet in train_df['lemmatized_tweet']:\n",
    "    train_sequences.append(text_to_sequence(tweet, word_to_index))\n",
    "val_sequences = []\n",
    "for tweet in val_df['lemmatized_tweet']:\n",
    "    val_sequences.append(text_to_sequence(tweet, word_to_index))\n",
    "test_sequences = []\n",
    "for tweet in test_df['lemmatized_tweet']:\n",
    "    test_sequences.append(text_to_sequence(tweet, word_to_index))\n",
    "\n",
    "# ------ Balanced Data\n",
    "train_balanced_sequences = []\n",
    "for tweet in train_df_balanced['lemmatized_tweet']:\n",
    "    train_balanced_sequences.append(text_to_sequence(tweet, word_to_index_balanced))\n",
    "val_balanced_sequences = []\n",
    "for tweet in val_df['lemmatized_tweet']:\n",
    "    val_balanced_sequences.append(text_to_sequence(tweet, word_to_index_balanced))\n",
    "test_balanced_sequences = []\n",
    "for tweet in test_df['lemmatized_tweet']:\n",
    "    test_balanced_sequences.append(text_to_sequence(tweet, word_to_index_balanced))"
   ]
  },
  {
   "cell_type": "markdown",
   "metadata": {
    "id": "Y2nxrcjrM5lx"
   },
   "source": [
    "<a name='word-OOV'></a>\n",
    "### Step 2.2 - Checking OOV\n",
    "Time to check out the status of Words that are not in the vocabulary. Since we have created our vocabulary based on the words exists in the unipn of the training text and GloVe embeddings, we cannot expect existence of OOV in the training set. However, same doesn't apply for the test set and validation set which we have checked in the following:"
   ]
  },
  {
   "cell_type": "code",
   "execution_count": null,
   "metadata": {
    "id": "39i2IoUDNeE_"
   },
   "outputs": [],
   "source": [
    "def check_OOV(sequences, word_to_index):\n",
    "    oov_count = 0\n",
    "    for sequence in sequences:\n",
    "        for token_id in sequence:\n",
    "            if index_to_word[token_id] == UNK_TOKEN:\n",
    "                oov_count += 1\n",
    "    return oov_count"
   ]
  },
  {
   "cell_type": "code",
   "execution_count": null,
   "metadata": {
    "colab": {
     "base_uri": "https://localhost:8080/"
    },
    "executionInfo": {
     "elapsed": 2,
     "status": "ok",
     "timestamp": 1736801835468,
     "user": {
      "displayName": "Seyedali Shohadaeolhosseini",
      "userId": "07992724724533035419"
     },
     "user_tz": -60
    },
    "id": "K9nBeUodObJx",
    "outputId": "14f35eb6-45ae-427d-d17d-b65b300abf44"
   },
   "outputs": [
    {
     "name": "stdout",
     "output_type": "stream",
     "text": [
      "OOV in unbalanced training set: 0\n",
      "OOV in unbalanced validation set: 295\n",
      "OOV in unbalanced test set: 456\n"
     ]
    }
   ],
   "source": [
    "print(\"OOV in unbalanced training set:\", check_OOV(train_sequences, index_to_word))\n",
    "print(\"OOV in unbalanced validation set:\", check_OOV(val_sequences, index_to_word))\n",
    "print(\"OOV in unbalanced test set:\", check_OOV(test_sequences, index_to_word))"
   ]
  },
  {
   "cell_type": "code",
   "execution_count": null,
   "metadata": {
    "colab": {
     "base_uri": "https://localhost:8080/"
    },
    "executionInfo": {
     "elapsed": 2,
     "status": "ok",
     "timestamp": 1736801835468,
     "user": {
      "displayName": "Seyedali Shohadaeolhosseini",
      "userId": "07992724724533035419"
     },
     "user_tz": -60
    },
    "id": "t6hmt928AqLU",
    "outputId": "67cbe682-6d7d-464d-fbcf-00fb16c9e78c"
   },
   "outputs": [
    {
     "name": "stdout",
     "output_type": "stream",
     "text": [
      "OOV in balanced training set: 0\n",
      "OOV in balanced validation set: 315\n",
      "OOV in balanced test set: 473\n"
     ]
    }
   ],
   "source": [
    "print(\"OOV in balanced training set:\", check_OOV(train_balanced_sequences, index_to_word))\n",
    "print(\"OOV in balanced validation set:\", check_OOV(val_balanced_sequences, index_to_word))\n",
    "print(\"OOV in balanced test set:\", check_OOV(test_balanced_sequences, index_to_word))"
   ]
  },
  {
   "cell_type": "markdown",
   "metadata": {
    "id": "Fi0T80o0Olec"
   },
   "source": [
    "These numbers are the total number of OOV tokens. For the validation set, the model will encounter 315 words that are unknown for it."
   ]
  },
  {
   "cell_type": "markdown",
   "metadata": {
    "id": "F7F6c7IDBw64"
   },
   "source": [
    "<a name='embedding-matrix'></a>\n",
    "### Step 2.3 - Embedding Matrix\n",
    "An embedding layer needs a embedding matrix. In the next cell, we are defining the embedding matrix, which simply is a matrix of tokens by their corresponding embedding.\n",
    "\n",
    "In the following cell, since the embedding matrix is initially being created based on vocabulary, we don't need to take care of the [UNK] as they don't happen. Moreover, we are using a fix embedding for the unknown words. Also, words that came from training set, may not be in GloVe, which means that we don't have any embeddings defined for them in the Glove. For these words we have choosen a random numbers from a normal distribution.\n",
    "\n",
    "A better and more professional way for deciding the embedding of the words that are not in the GloVe could be to similarity techniques, to take the neighbour close words to that words hoping that maybe it captures some meaning and characteristics from them."
   ]
  },
  {
   "cell_type": "code",
   "execution_count": null,
   "metadata": {
    "id": "-UKd8pj3KzS8"
   },
   "outputs": [],
   "source": [
    "def embedding_matrix_generator(embedding_dim,\n",
    "                               word_to_index,\n",
    "                               PAD_TOKEN,\n",
    "                               UNK_TOKEN, UNK_EMBED):\n",
    "    # Matrix Initialization\n",
    "    embedding_matrix = np.zeros((len(word_to_index), embedding_dim))\n",
    "\n",
    "    for word, idx in word_to_index.items():\n",
    "        if word == PAD_TOKEN:\n",
    "            continue # Leave it zero\n",
    "        elif word == UNK_TOKEN:\n",
    "            embedding_matrix[idx] = UNK_EMBED # is defined earlier; fixed; randomly created\n",
    "        elif word in glove_embeddings.keys():\n",
    "            embedding_matrix[idx] = glove_embeddings[word]\n",
    "        else:\n",
    "            # Word not found in GloVe; we define a representation\n",
    "            embedding_matrix[idx] = np.random.normal(scale=0.01, size=(embedding_dim,))\n",
    "\n",
    "    return embedding_matrix"
   ]
  },
  {
   "cell_type": "code",
   "execution_count": null,
   "metadata": {
    "id": "V2_3_v1QBQSU"
   },
   "outputs": [],
   "source": [
    "embedding_matrix = embedding_matrix_generator(embedding_dim,\n",
    "                                              word_to_index,\n",
    "                                              PAD_TOKEN,\n",
    "                                              UNK_TOKEN, UNK_EMBED)\n",
    "\n",
    "embedding_matrix_balanced = embedding_matrix_generator(embedding_dim,\n",
    "                                                       word_to_index_balanced,\n",
    "                                                       PAD_TOKEN,\n",
    "                                                       UNK_TOKEN, UNK_EMBED)"
   ]
  },
  {
   "cell_type": "markdown",
   "metadata": {
    "id": "bMHAiSp-_S_b"
   },
   "source": [
    "<a name='padding'></a>\n",
    "## Step 3 - Padding\n",
    "Each input is a sequence of text that may have different number of tokens and different length. The model cannot handle these kind of variations and needs a fixed input in terms of length. Hence, we need to make sure that the sequences all have the same length. Generally this process is called padding. It involves, increasing or shrinking the sequences of tweets.\n",
    "\n",
    "\n",
    "This can be achieved easily by defining a maximum length sequence parameter. Based on this variable, we convert the input sequences to have a sequence of length `maximum length`.\n",
    "\n"
   ]
  },
  {
   "cell_type": "markdown",
   "metadata": {
    "id": "6IHkwliPWkgJ"
   },
   "source": [
    "We will define maximum length parameter to be equal to the 95% of sequences length."
   ]
  },
  {
   "cell_type": "code",
   "execution_count": null,
   "metadata": {
    "colab": {
     "base_uri": "https://localhost:8080/"
    },
    "collapsed": true,
    "executionInfo": {
     "elapsed": 4,
     "status": "ok",
     "timestamp": 1736801837540,
     "user": {
      "displayName": "Seyedali Shohadaeolhosseini",
      "userId": "07992724724533035419"
     },
     "user_tz": -60
    },
    "id": "aMAiUwp6_avq",
    "outputId": "eb139cdd-8ee1-465d-ae0f-9916bb30df7f"
   },
   "outputs": [
    {
     "name": "stdout",
     "output_type": "stream",
     "text": [
      "The length of the 95 of the sequences is 49\n"
     ]
    },
    {
     "data": {
      "image/png": "[encoded data removed]",
      "text/plain": [
       "<Figure size 640x480 with 1 Axes>"
      ]
     },
     "metadata": {},
     "output_type": "display_data"
    }
   ],
   "source": [
    "# Testing on unbalanced dataset\n",
    "lengths = [len(seq) for seq in train_sequences]\n",
    "max_length = int(np.percentile(lengths, 95))\n",
    "print(\"The length of the 95 of the sequences is\", max_length)\n",
    "\n",
    "plt.hist(lengths, bins=50)\n",
    "plt.xlabel(\"Tweet Length (tokens)\")\n",
    "plt.ylabel(\"Frequency\")\n",
    "plt.title(\"Distribution of Tweet Lengths\")\n",
    "plt.show()"
   ]
  },
  {
   "cell_type": "markdown",
   "metadata": {
    "id": "-VBfhP0nA_ao"
   },
   "source": [
    "The padding can simply be done with the following code snippet. This code also, truncates the sequences larger than defined max length to have the same length."
   ]
  },
  {
   "cell_type": "code",
   "execution_count": null,
   "metadata": {
    "colab": {
     "base_uri": "https://localhost:8080/"
    },
    "executionInfo": {
     "elapsed": 3,
     "status": "ok",
     "timestamp": 1736801837540,
     "user": {
      "displayName": "Seyedali Shohadaeolhosseini",
      "userId": "07992724724533035419"
     },
     "user_tz": -60
    },
    "id": "ezdPQrQtA20c",
    "outputId": "0b320382-bee5-4b9a-db4a-cd668a9e224a"
   },
   "outputs": [
    {
     "name": "stdout",
     "output_type": "stream",
     "text": [
      "[[198405 197657  17787 269440  13925  44748 132143  62132 362478 274716\n",
      "  373654 313368  92437 259421 400043 359724 245505 230410  76337 243923\n",
      "   58939  65522 362533 237326  76337 187187 238514 193146 259125 283053\n",
      "   45583 193012      0      0      0      0      0      0      0      0\n",
      "       0      0      0      0      0      0      0      0      0]\n",
      " [ 43123 366222  47188 118536  44748 179253 291603 272955 365186 366222\n",
      "  167808 344485 362533  46449 109002 179812 388448 366222 284253 243923\n",
      "  394131 193146  44039  44962 227224  61407 277518 394825  44800 353615\n",
      "  272955 198405 193146 311848      0      0      0      0      0      0\n",
      "       0      0      0      0      0      0      0      0      0]\n",
      " [ 46362 275128  82705 133848  76111  46384  92085 191304 399945  63303\n",
      "   47188  82705 399945 133848 393568  61939  55695  58939 390611 193146\n",
      "       0      0      0      0      0      0      0      0      0      0\n",
      "       0      0      0      0      0      0      0      0      0      0\n",
      "       0      0      0      0      0      0      0      0      0]]\n",
      "\n",
      "\n",
      "[[ 45949  46077  45095  43648 155028 310241 258205 221776 258205  21803\n",
      "  288363 273787  44582   6768  45340  58145  11440 121959  43719  45340\n",
      "   44058  45440  45833  44489  43826 274969  45451      0      0      0\n",
      "       0      0      0      0      0      0      0      0      0      0\n",
      "       0      0      0      0      0      0      0      0      0]\n",
      " [189234 394559 323836 361542 384102  84814 196769 127378 155028 243017\n",
      "   91274 197517 122951 253648  59349 365225 148812 361385 361542 393679\n",
      "  386194      0      0      0      0      0      0      0      0      0\n",
      "       0      0      0      0      0      0      0      0      0      0\n",
      "       0      0      0      0      0      0      0      0      0]\n",
      " [158455  59348 226330 121886 105121 393795 391268  62443 340330 324255\n",
      "  272027 368064 284977 356289  67789 361630 312687 391371 190425 341487\n",
      "  196769 368306 365225  74562 391268 362093  62443  58145 197517 130446\n",
      "  188097 398905 274969  60628 139488 189234 131305 327487 186313 197517\n",
      "  235345  46404 127351 150382 197207 167453 365225  74562 125670]]\n"
     ]
    }
   ],
   "source": [
    "train_padded = pad_sequences(train_sequences, maxlen=max_length, padding='post')\n",
    "val_padded = pad_sequences(val_sequences, maxlen=max_length, padding='post')\n",
    "test_padded = pad_sequences(test_sequences, maxlen=max_length, padding='post')\n",
    "\n",
    "train_balanced_padded = pad_sequences(train_balanced_sequences, maxlen=max_length, padding='post')\n",
    "val_balanced_padded = pad_sequences(val_balanced_sequences, maxlen=max_length, padding='post')\n",
    "test_balanced_padded = pad_sequences(test_balanced_sequences, maxlen=max_length, padding='post')\n",
    "\n",
    "print(train_padded[1:4]);print();print()\n",
    "print(train_balanced_padded[4:7])"
   ]
  },
  {
   "cell_type": "markdown",
   "metadata": {
    "id": "5KrATzcgNxM_"
   },
   "source": [
    "Output proves that for sequences of tweets with less than max defined length, we are padding those sequences by zero to have same shape."
   ]
  },
  {
   "cell_type": "markdown",
   "metadata": {
    "id": "6JLnuLGHGAUT"
   },
   "source": [
    "<a name='blstm-model-definition'></a>\n",
    "## Step 4 - Model definition\n",
    "In the following we will define the sexism classifier and model architecture. We will how two different modelings. One is a called based model which has one layer of Bi-LSTM with 64 units and the other model has an additional layer of Bi-LSTM with 32 units. However, since we kept both the balanced and unbalanced data, we will have the four following models:\n",
    "- `Base model U` - Utalized for the unbalanced data\n",
    "- `Model UA` - contains an additional layer compared to its successor\n",
    "- `Base model B` - Utalized for the balanced data\n",
    "- `Model BA` - contains an additional layer compared to its successor\n"
   ]
  },
  {
   "cell_type": "code",
   "execution_count": null,
   "metadata": {
    "id": "zWaoMnbuQu4C"
   },
   "outputs": [],
   "source": [
    "# Model U - Model for Unbalanced data ; has different embeddings\n",
    "embedding_layer = Embedding(\n",
    "    input_dim=vocab_count,\n",
    "    output_dim=embedding_dim,\n",
    "    weights=[embedding_matrix],\n",
    "    trainable=False\n",
    ")\n",
    "\n",
    "# Model B - Model for Balanced data ; has different embeddings\n",
    "embedding_balanced_layer = Embedding(\n",
    "    input_dim=vocab_balanced_count,\n",
    "    output_dim=embedding_dim,\n",
    "    weights=[embedding_matrix_balanced],\n",
    "    trainable=False\n",
    ")\n",
    "\n",
    "# Architecutures\n",
    "def baseline_model(embedding_layer):\n",
    "    baseline_model = Sequential()\n",
    "    baseline_model.add(embedding_layer)  # Now the output shape is (batch_size, max_length, embedding_dim)\n",
    "    baseline_model.add(Bidirectional(LSTM(64)))\n",
    "    baseline_model.add(Dense(1, activation='sigmoid'))\n",
    "    baseline_model.compile(optimizer='adam', loss='binary_crossentropy', metrics=['accuracy'])\n",
    "    return baseline_model\n",
    "\n",
    "def model_add_BLSTM(embedding_layer):\n",
    "    model1 = Sequential()\n",
    "    model1.add(embedding_layer)\n",
    "    model1.add(Bidirectional(LSTM(64, return_sequences=True)))\n",
    "    model1.add(Bidirectional(LSTM(32)))\n",
    "    model1.add(Dense(1, activation='sigmoid'))\n",
    "    model1.compile(optimizer='adam', loss='binary_crossentropy', metrics=['accuracy'])\n",
    "    return model1"
   ]
  },
  {
   "cell_type": "markdown",
   "metadata": {
    "id": "hyTvMNnZEWw8"
   },
   "source": [
    "<a name='blstm-training'></a>\n",
    "## Step 5 - Training\n",
    "Next cell trains the compiled model and returns the evaluation."
   ]
  },
  {
   "cell_type": "code",
   "execution_count": null,
   "metadata": {
    "colab": {
     "base_uri": "https://localhost:8080/"
    },
    "collapsed": true,
    "executionInfo": {
     "elapsed": 126079,
     "status": "ok",
     "timestamp": 1736801965821,
     "user": {
      "displayName": "Seyedali Shohadaeolhosseini",
      "userId": "07992724724533035419"
     },
     "user_tz": -60
    },
    "id": "sE2D4cklEeLg",
    "outputId": "925e3947-e15a-4cea-8e8f-9f1edbba91d3"
   },
   "outputs": [
    {
     "name": "stdout",
     "output_type": "stream",
     "text": [
      "\n",
      "\n",
      "# -------- # -------- # Training with seed: 41 # -------- # -------- #  \n",
      "\n",
      "Training Model_Base_U\n",
      "Epoch 1/15\n",
      "\u001b[1m45/45\u001b[0m \u001b[32m━━━━━━━━━━━━━━━━━━━━\u001b[0m\u001b[37m\u001b[0m \u001b[1m5s\u001b[0m 15ms/step - accuracy: 0.5673 - loss: 0.6741 - val_accuracy: 0.6519 - val_loss: 0.6614\n",
      "Epoch 2/15\n",
      "\u001b[1m45/45\u001b[0m \u001b[32m━━━━━━━━━━━━━━━━━━━━\u001b[0m\u001b[37m\u001b[0m \u001b[1m0s\u001b[0m 8ms/step - accuracy: 0.6871 - loss: 0.6014 - val_accuracy: 0.6835 - val_loss: 0.5871\n",
      "Epoch 3/15\n",
      "\u001b[1m45/45\u001b[0m \u001b[32m━━━━━━━━━━━━━━━━━━━━\u001b[0m\u001b[37m\u001b[0m \u001b[1m0s\u001b[0m 8ms/step - accuracy: 0.7347 - loss: 0.5426 - val_accuracy: 0.7278 - val_loss: 0.5640\n",
      "Epoch 4/15\n",
      "\u001b[1m45/45\u001b[0m \u001b[32m━━━━━━━━━━━━━━━━━━━━\u001b[0m\u001b[37m\u001b[0m \u001b[1m0s\u001b[0m 9ms/step - accuracy: 0.7649 - loss: 0.5102 - val_accuracy: 0.7342 - val_loss: 0.5489\n",
      "Epoch 5/15\n",
      "\u001b[1m45/45\u001b[0m \u001b[32m━━━━━━━━━━━━━━━━━━━━\u001b[0m\u001b[37m\u001b[0m \u001b[1m0s\u001b[0m 8ms/step - accuracy: 0.7821 - loss: 0.4840 - val_accuracy: 0.7405 - val_loss: 0.5341\n",
      "Epoch 6/15\n",
      "\u001b[1m45/45\u001b[0m \u001b[32m━━━━━━━━━━━━━━━━━━━━\u001b[0m\u001b[37m\u001b[0m \u001b[1m0s\u001b[0m 8ms/step - accuracy: 0.7982 - loss: 0.4622 - val_accuracy: 0.7595 - val_loss: 0.5051\n",
      "Epoch 7/15\n",
      "\u001b[1m45/45\u001b[0m \u001b[32m━━━━━━━━━━━━━━━━━━━━\u001b[0m\u001b[37m\u001b[0m \u001b[1m0s\u001b[0m 8ms/step - accuracy: 0.8038 - loss: 0.4405 - val_accuracy: 0.7722 - val_loss: 0.5113\n",
      "Epoch 8/15\n",
      "\u001b[1m45/45\u001b[0m \u001b[32m━━━━━━━━━━━━━━━━━━━━\u001b[0m\u001b[37m\u001b[0m \u001b[1m0s\u001b[0m 8ms/step - accuracy: 0.8088 - loss: 0.4244 - val_accuracy: 0.7468 - val_loss: 0.5156\n",
      "Epoch 9/15\n",
      "\u001b[1m45/45\u001b[0m \u001b[32m━━━━━━━━━━━━━━━━━━━━\u001b[0m\u001b[37m\u001b[0m \u001b[1m0s\u001b[0m 8ms/step - accuracy: 0.8163 - loss: 0.4185 - val_accuracy: 0.7785 - val_loss: 0.5044\n",
      "Epoch 10/15\n",
      "\u001b[1m45/45\u001b[0m \u001b[32m━━━━━━━━━━━━━━━━━━━━\u001b[0m\u001b[37m\u001b[0m \u001b[1m0s\u001b[0m 7ms/step - accuracy: 0.8384 - loss: 0.3765 - val_accuracy: 0.7785 - val_loss: 0.5230\n",
      "Epoch 11/15\n",
      "\u001b[1m45/45\u001b[0m \u001b[32m━━━━━━━━━━━━━━━━━━━━\u001b[0m\u001b[37m\u001b[0m \u001b[1m0s\u001b[0m 8ms/step - accuracy: 0.8505 - loss: 0.3577 - val_accuracy: 0.7722 - val_loss: 0.5137\n",
      "Epoch 12/15\n",
      "\u001b[1m45/45\u001b[0m \u001b[32m━━━━━━━━━━━━━━━━━━━━\u001b[0m\u001b[37m\u001b[0m \u001b[1m0s\u001b[0m 8ms/step - accuracy: 0.8560 - loss: 0.3545 - val_accuracy: 0.7911 - val_loss: 0.4852\n",
      "Epoch 13/15\n",
      "\u001b[1m45/45\u001b[0m \u001b[32m━━━━━━━━━━━━━━━━━━━━\u001b[0m\u001b[37m\u001b[0m \u001b[1m0s\u001b[0m 8ms/step - accuracy: 0.8686 - loss: 0.3226 - val_accuracy: 0.7975 - val_loss: 0.5521\n",
      "Epoch 14/15\n",
      "\u001b[1m45/45\u001b[0m \u001b[32m━━━━━━━━━━━━━━━━━━━━\u001b[0m\u001b[37m\u001b[0m \u001b[1m0s\u001b[0m 7ms/step - accuracy: 0.8813 - loss: 0.3074 - val_accuracy: 0.7911 - val_loss: 0.6188\n",
      "Epoch 15/15\n",
      "\u001b[1m45/45\u001b[0m \u001b[32m━━━━━━━━━━━━━━━━━━━━\u001b[0m\u001b[37m\u001b[0m \u001b[1m0s\u001b[0m 7ms/step - accuracy: 0.9007 - loss: 0.2724 - val_accuracy: 0.7722 - val_loss: 0.5753\n",
      "Training Model_Base_UA\n",
      "Epoch 1/15\n",
      "\u001b[1m45/45\u001b[0m \u001b[32m━━━━━━━━━━━━━━━━━━━━\u001b[0m\u001b[37m\u001b[0m \u001b[1m4s\u001b[0m 22ms/step - accuracy: 0.5871 - loss: 0.6668 - val_accuracy: 0.6646 - val_loss: 0.6227\n",
      "Epoch 2/15\n",
      "\u001b[1m45/45\u001b[0m \u001b[32m━━━━━━━━━━━━━━━━━━━━\u001b[0m\u001b[37m\u001b[0m \u001b[1m1s\u001b[0m 12ms/step - accuracy: 0.7032 - loss: 0.5756 - val_accuracy: 0.6582 - val_loss: 0.5991\n",
      "Epoch 3/15\n",
      "\u001b[1m45/45\u001b[0m \u001b[32m━━━━━━━━━━━━━━━━━━━━\u001b[0m\u001b[37m\u001b[0m \u001b[1m1s\u001b[0m 12ms/step - accuracy: 0.7338 - loss: 0.5431 - val_accuracy: 0.6835 - val_loss: 0.5676\n",
      "Epoch 4/15\n",
      "\u001b[1m45/45\u001b[0m \u001b[32m━━━━━━━━━━━━━━━━━━━━\u001b[0m\u001b[37m\u001b[0m \u001b[1m1s\u001b[0m 12ms/step - accuracy: 0.7705 - loss: 0.5063 - val_accuracy: 0.7468 - val_loss: 0.5318\n",
      "Epoch 5/15\n",
      "\u001b[1m45/45\u001b[0m \u001b[32m━━━━━━━━━━━━━━━━━━━━\u001b[0m\u001b[37m\u001b[0m \u001b[1m1s\u001b[0m 12ms/step - accuracy: 0.7772 - loss: 0.4829 - val_accuracy: 0.7468 - val_loss: 0.5129\n",
      "Epoch 6/15\n",
      "\u001b[1m45/45\u001b[0m \u001b[32m━━━━━━━━━━━━━━━━━━━━\u001b[0m\u001b[37m\u001b[0m \u001b[1m1s\u001b[0m 12ms/step - accuracy: 0.7986 - loss: 0.4587 - val_accuracy: 0.7658 - val_loss: 0.5025\n",
      "Epoch 7/15\n",
      "\u001b[1m45/45\u001b[0m \u001b[32m━━━━━━━━━━━━━━━━━━━━\u001b[0m\u001b[37m\u001b[0m \u001b[1m1s\u001b[0m 12ms/step - accuracy: 0.8154 - loss: 0.4341 - val_accuracy: 0.7658 - val_loss: 0.5006\n",
      "Epoch 8/15\n",
      "\u001b[1m45/45\u001b[0m \u001b[32m━━━━━━━━━━━━━━━━━━━━\u001b[0m\u001b[37m\u001b[0m \u001b[1m1s\u001b[0m 12ms/step - accuracy: 0.8184 - loss: 0.4132 - val_accuracy: 0.7595 - val_loss: 0.5519\n",
      "Epoch 9/15\n",
      "\u001b[1m45/45\u001b[0m \u001b[32m━━━━━━━━━━━━━━━━━━━━\u001b[0m\u001b[37m\u001b[0m \u001b[1m1s\u001b[0m 13ms/step - accuracy: 0.8286 - loss: 0.4032 - val_accuracy: 0.7722 - val_loss: 0.5053\n",
      "Epoch 10/15\n",
      "\u001b[1m45/45\u001b[0m \u001b[32m━━━━━━━━━━━━━━━━━━━━\u001b[0m\u001b[37m\u001b[0m \u001b[1m1s\u001b[0m 12ms/step - accuracy: 0.8421 - loss: 0.3801 - val_accuracy: 0.7848 - val_loss: 0.4937\n",
      "Epoch 11/15\n",
      "\u001b[1m45/45\u001b[0m \u001b[32m━━━━━━━━━━━━━━━━━━━━\u001b[0m\u001b[37m\u001b[0m \u001b[1m1s\u001b[0m 12ms/step - accuracy: 0.8502 - loss: 0.3687 - val_accuracy: 0.7532 - val_loss: 0.5300\n",
      "Epoch 12/15\n",
      "\u001b[1m45/45\u001b[0m \u001b[32m━━━━━━━━━━━━━━━━━━━━\u001b[0m\u001b[37m\u001b[0m \u001b[1m1s\u001b[0m 13ms/step - accuracy: 0.8427 - loss: 0.3734 - val_accuracy: 0.7911 - val_loss: 0.5101\n",
      "Epoch 13/15\n",
      "\u001b[1m45/45\u001b[0m \u001b[32m━━━━━━━━━━━━━━━━━━━━\u001b[0m\u001b[37m\u001b[0m \u001b[1m1s\u001b[0m 12ms/step - accuracy: 0.8542 - loss: 0.3426 - val_accuracy: 0.7722 - val_loss: 0.5330\n",
      "Epoch 14/15\n",
      "\u001b[1m45/45\u001b[0m \u001b[32m━━━━━━━━━━━━━━━━━━━━\u001b[0m\u001b[37m\u001b[0m \u001b[1m1s\u001b[0m 12ms/step - accuracy: 0.8908 - loss: 0.2960 - val_accuracy: 0.7595 - val_loss: 0.6692\n",
      "Epoch 15/15\n",
      "\u001b[1m45/45\u001b[0m \u001b[32m━━━━━━━━━━━━━━━━━━━━\u001b[0m\u001b[37m\u001b[0m \u001b[1m1s\u001b[0m 12ms/step - accuracy: 0.8859 - loss: 0.2788 - val_accuracy: 0.7848 - val_loss: 0.6036\n",
      "Training Model_Base_B\n",
      "Epoch 1/15\n",
      "\u001b[1m36/36\u001b[0m \u001b[32m━━━━━━━━━━━━━━━━━━━━\u001b[0m\u001b[37m\u001b[0m \u001b[1m3s\u001b[0m 16ms/step - accuracy: 0.5432 - loss: 0.6903 - val_accuracy: 0.5696 - val_loss: 0.6675\n",
      "Epoch 2/15\n",
      "\u001b[1m36/36\u001b[0m \u001b[32m━━━━━━━━━━━━━━━━━━━━\u001b[0m\u001b[37m\u001b[0m \u001b[1m0s\u001b[0m 8ms/step - accuracy: 0.6562 - loss: 0.6282 - val_accuracy: 0.6646 - val_loss: 0.5797\n",
      "Epoch 3/15\n",
      "\u001b[1m36/36\u001b[0m \u001b[32m━━━━━━━━━━━━━━━━━━━━\u001b[0m\u001b[37m\u001b[0m \u001b[1m0s\u001b[0m 8ms/step - accuracy: 0.7023 - loss: 0.5752 - val_accuracy: 0.6962 - val_loss: 0.5628\n",
      "Epoch 4/15\n",
      "\u001b[1m36/36\u001b[0m \u001b[32m━━━━━━━━━━━━━━━━━━━━\u001b[0m\u001b[37m\u001b[0m \u001b[1m0s\u001b[0m 8ms/step - accuracy: 0.7366 - loss: 0.5491 - val_accuracy: 0.6962 - val_loss: 0.5521\n",
      "Epoch 5/15\n",
      "\u001b[1m36/36\u001b[0m \u001b[32m━━━━━━━━━━━━━━━━━━━━\u001b[0m\u001b[37m\u001b[0m \u001b[1m0s\u001b[0m 8ms/step - accuracy: 0.7524 - loss: 0.5194 - val_accuracy: 0.7152 - val_loss: 0.5323\n",
      "Epoch 6/15\n",
      "\u001b[1m36/36\u001b[0m \u001b[32m━━━━━━━━━━━━━━━━━━━━\u001b[0m\u001b[37m\u001b[0m \u001b[1m0s\u001b[0m 7ms/step - accuracy: 0.7756 - loss: 0.4918 - val_accuracy: 0.7278 - val_loss: 0.5204\n",
      "Epoch 7/15\n",
      "\u001b[1m36/36\u001b[0m \u001b[32m━━━━━━━━━━━━━━━━━━━━\u001b[0m\u001b[37m\u001b[0m \u001b[1m0s\u001b[0m 8ms/step - accuracy: 0.7838 - loss: 0.4733 - val_accuracy: 0.7278 - val_loss: 0.5146\n",
      "Epoch 8/15\n",
      "\u001b[1m36/36\u001b[0m \u001b[32m━━━━━━━━━━━━━━━━━━━━\u001b[0m\u001b[37m\u001b[0m \u001b[1m0s\u001b[0m 8ms/step - accuracy: 0.7984 - loss: 0.4483 - val_accuracy: 0.7468 - val_loss: 0.5132\n",
      "Epoch 9/15\n",
      "\u001b[1m36/36\u001b[0m \u001b[32m━━━━━━━━━━━━━━━━━━━━\u001b[0m\u001b[37m\u001b[0m \u001b[1m0s\u001b[0m 8ms/step - accuracy: 0.8081 - loss: 0.4245 - val_accuracy: 0.7468 - val_loss: 0.5350\n",
      "Epoch 10/15\n",
      "\u001b[1m36/36\u001b[0m \u001b[32m━━━━━━━━━━━━━━━━━━━━\u001b[0m\u001b[37m\u001b[0m \u001b[1m0s\u001b[0m 8ms/step - accuracy: 0.8191 - loss: 0.4062 - val_accuracy: 0.7342 - val_loss: 0.5473\n",
      "Epoch 11/15\n",
      "\u001b[1m36/36\u001b[0m \u001b[32m━━━━━━━━━━━━━━━━━━━━\u001b[0m\u001b[37m\u001b[0m \u001b[1m0s\u001b[0m 8ms/step - accuracy: 0.8183 - loss: 0.3999 - val_accuracy: 0.7468 - val_loss: 0.5209\n",
      "Epoch 12/15\n",
      "\u001b[1m36/36\u001b[0m \u001b[32m━━━━━━━━━━━━━━━━━━━━\u001b[0m\u001b[37m\u001b[0m \u001b[1m0s\u001b[0m 8ms/step - accuracy: 0.8292 - loss: 0.3767 - val_accuracy: 0.7152 - val_loss: 0.5711\n",
      "Epoch 13/15\n",
      "\u001b[1m36/36\u001b[0m \u001b[32m━━━━━━━━━━━━━━━━━━━━\u001b[0m\u001b[37m\u001b[0m \u001b[1m0s\u001b[0m 8ms/step - accuracy: 0.8227 - loss: 0.3962 - val_accuracy: 0.7658 - val_loss: 0.5168\n",
      "Epoch 14/15\n",
      "\u001b[1m36/36\u001b[0m \u001b[32m━━━━━━━━━━━━━━━━━━━━\u001b[0m\u001b[37m\u001b[0m \u001b[1m0s\u001b[0m 8ms/step - accuracy: 0.8415 - loss: 0.3472 - val_accuracy: 0.7658 - val_loss: 0.4994\n",
      "Epoch 15/15\n",
      "\u001b[1m36/36\u001b[0m \u001b[32m━━━━━━━━━━━━━━━━━━━━\u001b[0m\u001b[37m\u001b[0m \u001b[1m0s\u001b[0m 8ms/step - accuracy: 0.8608 - loss: 0.3219 - val_accuracy: 0.7405 - val_loss: 0.5223\n",
      "Training Model_Base_BA\n",
      "Epoch 1/15\n",
      "\u001b[1m36/36\u001b[0m \u001b[32m━━━━━━━━━━━━━━━━━━━━\u001b[0m\u001b[37m\u001b[0m \u001b[1m4s\u001b[0m 26ms/step - accuracy: 0.5622 - loss: 0.6792 - val_accuracy: 0.6899 - val_loss: 0.5974\n",
      "Epoch 2/15\n",
      "\u001b[1m36/36\u001b[0m \u001b[32m━━━━━━━━━━━━━━━━━━━━\u001b[0m\u001b[37m\u001b[0m \u001b[1m1s\u001b[0m 14ms/step - accuracy: 0.6756 - loss: 0.5959 - val_accuracy: 0.7089 - val_loss: 0.5704\n",
      "Epoch 3/15\n",
      "\u001b[1m36/36\u001b[0m \u001b[32m━━━━━━━━━━━━━━━━━━━━\u001b[0m\u001b[37m\u001b[0m \u001b[1m0s\u001b[0m 13ms/step - accuracy: 0.7246 - loss: 0.5533 - val_accuracy: 0.7342 - val_loss: 0.5507\n",
      "Epoch 4/15\n",
      "\u001b[1m36/36\u001b[0m \u001b[32m━━━━━━━━━━━━━━━━━━━━\u001b[0m\u001b[37m\u001b[0m \u001b[1m1s\u001b[0m 14ms/step - accuracy: 0.7438 - loss: 0.5247 - val_accuracy: 0.7532 - val_loss: 0.5394\n",
      "Epoch 5/15\n",
      "\u001b[1m36/36\u001b[0m \u001b[32m━━━━━━━━━━━━━━━━━━━━\u001b[0m\u001b[37m\u001b[0m \u001b[1m0s\u001b[0m 13ms/step - accuracy: 0.7695 - loss: 0.4998 - val_accuracy: 0.7658 - val_loss: 0.5440\n",
      "Epoch 6/15\n",
      "\u001b[1m36/36\u001b[0m \u001b[32m━━━━━━━━━━━━━━━━━━━━\u001b[0m\u001b[37m\u001b[0m \u001b[1m1s\u001b[0m 13ms/step - accuracy: 0.7867 - loss: 0.4726 - val_accuracy: 0.7722 - val_loss: 0.5061\n",
      "Epoch 7/15\n",
      "\u001b[1m36/36\u001b[0m \u001b[32m━━━━━━━━━━━━━━━━━━━━\u001b[0m\u001b[37m\u001b[0m \u001b[1m1s\u001b[0m 14ms/step - accuracy: 0.8013 - loss: 0.4391 - val_accuracy: 0.7215 - val_loss: 0.5825\n",
      "Epoch 8/15\n",
      "\u001b[1m36/36\u001b[0m \u001b[32m━━━━━━━━━━━━━━━━━━━━\u001b[0m\u001b[37m\u001b[0m \u001b[1m0s\u001b[0m 13ms/step - accuracy: 0.8005 - loss: 0.4515 - val_accuracy: 0.7532 - val_loss: 0.5391\n",
      "Epoch 9/15\n",
      "\u001b[1m36/36\u001b[0m \u001b[32m━━━━━━━━━━━━━━━━━━━━\u001b[0m\u001b[37m\u001b[0m \u001b[1m0s\u001b[0m 13ms/step - accuracy: 0.8152 - loss: 0.4233 - val_accuracy: 0.7658 - val_loss: 0.5306\n",
      "Epoch 10/15\n",
      "\u001b[1m36/36\u001b[0m \u001b[32m━━━━━━━━━━━━━━━━━━━━\u001b[0m\u001b[37m\u001b[0m \u001b[1m0s\u001b[0m 13ms/step - accuracy: 0.8317 - loss: 0.3979 - val_accuracy: 0.7468 - val_loss: 0.5433\n",
      "Epoch 11/15\n",
      "\u001b[1m36/36\u001b[0m \u001b[32m━━━━━━━━━━━━━━━━━━━━\u001b[0m\u001b[37m\u001b[0m \u001b[1m0s\u001b[0m 13ms/step - accuracy: 0.8500 - loss: 0.3770 - val_accuracy: 0.7595 - val_loss: 0.4979\n",
      "Epoch 12/15\n",
      "\u001b[1m36/36\u001b[0m \u001b[32m━━━━━━━━━━━━━━━━━━━━\u001b[0m\u001b[37m\u001b[0m \u001b[1m1s\u001b[0m 14ms/step - accuracy: 0.8187 - loss: 0.4089 - val_accuracy: 0.7658 - val_loss: 0.4856\n",
      "Epoch 13/15\n",
      "\u001b[1m36/36\u001b[0m \u001b[32m━━━━━━━━━━━━━━━━━━━━\u001b[0m\u001b[37m\u001b[0m \u001b[1m0s\u001b[0m 13ms/step - accuracy: 0.8480 - loss: 0.3558 - val_accuracy: 0.7658 - val_loss: 0.4898\n",
      "Epoch 14/15\n",
      "\u001b[1m36/36\u001b[0m \u001b[32m━━━━━━━━━━━━━━━━━━━━\u001b[0m\u001b[37m\u001b[0m \u001b[1m0s\u001b[0m 13ms/step - accuracy: 0.8788 - loss: 0.3081 - val_accuracy: 0.7848 - val_loss: 0.5247\n",
      "Epoch 15/15\n",
      "\u001b[1m36/36\u001b[0m \u001b[32m━━━━━━━━━━━━━━━━━━━━\u001b[0m\u001b[37m\u001b[0m \u001b[1m0s\u001b[0m 13ms/step - accuracy: 0.8800 - loss: 0.2846 - val_accuracy: 0.7785 - val_loss: 0.5123\n",
      "Evaluating models for seed: 41\n",
      "\u001b[1m5/5\u001b[0m \u001b[32m━━━━━━━━━━━━━━━━━━━━\u001b[0m\u001b[37m\u001b[0m \u001b[1m0s\u001b[0m 47ms/step\n",
      "\u001b[1m5/5\u001b[0m \u001b[32m━━━━━━━━━━━━━━━━━━━━\u001b[0m\u001b[37m\u001b[0m \u001b[1m1s\u001b[0m 83ms/step\n"
     ]
    },
    {
     "name": "stderr",
     "output_type": "stream",
     "text": [
      "WARNING:tensorflow:5 out of the last 11 calls to <function TensorFlowTrainer.make_predict_function.<locals>.one_step_on_data_distributed at 0x7859948c51b0> triggered tf.function retracing. Tracing is expensive and the excessive number of tracings could be due to (1) creating @tf.function repeatedly in a loop, (2) passing tensors with different shapes, (3) passing Python objects instead of tensors. For (1), please define your @tf.function outside of the loop. For (2), @tf.function has reduce_retracing=True option that can avoid unnecessary retracing. For (3), please refer to https://www.tensorflow.org/guide/function#controlling_retracing and https://www.tensorflow.org/api_docs/python/tf/function for  more details.\n"
     ]
    },
    {
     "name": "stdout",
     "output_type": "stream",
     "text": [
      "\r\u001b[1m1/5\u001b[0m \u001b[32m━━━━\u001b[0m\u001b[37m━━━━━━━━━━━━━━━━\u001b[0m \u001b[1m0s\u001b[0m 180ms/step"
     ]
    },
    {
     "name": "stderr",
     "output_type": "stream",
     "text": [
      "WARNING:tensorflow:5 out of the last 11 calls to <function TensorFlowTrainer.make_predict_function.<locals>.one_step_on_data_distributed at 0x7859948c51b0> triggered tf.function retracing. Tracing is expensive and the excessive number of tracings could be due to (1) creating @tf.function repeatedly in a loop, (2) passing tensors with different shapes, (3) passing Python objects instead of tensors. For (1), please define your @tf.function outside of the loop. For (2), @tf.function has reduce_retracing=True option that can avoid unnecessary retracing. For (3), please refer to https://www.tensorflow.org/guide/function#controlling_retracing and https://www.tensorflow.org/api_docs/python/tf/function for  more details.\n"
     ]
    },
    {
     "name": "stdout",
     "output_type": "stream",
     "text": [
      "\u001b[1m5/5\u001b[0m \u001b[32m━━━━━━━━━━━━━━━━━━━━\u001b[0m\u001b[37m\u001b[0m \u001b[1m0s\u001b[0m 49ms/step\n",
      "\u001b[1m5/5\u001b[0m \u001b[32m━━━━━━━━━━━━━━━━━━━━\u001b[0m\u001b[37m\u001b[0m \u001b[1m1s\u001b[0m 83ms/step\n",
      "Seed 41 - F1 Scores:\n",
      "  Model_Base_U: 0.7582\n",
      "  Model_Base_UA: 0.7649\n",
      "  Model_Base_B: 0.7358\n",
      "  Model_Base_BA: 0.7728\n",
      "\n",
      "\n",
      "# -------- # -------- # Training with seed: 72 # -------- # -------- #  \n",
      "\n",
      "Training Model_Base_U\n",
      "Epoch 1/15\n",
      "\u001b[1m45/45\u001b[0m \u001b[32m━━━━━━━━━━━━━━━━━━━━\u001b[0m\u001b[37m\u001b[0m \u001b[1m3s\u001b[0m 14ms/step - accuracy: 0.6080 - loss: 0.6578 - val_accuracy: 0.7152 - val_loss: 0.6058\n",
      "Epoch 2/15\n",
      "\u001b[1m45/45\u001b[0m \u001b[32m━━━━━━━━━━━━━━━━━━━━\u001b[0m\u001b[37m\u001b[0m \u001b[1m0s\u001b[0m 7ms/step - accuracy: 0.7180 - loss: 0.5598 - val_accuracy: 0.7025 - val_loss: 0.5890\n",
      "Epoch 3/15\n",
      "\u001b[1m45/45\u001b[0m \u001b[32m━━━━━━━━━━━━━━━━━━━━\u001b[0m\u001b[37m\u001b[0m \u001b[1m0s\u001b[0m 8ms/step - accuracy: 0.7385 - loss: 0.5281 - val_accuracy: 0.7278 - val_loss: 0.5865\n",
      "Epoch 4/15\n",
      "\u001b[1m45/45\u001b[0m \u001b[32m━━━━━━━━━━━━━━━━━━━━\u001b[0m\u001b[37m\u001b[0m \u001b[1m0s\u001b[0m 8ms/step - accuracy: 0.7544 - loss: 0.5094 - val_accuracy: 0.7342 - val_loss: 0.5555\n",
      "Epoch 5/15\n",
      "\u001b[1m45/45\u001b[0m \u001b[32m━━━━━━━━━━━━━━━━━━━━\u001b[0m\u001b[37m\u001b[0m \u001b[1m0s\u001b[0m 8ms/step - accuracy: 0.7661 - loss: 0.4926 - val_accuracy: 0.7468 - val_loss: 0.5373\n",
      "Epoch 6/15\n",
      "\u001b[1m45/45\u001b[0m \u001b[32m━━━━━━━━━━━━━━━━━━━━\u001b[0m\u001b[37m\u001b[0m \u001b[1m0s\u001b[0m 8ms/step - accuracy: 0.7766 - loss: 0.4647 - val_accuracy: 0.7532 - val_loss: 0.5378\n",
      "Epoch 7/15\n",
      "\u001b[1m45/45\u001b[0m \u001b[32m━━━━━━━━━━━━━━━━━━━━\u001b[0m\u001b[37m\u001b[0m \u001b[1m0s\u001b[0m 8ms/step - accuracy: 0.7958 - loss: 0.4412 - val_accuracy: 0.7658 - val_loss: 0.5193\n",
      "Epoch 8/15\n",
      "\u001b[1m45/45\u001b[0m \u001b[32m━━━━━━━━━━━━━━━━━━━━\u001b[0m\u001b[37m\u001b[0m \u001b[1m0s\u001b[0m 7ms/step - accuracy: 0.8140 - loss: 0.4172 - val_accuracy: 0.7532 - val_loss: 0.5124\n",
      "Epoch 9/15\n",
      "\u001b[1m45/45\u001b[0m \u001b[32m━━━━━━━━━━━━━━━━━━━━\u001b[0m\u001b[37m\u001b[0m \u001b[1m0s\u001b[0m 7ms/step - accuracy: 0.8351 - loss: 0.3915 - val_accuracy: 0.7658 - val_loss: 0.5505\n",
      "Epoch 10/15\n",
      "\u001b[1m45/45\u001b[0m \u001b[32m━━━━━━━━━━━━━━━━━━━━\u001b[0m\u001b[37m\u001b[0m \u001b[1m0s\u001b[0m 8ms/step - accuracy: 0.8352 - loss: 0.3826 - val_accuracy: 0.7532 - val_loss: 0.5603\n",
      "Epoch 11/15\n",
      "\u001b[1m45/45\u001b[0m \u001b[32m━━━━━━━━━━━━━━━━━━━━\u001b[0m\u001b[37m\u001b[0m \u001b[1m0s\u001b[0m 8ms/step - accuracy: 0.8466 - loss: 0.3599 - val_accuracy: 0.7785 - val_loss: 0.5222\n",
      "Epoch 12/15\n",
      "\u001b[1m45/45\u001b[0m \u001b[32m━━━━━━━━━━━━━━━━━━━━\u001b[0m\u001b[37m\u001b[0m \u001b[1m0s\u001b[0m 7ms/step - accuracy: 0.8585 - loss: 0.3357 - val_accuracy: 0.7785 - val_loss: 0.5178\n",
      "Epoch 13/15\n",
      "\u001b[1m45/45\u001b[0m \u001b[32m━━━━━━━━━━━━━━━━━━━━\u001b[0m\u001b[37m\u001b[0m \u001b[1m0s\u001b[0m 8ms/step - accuracy: 0.8669 - loss: 0.3182 - val_accuracy: 0.7848 - val_loss: 0.5281\n",
      "Epoch 14/15\n",
      "\u001b[1m45/45\u001b[0m \u001b[32m━━━━━━━━━━━━━━━━━━━━\u001b[0m\u001b[37m\u001b[0m \u001b[1m0s\u001b[0m 8ms/step - accuracy: 0.8869 - loss: 0.2971 - val_accuracy: 0.7975 - val_loss: 0.5422\n",
      "Epoch 15/15\n",
      "\u001b[1m45/45\u001b[0m \u001b[32m━━━━━━━━━━━━━━━━━━━━\u001b[0m\u001b[37m\u001b[0m \u001b[1m0s\u001b[0m 8ms/step - accuracy: 0.8905 - loss: 0.2717 - val_accuracy: 0.7848 - val_loss: 0.5985\n",
      "Training Model_Base_UA\n",
      "Epoch 1/15\n",
      "\u001b[1m45/45\u001b[0m \u001b[32m━━━━━━━━━━━━━━━━━━━━\u001b[0m\u001b[37m\u001b[0m \u001b[1m5s\u001b[0m 23ms/step - accuracy: 0.5902 - loss: 0.6586 - val_accuracy: 0.7278 - val_loss: 0.5975\n",
      "Epoch 2/15\n",
      "\u001b[1m45/45\u001b[0m \u001b[32m━━━━━━━━━━━━━━━━━━━━\u001b[0m\u001b[37m\u001b[0m \u001b[1m1s\u001b[0m 13ms/step - accuracy: 0.7110 - loss: 0.5707 - val_accuracy: 0.6962 - val_loss: 0.5809\n",
      "Epoch 3/15\n",
      "\u001b[1m45/45\u001b[0m \u001b[32m━━━━━━━━━━━━━━━━━━━━\u001b[0m\u001b[37m\u001b[0m \u001b[1m1s\u001b[0m 12ms/step - accuracy: 0.7348 - loss: 0.5337 - val_accuracy: 0.7025 - val_loss: 0.5762\n",
      "Epoch 4/15\n",
      "\u001b[1m45/45\u001b[0m \u001b[32m━━━━━━━━━━━━━━━━━━━━\u001b[0m\u001b[37m\u001b[0m \u001b[1m1s\u001b[0m 12ms/step - accuracy: 0.7608 - loss: 0.5098 - val_accuracy: 0.7278 - val_loss: 0.5569\n",
      "Epoch 5/15\n",
      "\u001b[1m45/45\u001b[0m \u001b[32m━━━━━━━━━━━━━━━━━━━━\u001b[0m\u001b[37m\u001b[0m \u001b[1m1s\u001b[0m 12ms/step - accuracy: 0.7657 - loss: 0.4880 - val_accuracy: 0.7658 - val_loss: 0.5351\n",
      "Epoch 6/15\n",
      "\u001b[1m45/45\u001b[0m \u001b[32m━━━━━━━━━━━━━━━━━━━━\u001b[0m\u001b[37m\u001b[0m \u001b[1m1s\u001b[0m 13ms/step - accuracy: 0.7875 - loss: 0.4648 - val_accuracy: 0.7658 - val_loss: 0.5068\n",
      "Epoch 7/15\n",
      "\u001b[1m45/45\u001b[0m \u001b[32m━━━━━━━━━━━━━━━━━━━━\u001b[0m\u001b[37m\u001b[0m \u001b[1m1s\u001b[0m 13ms/step - accuracy: 0.7907 - loss: 0.4393 - val_accuracy: 0.7848 - val_loss: 0.5163\n",
      "Epoch 8/15\n",
      "\u001b[1m45/45\u001b[0m \u001b[32m━━━━━━━━━━━━━━━━━━━━\u001b[0m\u001b[37m\u001b[0m \u001b[1m1s\u001b[0m 12ms/step - accuracy: 0.8227 - loss: 0.4053 - val_accuracy: 0.7722 - val_loss: 0.5117\n",
      "Epoch 9/15\n",
      "\u001b[1m45/45\u001b[0m \u001b[32m━━━━━━━━━━━━━━━━━━━━\u001b[0m\u001b[37m\u001b[0m \u001b[1m1s\u001b[0m 13ms/step - accuracy: 0.8481 - loss: 0.3700 - val_accuracy: 0.7848 - val_loss: 0.5429\n",
      "Epoch 10/15\n",
      "\u001b[1m45/45\u001b[0m \u001b[32m━━━━━━━━━━━━━━━━━━━━\u001b[0m\u001b[37m\u001b[0m \u001b[1m1s\u001b[0m 12ms/step - accuracy: 0.8699 - loss: 0.3278 - val_accuracy: 0.7658 - val_loss: 0.5168\n",
      "Epoch 11/15\n",
      "\u001b[1m45/45\u001b[0m \u001b[32m━━━━━━━━━━━━━━━━━━━━\u001b[0m\u001b[37m\u001b[0m \u001b[1m1s\u001b[0m 12ms/step - accuracy: 0.8765 - loss: 0.3091 - val_accuracy: 0.7722 - val_loss: 0.5461\n",
      "Epoch 12/15\n",
      "\u001b[1m45/45\u001b[0m \u001b[32m━━━━━━━━━━━━━━━━━━━━\u001b[0m\u001b[37m\u001b[0m \u001b[1m1s\u001b[0m 12ms/step - accuracy: 0.8601 - loss: 0.3275 - val_accuracy: 0.8165 - val_loss: 0.5085\n",
      "Epoch 13/15\n",
      "\u001b[1m45/45\u001b[0m \u001b[32m━━━━━━━━━━━━━━━━━━━━\u001b[0m\u001b[37m\u001b[0m \u001b[1m1s\u001b[0m 12ms/step - accuracy: 0.8780 - loss: 0.2918 - val_accuracy: 0.7405 - val_loss: 0.7103\n",
      "Epoch 14/15\n",
      "\u001b[1m45/45\u001b[0m \u001b[32m━━━━━━━━━━━━━━━━━━━━\u001b[0m\u001b[37m\u001b[0m \u001b[1m1s\u001b[0m 12ms/step - accuracy: 0.8899 - loss: 0.2701 - val_accuracy: 0.7658 - val_loss: 0.6588\n",
      "Epoch 15/15\n",
      "\u001b[1m45/45\u001b[0m \u001b[32m━━━━━━━━━━━━━━━━━━━━\u001b[0m\u001b[37m\u001b[0m \u001b[1m1s\u001b[0m 12ms/step - accuracy: 0.9181 - loss: 0.2325 - val_accuracy: 0.7658 - val_loss: 0.7241\n",
      "Training Model_Base_B\n",
      "Epoch 1/15\n",
      "\u001b[1m36/36\u001b[0m \u001b[32m━━━━━━━━━━━━━━━━━━━━\u001b[0m\u001b[37m\u001b[0m \u001b[1m3s\u001b[0m 17ms/step - accuracy: 0.5560 - loss: 0.6788 - val_accuracy: 0.7215 - val_loss: 0.5987\n",
      "Epoch 2/15\n",
      "\u001b[1m36/36\u001b[0m \u001b[32m━━━━━━━━━━━━━━━━━━━━\u001b[0m\u001b[37m\u001b[0m \u001b[1m0s\u001b[0m 9ms/step - accuracy: 0.6858 - loss: 0.6019 - val_accuracy: 0.7405 - val_loss: 0.5673\n",
      "Epoch 3/15\n",
      "\u001b[1m36/36\u001b[0m \u001b[32m━━━━━━━━━━━━━━━━━━━━\u001b[0m\u001b[37m\u001b[0m \u001b[1m0s\u001b[0m 8ms/step - accuracy: 0.7268 - loss: 0.5545 - val_accuracy: 0.7468 - val_loss: 0.5382\n",
      "Epoch 4/15\n",
      "\u001b[1m36/36\u001b[0m \u001b[32m━━━━━━━━━━━━━━━━━━━━\u001b[0m\u001b[37m\u001b[0m \u001b[1m0s\u001b[0m 8ms/step - accuracy: 0.7460 - loss: 0.5265 - val_accuracy: 0.7405 - val_loss: 0.5249\n",
      "Epoch 5/15\n",
      "\u001b[1m36/36\u001b[0m \u001b[32m━━━━━━━━━━━━━━━━━━━━\u001b[0m\u001b[37m\u001b[0m \u001b[1m0s\u001b[0m 8ms/step - accuracy: 0.7706 - loss: 0.5024 - val_accuracy: 0.7468 - val_loss: 0.5150\n",
      "Epoch 6/15\n",
      "\u001b[1m36/36\u001b[0m \u001b[32m━━━━━━━━━━━━━━━━━━━━\u001b[0m\u001b[37m\u001b[0m \u001b[1m0s\u001b[0m 8ms/step - accuracy: 0.7844 - loss: 0.4790 - val_accuracy: 0.7595 - val_loss: 0.5090\n",
      "Epoch 7/15\n",
      "\u001b[1m36/36\u001b[0m \u001b[32m━━━━━━━━━━━━━━━━━━━━\u001b[0m\u001b[37m\u001b[0m \u001b[1m0s\u001b[0m 8ms/step - accuracy: 0.7990 - loss: 0.4536 - val_accuracy: 0.7405 - val_loss: 0.5119\n",
      "Epoch 8/15\n",
      "\u001b[1m36/36\u001b[0m \u001b[32m━━━━━━━━━━━━━━━━━━━━\u001b[0m\u001b[37m\u001b[0m \u001b[1m0s\u001b[0m 8ms/step - accuracy: 0.8134 - loss: 0.4352 - val_accuracy: 0.7468 - val_loss: 0.5033\n",
      "Epoch 9/15\n",
      "\u001b[1m36/36\u001b[0m \u001b[32m━━━━━━━━━━━━━━━━━━━━\u001b[0m\u001b[37m\u001b[0m \u001b[1m0s\u001b[0m 8ms/step - accuracy: 0.8277 - loss: 0.4059 - val_accuracy: 0.7785 - val_loss: 0.5314\n",
      "Epoch 10/15\n",
      "\u001b[1m36/36\u001b[0m \u001b[32m━━━━━━━━━━━━━━━━━━━━\u001b[0m\u001b[37m\u001b[0m \u001b[1m0s\u001b[0m 9ms/step - accuracy: 0.8302 - loss: 0.3940 - val_accuracy: 0.7532 - val_loss: 0.5310\n",
      "Epoch 11/15\n",
      "\u001b[1m36/36\u001b[0m \u001b[32m━━━━━━━━━━━━━━━━━━━━\u001b[0m\u001b[37m\u001b[0m \u001b[1m0s\u001b[0m 10ms/step - accuracy: 0.8317 - loss: 0.3855 - val_accuracy: 0.7848 - val_loss: 0.4957\n",
      "Epoch 12/15\n",
      "\u001b[1m36/36\u001b[0m \u001b[32m━━━━━━━━━━━━━━━━━━━━\u001b[0m\u001b[37m\u001b[0m \u001b[1m0s\u001b[0m 9ms/step - accuracy: 0.8521 - loss: 0.3534 - val_accuracy: 0.7468 - val_loss: 0.5751\n",
      "Epoch 13/15\n",
      "\u001b[1m36/36\u001b[0m \u001b[32m━━━━━━━━━━━━━━━━━━━━\u001b[0m\u001b[37m\u001b[0m \u001b[1m0s\u001b[0m 8ms/step - accuracy: 0.8443 - loss: 0.3646 - val_accuracy: 0.7658 - val_loss: 0.5109\n",
      "Epoch 14/15\n",
      "\u001b[1m36/36\u001b[0m \u001b[32m━━━━━━━━━━━━━━━━━━━━\u001b[0m\u001b[37m\u001b[0m \u001b[1m0s\u001b[0m 9ms/step - accuracy: 0.8536 - loss: 0.3577 - val_accuracy: 0.7658 - val_loss: 0.6031\n",
      "Epoch 15/15\n",
      "\u001b[1m36/36\u001b[0m \u001b[32m━━━━━━━━━━━━━━━━━━━━\u001b[0m\u001b[37m\u001b[0m \u001b[1m0s\u001b[0m 9ms/step - accuracy: 0.8736 - loss: 0.3155 - val_accuracy: 0.7911 - val_loss: 0.5912\n",
      "Training Model_Base_BA\n",
      "Epoch 1/15\n",
      "\u001b[1m36/36\u001b[0m \u001b[32m━━━━━━━━━━━━━━━━━━━━\u001b[0m\u001b[37m\u001b[0m \u001b[1m4s\u001b[0m 26ms/step - accuracy: 0.5857 - loss: 0.6724 - val_accuracy: 0.7152 - val_loss: 0.5855\n",
      "Epoch 2/15\n",
      "\u001b[1m36/36\u001b[0m \u001b[32m━━━━━━━━━━━━━━━━━━━━\u001b[0m\u001b[37m\u001b[0m \u001b[1m0s\u001b[0m 13ms/step - accuracy: 0.6958 - loss: 0.5906 - val_accuracy: 0.7215 - val_loss: 0.5434\n",
      "Epoch 3/15\n",
      "\u001b[1m36/36\u001b[0m \u001b[32m━━━━━━━━━━━━━━━━━━━━\u001b[0m\u001b[37m\u001b[0m \u001b[1m0s\u001b[0m 13ms/step - accuracy: 0.7246 - loss: 0.5558 - val_accuracy: 0.7278 - val_loss: 0.5355\n",
      "Epoch 4/15\n",
      "\u001b[1m36/36\u001b[0m \u001b[32m━━━━━━━━━━━━━━━━━━━━\u001b[0m\u001b[37m\u001b[0m \u001b[1m0s\u001b[0m 13ms/step - accuracy: 0.7517 - loss: 0.5205 - val_accuracy: 0.7595 - val_loss: 0.5240\n",
      "Epoch 5/15\n",
      "\u001b[1m36/36\u001b[0m \u001b[32m━━━━━━━━━━━━━━━━━━━━\u001b[0m\u001b[37m\u001b[0m \u001b[1m0s\u001b[0m 13ms/step - accuracy: 0.7726 - loss: 0.5036 - val_accuracy: 0.7658 - val_loss: 0.5264\n",
      "Epoch 6/15\n",
      "\u001b[1m36/36\u001b[0m \u001b[32m━━━━━━━━━━━━━━━━━━━━\u001b[0m\u001b[37m\u001b[0m \u001b[1m0s\u001b[0m 13ms/step - accuracy: 0.7806 - loss: 0.4787 - val_accuracy: 0.7785 - val_loss: 0.5075\n",
      "Epoch 7/15\n",
      "\u001b[1m36/36\u001b[0m \u001b[32m━━━━━━━━━━━━━━━━━━━━\u001b[0m\u001b[37m\u001b[0m \u001b[1m0s\u001b[0m 13ms/step - accuracy: 0.8042 - loss: 0.4429 - val_accuracy: 0.8101 - val_loss: 0.5046\n",
      "Epoch 8/15\n",
      "\u001b[1m36/36\u001b[0m \u001b[32m━━━━━━━━━━━━━━━━━━━━\u001b[0m\u001b[37m\u001b[0m \u001b[1m0s\u001b[0m 13ms/step - accuracy: 0.8212 - loss: 0.4177 - val_accuracy: 0.7975 - val_loss: 0.5079\n",
      "Epoch 9/15\n",
      "\u001b[1m36/36\u001b[0m \u001b[32m━━━━━━━━━━━━━━━━━━━━\u001b[0m\u001b[37m\u001b[0m \u001b[1m1s\u001b[0m 14ms/step - accuracy: 0.8447 - loss: 0.3882 - val_accuracy: 0.7911 - val_loss: 0.5226\n",
      "Epoch 10/15\n",
      "\u001b[1m36/36\u001b[0m \u001b[32m━━━━━━━━━━━━━━━━━━━━\u001b[0m\u001b[37m\u001b[0m \u001b[1m1s\u001b[0m 14ms/step - accuracy: 0.8305 - loss: 0.3974 - val_accuracy: 0.7658 - val_loss: 0.4970\n",
      "Epoch 11/15\n",
      "\u001b[1m36/36\u001b[0m \u001b[32m━━━━━━━━━━━━━━━━━━━━\u001b[0m\u001b[37m\u001b[0m \u001b[1m1s\u001b[0m 14ms/step - accuracy: 0.8549 - loss: 0.3569 - val_accuracy: 0.7342 - val_loss: 0.5854\n",
      "Epoch 12/15\n",
      "\u001b[1m36/36\u001b[0m \u001b[32m━━━━━━━━━━━━━━━━━━━━\u001b[0m\u001b[37m\u001b[0m \u001b[1m1s\u001b[0m 15ms/step - accuracy: 0.8538 - loss: 0.3588 - val_accuracy: 0.7152 - val_loss: 0.6196\n",
      "Epoch 13/15\n",
      "\u001b[1m36/36\u001b[0m \u001b[32m━━━━━━━━━━━━━━━━━━━━\u001b[0m\u001b[37m\u001b[0m \u001b[1m1s\u001b[0m 14ms/step - accuracy: 0.8466 - loss: 0.3675 - val_accuracy: 0.7658 - val_loss: 0.5036\n",
      "Epoch 14/15\n",
      "\u001b[1m36/36\u001b[0m \u001b[32m━━━━━━━━━━━━━━━━━━━━\u001b[0m\u001b[37m\u001b[0m \u001b[1m0s\u001b[0m 13ms/step - accuracy: 0.8712 - loss: 0.3280 - val_accuracy: 0.7532 - val_loss: 0.5061\n",
      "Epoch 15/15\n",
      "\u001b[1m36/36\u001b[0m \u001b[32m━━━━━━━━━━━━━━━━━━━━\u001b[0m\u001b[37m\u001b[0m \u001b[1m1s\u001b[0m 13ms/step - accuracy: 0.8942 - loss: 0.2651 - val_accuracy: 0.7722 - val_loss: 0.5984\n",
      "Evaluating models for seed: 72\n",
      "\u001b[1m5/5\u001b[0m \u001b[32m━━━━━━━━━━━━━━━━━━━━\u001b[0m\u001b[37m\u001b[0m \u001b[1m0s\u001b[0m 47ms/step\n",
      "\u001b[1m5/5\u001b[0m \u001b[32m━━━━━━━━━━━━━━━━━━━━\u001b[0m\u001b[37m\u001b[0m \u001b[1m1s\u001b[0m 84ms/step\n",
      "\u001b[1m5/5\u001b[0m \u001b[32m━━━━━━━━━━━━━━━━━━━━\u001b[0m\u001b[37m\u001b[0m \u001b[1m0s\u001b[0m 46ms/step\n",
      "\u001b[1m5/5\u001b[0m \u001b[32m━━━━━━━━━━━━━━━━━━━━\u001b[0m\u001b[37m\u001b[0m \u001b[1m1s\u001b[0m 82ms/step\n",
      "Seed 72 - F1 Scores:\n",
      "  Model_Base_U: 0.7730\n",
      "  Model_Base_UA: 0.7279\n",
      "  Model_Base_B: 0.7761\n",
      "  Model_Base_BA: 0.7648\n",
      "\n",
      "\n",
      "# -------- # -------- # Training with seed: 97 # -------- # -------- #  \n",
      "\n",
      "Training Model_Base_U\n",
      "Epoch 1/15\n",
      "\u001b[1m45/45\u001b[0m \u001b[32m━━━━━━━━━━━━━━━━━━━━\u001b[0m\u001b[37m\u001b[0m \u001b[1m3s\u001b[0m 14ms/step - accuracy: 0.5892 - loss: 0.6684 - val_accuracy: 0.7089 - val_loss: 0.5690\n",
      "Epoch 2/15\n",
      "\u001b[1m45/45\u001b[0m \u001b[32m━━━━━━━━━━━━━━━━━━━━\u001b[0m\u001b[37m\u001b[0m \u001b[1m0s\u001b[0m 8ms/step - accuracy: 0.7117 - loss: 0.5614 - val_accuracy: 0.7532 - val_loss: 0.5313\n",
      "Epoch 3/15\n",
      "\u001b[1m45/45\u001b[0m \u001b[32m━━━━━━━━━━━━━━━━━━━━\u001b[0m\u001b[37m\u001b[0m \u001b[1m0s\u001b[0m 8ms/step - accuracy: 0.7368 - loss: 0.5313 - val_accuracy: 0.7342 - val_loss: 0.5301\n",
      "Epoch 4/15\n",
      "\u001b[1m45/45\u001b[0m \u001b[32m━━━━━━━━━━━━━━━━━━━━\u001b[0m\u001b[37m\u001b[0m \u001b[1m0s\u001b[0m 8ms/step - accuracy: 0.7480 - loss: 0.5176 - val_accuracy: 0.7405 - val_loss: 0.5433\n",
      "Epoch 5/15\n",
      "\u001b[1m45/45\u001b[0m \u001b[32m━━━━━━━━━━━━━━━━━━━━\u001b[0m\u001b[37m\u001b[0m \u001b[1m0s\u001b[0m 7ms/step - accuracy: 0.7659 - loss: 0.4972 - val_accuracy: 0.7848 - val_loss: 0.5181\n",
      "Epoch 6/15\n",
      "\u001b[1m45/45\u001b[0m \u001b[32m━━━━━━━━━━━━━━━━━━━━\u001b[0m\u001b[37m\u001b[0m \u001b[1m0s\u001b[0m 8ms/step - accuracy: 0.7805 - loss: 0.4759 - val_accuracy: 0.7785 - val_loss: 0.5352\n",
      "Epoch 7/15\n",
      "\u001b[1m45/45\u001b[0m \u001b[32m━━━━━━━━━━━━━━━━━━━━\u001b[0m\u001b[37m\u001b[0m \u001b[1m0s\u001b[0m 8ms/step - accuracy: 0.7941 - loss: 0.4560 - val_accuracy: 0.8101 - val_loss: 0.5000\n",
      "Epoch 8/15\n",
      "\u001b[1m45/45\u001b[0m \u001b[32m━━━━━━━━━━━━━━━━━━━━\u001b[0m\u001b[37m\u001b[0m \u001b[1m0s\u001b[0m 7ms/step - accuracy: 0.8161 - loss: 0.4222 - val_accuracy: 0.7975 - val_loss: 0.5261\n",
      "Epoch 9/15\n",
      "\u001b[1m45/45\u001b[0m \u001b[32m━━━━━━━━━━━━━━━━━━━━\u001b[0m\u001b[37m\u001b[0m \u001b[1m0s\u001b[0m 8ms/step - accuracy: 0.8290 - loss: 0.4013 - val_accuracy: 0.7975 - val_loss: 0.4833\n",
      "Epoch 10/15\n",
      "\u001b[1m45/45\u001b[0m \u001b[32m━━━━━━━━━━━━━━━━━━━━\u001b[0m\u001b[37m\u001b[0m \u001b[1m0s\u001b[0m 8ms/step - accuracy: 0.8439 - loss: 0.3841 - val_accuracy: 0.8228 - val_loss: 0.4521\n",
      "Epoch 11/15\n",
      "\u001b[1m45/45\u001b[0m \u001b[32m━━━━━━━━━━━━━━━━━━━━\u001b[0m\u001b[37m\u001b[0m \u001b[1m0s\u001b[0m 8ms/step - accuracy: 0.8552 - loss: 0.3645 - val_accuracy: 0.8038 - val_loss: 0.4691\n",
      "Epoch 12/15\n",
      "\u001b[1m45/45\u001b[0m \u001b[32m━━━━━━━━━━━━━━━━━━━━\u001b[0m\u001b[37m\u001b[0m \u001b[1m0s\u001b[0m 8ms/step - accuracy: 0.8447 - loss: 0.3633 - val_accuracy: 0.8101 - val_loss: 0.4603\n",
      "Epoch 13/15\n",
      "\u001b[1m45/45\u001b[0m \u001b[32m━━━━━━━━━━━━━━━━━━━━\u001b[0m\u001b[37m\u001b[0m \u001b[1m0s\u001b[0m 8ms/step - accuracy: 0.8470 - loss: 0.3563 - val_accuracy: 0.7405 - val_loss: 0.6462\n",
      "Epoch 14/15\n",
      "\u001b[1m45/45\u001b[0m \u001b[32m━━━━━━━━━━━━━━━━━━━━\u001b[0m\u001b[37m\u001b[0m \u001b[1m0s\u001b[0m 8ms/step - accuracy: 0.8489 - loss: 0.3479 - val_accuracy: 0.6962 - val_loss: 0.6892\n",
      "Epoch 15/15\n",
      "\u001b[1m45/45\u001b[0m \u001b[32m━━━━━━━━━━━━━━━━━━━━\u001b[0m\u001b[37m\u001b[0m \u001b[1m0s\u001b[0m 8ms/step - accuracy: 0.8502 - loss: 0.3427 - val_accuracy: 0.7848 - val_loss: 0.5513\n",
      "Training Model_Base_UA\n",
      "Epoch 1/15\n",
      "\u001b[1m45/45\u001b[0m \u001b[32m━━━━━━━━━━━━━━━━━━━━\u001b[0m\u001b[37m\u001b[0m \u001b[1m4s\u001b[0m 23ms/step - accuracy: 0.6100 - loss: 0.6560 - val_accuracy: 0.7089 - val_loss: 0.5870\n",
      "Epoch 2/15\n",
      "\u001b[1m45/45\u001b[0m \u001b[32m━━━━━━━━━━━━━━━━━━━━\u001b[0m\u001b[37m\u001b[0m \u001b[1m1s\u001b[0m 13ms/step - accuracy: 0.7166 - loss: 0.5679 - val_accuracy: 0.7089 - val_loss: 0.5684\n",
      "Epoch 3/15\n",
      "\u001b[1m45/45\u001b[0m \u001b[32m━━━━━━━━━━━━━━━━━━━━\u001b[0m\u001b[37m\u001b[0m \u001b[1m1s\u001b[0m 13ms/step - accuracy: 0.7412 - loss: 0.5313 - val_accuracy: 0.7342 - val_loss: 0.5694\n",
      "Epoch 4/15\n",
      "\u001b[1m45/45\u001b[0m \u001b[32m━━━━━━━━━━━━━━━━━━━━\u001b[0m\u001b[37m\u001b[0m \u001b[1m1s\u001b[0m 13ms/step - accuracy: 0.7653 - loss: 0.4988 - val_accuracy: 0.7405 - val_loss: 0.5548\n",
      "Epoch 5/15\n",
      "\u001b[1m45/45\u001b[0m \u001b[32m━━━━━━━━━━━━━━━━━━━━\u001b[0m\u001b[37m\u001b[0m \u001b[1m1s\u001b[0m 12ms/step - accuracy: 0.7853 - loss: 0.4807 - val_accuracy: 0.7215 - val_loss: 0.5970\n",
      "Epoch 6/15\n",
      "\u001b[1m45/45\u001b[0m \u001b[32m━━━━━━━━━━━━━━━━━━━━\u001b[0m\u001b[37m\u001b[0m \u001b[1m1s\u001b[0m 12ms/step - accuracy: 0.7782 - loss: 0.4718 - val_accuracy: 0.7468 - val_loss: 0.5760\n",
      "Epoch 7/15\n",
      "\u001b[1m45/45\u001b[0m \u001b[32m━━━━━━━━━━━━━━━━━━━━\u001b[0m\u001b[37m\u001b[0m \u001b[1m1s\u001b[0m 12ms/step - accuracy: 0.8028 - loss: 0.4363 - val_accuracy: 0.7848 - val_loss: 0.5149\n",
      "Epoch 8/15\n",
      "\u001b[1m45/45\u001b[0m \u001b[32m━━━━━━━━━━━━━━━━━━━━\u001b[0m\u001b[37m\u001b[0m \u001b[1m1s\u001b[0m 13ms/step - accuracy: 0.8242 - loss: 0.4096 - val_accuracy: 0.7595 - val_loss: 0.5582\n",
      "Epoch 9/15\n",
      "\u001b[1m45/45\u001b[0m \u001b[32m━━━━━━━━━━━━━━━━━━━━\u001b[0m\u001b[37m\u001b[0m \u001b[1m1s\u001b[0m 12ms/step - accuracy: 0.8390 - loss: 0.3845 - val_accuracy: 0.7722 - val_loss: 0.5551\n",
      "Epoch 10/15\n",
      "\u001b[1m45/45\u001b[0m \u001b[32m━━━━━━━━━━━━━━━━━━━━\u001b[0m\u001b[37m\u001b[0m \u001b[1m1s\u001b[0m 13ms/step - accuracy: 0.8636 - loss: 0.3510 - val_accuracy: 0.7848 - val_loss: 0.4845\n",
      "Epoch 11/15\n",
      "\u001b[1m45/45\u001b[0m \u001b[32m━━━━━━━━━━━━━━━━━━━━\u001b[0m\u001b[37m\u001b[0m \u001b[1m1s\u001b[0m 12ms/step - accuracy: 0.8580 - loss: 0.3461 - val_accuracy: 0.7848 - val_loss: 0.4772\n",
      "Epoch 12/15\n",
      "\u001b[1m45/45\u001b[0m \u001b[32m━━━━━━━━━━━━━━━━━━━━\u001b[0m\u001b[37m\u001b[0m \u001b[1m1s\u001b[0m 12ms/step - accuracy: 0.8551 - loss: 0.3374 - val_accuracy: 0.7848 - val_loss: 0.5282\n",
      "Epoch 13/15\n",
      "\u001b[1m45/45\u001b[0m \u001b[32m━━━━━━━━━━━━━━━━━━━━\u001b[0m\u001b[37m\u001b[0m \u001b[1m1s\u001b[0m 14ms/step - accuracy: 0.8843 - loss: 0.3025 - val_accuracy: 0.7278 - val_loss: 0.7022\n",
      "Epoch 14/15\n",
      "\u001b[1m45/45\u001b[0m \u001b[32m━━━━━━━━━━━━━━━━━━━━\u001b[0m\u001b[37m\u001b[0m \u001b[1m1s\u001b[0m 14ms/step - accuracy: 0.9118 - loss: 0.2411 - val_accuracy: 0.7532 - val_loss: 0.9281\n",
      "Epoch 15/15\n",
      "\u001b[1m45/45\u001b[0m \u001b[32m━━━━━━━━━━━━━━━━━━━━\u001b[0m\u001b[37m\u001b[0m \u001b[1m1s\u001b[0m 14ms/step - accuracy: 0.9129 - loss: 0.2284 - val_accuracy: 0.8038 - val_loss: 0.6288\n",
      "Training Model_Base_B\n",
      "Epoch 1/15\n",
      "\u001b[1m36/36\u001b[0m \u001b[32m━━━━━━━━━━━━━━━━━━━━\u001b[0m\u001b[37m\u001b[0m \u001b[1m3s\u001b[0m 16ms/step - accuracy: 0.5509 - loss: 0.6874 - val_accuracy: 0.6266 - val_loss: 0.6231\n",
      "Epoch 2/15\n",
      "\u001b[1m36/36\u001b[0m \u001b[32m━━━━━━━━━━━━━━━━━━━━\u001b[0m\u001b[37m\u001b[0m \u001b[1m0s\u001b[0m 8ms/step - accuracy: 0.6816 - loss: 0.6222 - val_accuracy: 0.5886 - val_loss: 0.6453\n",
      "Epoch 3/15\n",
      "\u001b[1m36/36\u001b[0m \u001b[32m━━━━━━━━━━━━━━━━━━━━\u001b[0m\u001b[37m\u001b[0m \u001b[1m0s\u001b[0m 8ms/step - accuracy: 0.7127 - loss: 0.5844 - val_accuracy: 0.7025 - val_loss: 0.5722\n",
      "Epoch 4/15\n",
      "\u001b[1m36/36\u001b[0m \u001b[32m━━━━━━━━━━━━━━━━━━━━\u001b[0m\u001b[37m\u001b[0m \u001b[1m0s\u001b[0m 8ms/step - accuracy: 0.7243 - loss: 0.5528 - val_accuracy: 0.7215 - val_loss: 0.5556\n",
      "Epoch 5/15\n",
      "\u001b[1m36/36\u001b[0m \u001b[32m━━━━━━━━━━━━━━━━━━━━\u001b[0m\u001b[37m\u001b[0m \u001b[1m0s\u001b[0m 8ms/step - accuracy: 0.7442 - loss: 0.5351 - val_accuracy: 0.7215 - val_loss: 0.5520\n",
      "Epoch 6/15\n",
      "\u001b[1m36/36\u001b[0m \u001b[32m━━━━━━━━━━━━━━━━━━━━\u001b[0m\u001b[37m\u001b[0m \u001b[1m0s\u001b[0m 8ms/step - accuracy: 0.7499 - loss: 0.5181 - val_accuracy: 0.7468 - val_loss: 0.5425\n",
      "Epoch 7/15\n",
      "\u001b[1m36/36\u001b[0m \u001b[32m━━━━━━━━━━━━━━━━━━━━\u001b[0m\u001b[37m\u001b[0m \u001b[1m0s\u001b[0m 8ms/step - accuracy: 0.7680 - loss: 0.4964 - val_accuracy: 0.7152 - val_loss: 0.5466\n",
      "Epoch 8/15\n",
      "\u001b[1m36/36\u001b[0m \u001b[32m━━━━━━━━━━━━━━━━━━━━\u001b[0m\u001b[37m\u001b[0m \u001b[1m0s\u001b[0m 8ms/step - accuracy: 0.7935 - loss: 0.4720 - val_accuracy: 0.7278 - val_loss: 0.5410\n",
      "Epoch 9/15\n",
      "\u001b[1m36/36\u001b[0m \u001b[32m━━━━━━━━━━━━━━━━━━━━\u001b[0m\u001b[37m\u001b[0m \u001b[1m0s\u001b[0m 8ms/step - accuracy: 0.8106 - loss: 0.4463 - val_accuracy: 0.7342 - val_loss: 0.5536\n",
      "Epoch 10/15\n",
      "\u001b[1m36/36\u001b[0m \u001b[32m━━━━━━━━━━━━━━━━━━━━\u001b[0m\u001b[37m\u001b[0m \u001b[1m0s\u001b[0m 8ms/step - accuracy: 0.8197 - loss: 0.4225 - val_accuracy: 0.7342 - val_loss: 0.5830\n",
      "Epoch 11/15\n",
      "\u001b[1m36/36\u001b[0m \u001b[32m━━━━━━━━━━━━━━━━━━━━\u001b[0m\u001b[37m\u001b[0m \u001b[1m0s\u001b[0m 8ms/step - accuracy: 0.8364 - loss: 0.4002 - val_accuracy: 0.7278 - val_loss: 0.6132\n",
      "Epoch 12/15\n",
      "\u001b[1m36/36\u001b[0m \u001b[32m━━━━━━━━━━━━━━━━━━━━\u001b[0m\u001b[37m\u001b[0m \u001b[1m0s\u001b[0m 8ms/step - accuracy: 0.8076 - loss: 0.4328 - val_accuracy: 0.7722 - val_loss: 0.5012\n",
      "Epoch 13/15\n",
      "\u001b[1m36/36\u001b[0m \u001b[32m━━━━━━━━━━━━━━━━━━━━\u001b[0m\u001b[37m\u001b[0m \u001b[1m0s\u001b[0m 8ms/step - accuracy: 0.8216 - loss: 0.4144 - val_accuracy: 0.7595 - val_loss: 0.5298\n",
      "Epoch 14/15\n",
      "\u001b[1m36/36\u001b[0m \u001b[32m━━━━━━━━━━━━━━━━━━━━\u001b[0m\u001b[37m\u001b[0m \u001b[1m0s\u001b[0m 8ms/step - accuracy: 0.8381 - loss: 0.3884 - val_accuracy: 0.7595 - val_loss: 0.5184\n",
      "Epoch 15/15\n",
      "\u001b[1m36/36\u001b[0m \u001b[32m━━━━━━━━━━━━━━━━━━━━\u001b[0m\u001b[37m\u001b[0m \u001b[1m0s\u001b[0m 8ms/step - accuracy: 0.8704 - loss: 0.3345 - val_accuracy: 0.7785 - val_loss: 0.5459\n",
      "Training Model_Base_BA\n",
      "Epoch 1/15\n",
      "\u001b[1m36/36\u001b[0m \u001b[32m━━━━━━━━━━━━━━━━━━━━\u001b[0m\u001b[37m\u001b[0m \u001b[1m4s\u001b[0m 25ms/step - accuracy: 0.5620 - loss: 0.6800 - val_accuracy: 0.6519 - val_loss: 0.6130\n",
      "Epoch 2/15\n",
      "\u001b[1m36/36\u001b[0m \u001b[32m━━━━━━━━━━━━━━━━━━━━\u001b[0m\u001b[37m\u001b[0m \u001b[1m0s\u001b[0m 13ms/step - accuracy: 0.6945 - loss: 0.5933 - val_accuracy: 0.7532 - val_loss: 0.5714\n",
      "Epoch 3/15\n",
      "\u001b[1m36/36\u001b[0m \u001b[32m━━━━━━━━━━━━━━━━━━━━\u001b[0m\u001b[37m\u001b[0m \u001b[1m0s\u001b[0m 13ms/step - accuracy: 0.7279 - loss: 0.5549 - val_accuracy: 0.7278 - val_loss: 0.5531\n",
      "Epoch 4/15\n",
      "\u001b[1m36/36\u001b[0m \u001b[32m━━━━━━━━━━━━━━━━━━━━\u001b[0m\u001b[37m\u001b[0m \u001b[1m0s\u001b[0m 13ms/step - accuracy: 0.7500 - loss: 0.5301 - val_accuracy: 0.7532 - val_loss: 0.5510\n",
      "Epoch 5/15\n",
      "\u001b[1m36/36\u001b[0m \u001b[32m━━━━━━━━━━━━━━━━━━━━\u001b[0m\u001b[37m\u001b[0m \u001b[1m0s\u001b[0m 13ms/step - accuracy: 0.7680 - loss: 0.5093 - val_accuracy: 0.7342 - val_loss: 0.5444\n",
      "Epoch 6/15\n",
      "\u001b[1m36/36\u001b[0m \u001b[32m━━━━━━━━━━━━━━━━━━━━\u001b[0m\u001b[37m\u001b[0m \u001b[1m0s\u001b[0m 13ms/step - accuracy: 0.7781 - loss: 0.4897 - val_accuracy: 0.7468 - val_loss: 0.5305\n",
      "Epoch 7/15\n",
      "\u001b[1m36/36\u001b[0m \u001b[32m━━━━━━━━━━━━━━━━━━━━\u001b[0m\u001b[37m\u001b[0m \u001b[1m0s\u001b[0m 12ms/step - accuracy: 0.7959 - loss: 0.4715 - val_accuracy: 0.7532 - val_loss: 0.5127\n",
      "Epoch 8/15\n",
      "\u001b[1m36/36\u001b[0m \u001b[32m━━━━━━━━━━━━━━━━━━━━\u001b[0m\u001b[37m\u001b[0m \u001b[1m0s\u001b[0m 12ms/step - accuracy: 0.7879 - loss: 0.4647 - val_accuracy: 0.7722 - val_loss: 0.5161\n",
      "Epoch 9/15\n",
      "\u001b[1m36/36\u001b[0m \u001b[32m━━━━━━━━━━━━━━━━━━━━\u001b[0m\u001b[37m\u001b[0m \u001b[1m0s\u001b[0m 13ms/step - accuracy: 0.8003 - loss: 0.4394 - val_accuracy: 0.7911 - val_loss: 0.5224\n",
      "Epoch 10/15\n",
      "\u001b[1m36/36\u001b[0m \u001b[32m━━━━━━━━━━━━━━━━━━━━\u001b[0m\u001b[37m\u001b[0m \u001b[1m0s\u001b[0m 13ms/step - accuracy: 0.8304 - loss: 0.3976 - val_accuracy: 0.8165 - val_loss: 0.5008\n",
      "Epoch 11/15\n",
      "\u001b[1m36/36\u001b[0m \u001b[32m━━━━━━━━━━━━━━━━━━━━\u001b[0m\u001b[37m\u001b[0m \u001b[1m0s\u001b[0m 13ms/step - accuracy: 0.8475 - loss: 0.3588 - val_accuracy: 0.7848 - val_loss: 0.5263\n",
      "Epoch 12/15\n",
      "\u001b[1m36/36\u001b[0m \u001b[32m━━━━━━━━━━━━━━━━━━━━\u001b[0m\u001b[37m\u001b[0m \u001b[1m0s\u001b[0m 13ms/step - accuracy: 0.8698 - loss: 0.3156 - val_accuracy: 0.7911 - val_loss: 0.6221\n",
      "Epoch 13/15\n",
      "\u001b[1m36/36\u001b[0m \u001b[32m━━━━━━━━━━━━━━━━━━━━\u001b[0m\u001b[37m\u001b[0m \u001b[1m0s\u001b[0m 13ms/step - accuracy: 0.8485 - loss: 0.3419 - val_accuracy: 0.7785 - val_loss: 0.5233\n",
      "Epoch 14/15\n",
      "\u001b[1m36/36\u001b[0m \u001b[32m━━━━━━━━━━━━━━━━━━━━\u001b[0m\u001b[37m\u001b[0m \u001b[1m0s\u001b[0m 13ms/step - accuracy: 0.8869 - loss: 0.2800 - val_accuracy: 0.7911 - val_loss: 0.5628\n",
      "Epoch 15/15\n",
      "\u001b[1m36/36\u001b[0m \u001b[32m━━━━━━━━━━━━━━━━━━━━\u001b[0m\u001b[37m\u001b[0m \u001b[1m0s\u001b[0m 13ms/step - accuracy: 0.9103 - loss: 0.2354 - val_accuracy: 0.7722 - val_loss: 0.6268\n",
      "Evaluating models for seed: 97\n",
      "\u001b[1m5/5\u001b[0m \u001b[32m━━━━━━━━━━━━━━━━━━━━\u001b[0m\u001b[37m\u001b[0m \u001b[1m0s\u001b[0m 47ms/step\n",
      "\u001b[1m5/5\u001b[0m \u001b[32m━━━━━━━━━━━━━━━━━━━━\u001b[0m\u001b[37m\u001b[0m \u001b[1m1s\u001b[0m 84ms/step\n",
      "\u001b[1m5/5\u001b[0m \u001b[32m━━━━━━━━━━━━━━━━━━━━\u001b[0m\u001b[37m\u001b[0m \u001b[1m0s\u001b[0m 48ms/step\n",
      "\u001b[1m5/5\u001b[0m \u001b[32m━━━━━━━━━━━━━━━━━━━━\u001b[0m\u001b[37m\u001b[0m \u001b[1m1s\u001b[0m 85ms/step\n",
      "Seed 97 - F1 Scores:\n",
      "  Model_Base_U: 0.7629\n",
      "  Model_Base_UA: 0.7881\n",
      "  Model_Base_B: 0.7770\n",
      "  Model_Base_BA: 0.7511\n"
     ]
    }
   ],
   "source": [
    "seeds = [41, 72, 97]\n",
    "EPOCHS = 15\n",
    "BATCH_SIZE = 64\n",
    "\n",
    "# Dictionary to store F1 results for each seed\n",
    "results = {\n",
    "    'Model_Base_U': [],\n",
    "    'Model_Base_UA': [],\n",
    "    'Model_Base_B': [],\n",
    "    'Model_Base_BA': []\n",
    "}\n",
    "\n",
    "# Dictionary to store model stuff\n",
    "model_instances = {}\n",
    "model_histories = {}\n",
    "\n",
    "\n",
    "for seed in seeds:\n",
    "    print(f\"\\n\\n# -------- # -------- # Training with seed: {seed} # -------- # -------- #  \")\n",
    "    print()\n",
    "\n",
    "    tf.random.set_seed(seed)\n",
    "    np.random.seed(seed)\n",
    "\n",
    "    ### MODELS (RE)INITIALIZATION\n",
    "    model_instances[f\"Model_Base_U_seed_{seed}\"] = baseline_model(embedding_layer)\n",
    "    model_instances[f\"Model_Base_UA_seed_{seed}\"] = model_add_BLSTM(embedding_layer)\n",
    "\n",
    "    model_instances[f\"Model_Base_B_seed_{seed}\"] = baseline_model(embedding_balanced_layer)\n",
    "    model_instances[f\"Model_Base_BA_seed_{seed}\"] = model_add_BLSTM(embedding_balanced_layer)\n",
    "\n",
    "    ### Unbalanced Section -----------------------------------------------------\n",
    "    # --- Train Model_Base_U ---\n",
    "    print(\"Training Model_Base_U\")\n",
    "    history_u = model_instances[f\"Model_Base_U_seed_{seed}\"].fit(\n",
    "        train_padded, train_df['hard_label_task1'],\n",
    "        epochs=EPOCHS, batch_size=BATCH_SIZE,\n",
    "        validation_data=(val_padded, val_df['hard_label_task1']),\n",
    "        verbose=1\n",
    "    );model_histories[f\"Model_Base_U_seed_{seed}\"] = history_u\n",
    "\n",
    "    # --- Train Model_Base_UA ---\n",
    "    print(\"Training Model_Base_UA\")\n",
    "    history_ua = model_instances[f\"Model_Base_UA_seed_{seed}\"].fit(\n",
    "        train_padded, train_df['hard_label_task1'],\n",
    "        epochs=EPOCHS, batch_size=BATCH_SIZE,\n",
    "        validation_data=(val_padded, val_df['hard_label_task1']),\n",
    "        verbose=1\n",
    "    );model_histories[f\"Model_Base_UA_seed_{seed}\"] = history_ua\n",
    "\n",
    "    ### Balanced Section -------------------------------------------------------\n",
    "    # --- Train Model_Base_B ---\n",
    "    print(\"Training Model_Base_B\")\n",
    "    history_b = model_instances[f\"Model_Base_B_seed_{seed}\"].fit(\n",
    "        train_balanced_padded, train_df_balanced['hard_label_task1'],\n",
    "        epochs=EPOCHS, batch_size=BATCH_SIZE,\n",
    "        validation_data=(val_balanced_padded, val_df['hard_label_task1']),\n",
    "        verbose=1\n",
    "    );model_histories[f\"Model_Base_B_seed_{seed}\"] = history_b\n",
    "\n",
    "    # --- Train Model_Base_BA ---\n",
    "    print(\"Training Model_Base_BA\")\n",
    "    history_ba = model_instances[f\"Model_Base_BA_seed_{seed}\"].fit(\n",
    "        train_balanced_padded, train_df_balanced['hard_label_task1'],\n",
    "        epochs=EPOCHS, batch_size=BATCH_SIZE,\n",
    "        validation_data=(val_balanced_padded, val_df['hard_label_task1']),\n",
    "        verbose=1\n",
    "    );model_histories[f\"Model_Base_BA_seed_{seed}\"] = history_ba\n",
    "\n",
    "    ### Evaluation Section -----------------------------------------------------\n",
    "    # --- Evaluate Models on Validation Set ---\n",
    "    print(f\"Evaluating models for seed: {seed}\")\n",
    "\n",
    "    # Predictions and F1 scores\n",
    "    predictions_u = (model_instances[f\"Model_Base_U_seed_{seed}\"].predict(val_padded) > 0.5).astype(\"int32\")\n",
    "    predictions_ua = (model_instances[f\"Model_Base_UA_seed_{seed}\"].predict(val_padded) > 0.5).astype(\"int32\")\n",
    "    predictions_b = (model_instances[f\"Model_Base_B_seed_{seed}\"].predict(val_balanced_padded) > 0.5).astype(\"int32\")\n",
    "    predictions_ba = (model_instances[f\"Model_Base_BA_seed_{seed}\"].predict(val_balanced_padded) > 0.5).astype(\"int32\")\n",
    "\n",
    "    # Calculate F1 scores\n",
    "    f1_u = f1_score(val_df['hard_label_task1'], predictions_u, average='macro')\n",
    "    f1_ua = f1_score(val_df['hard_label_task1'], predictions_ua, average='macro')\n",
    "    f1_b = f1_score(val_df['hard_label_task1'], predictions_b, average='macro')\n",
    "    f1_ba = f1_score(val_df['hard_label_task1'], predictions_ba, average='macro')\n",
    "\n",
    "    # Store F1 Score results for later\n",
    "    results['Model_Base_U'].append(f1_u)\n",
    "    results['Model_Base_UA'].append(f1_ua)\n",
    "    results['Model_Base_B'].append(f1_b)\n",
    "    results['Model_Base_BA'].append(f1_ba)\n",
    "\n",
    "    print(f\"Seed {seed} - F1 Scores:\")\n",
    "    print(f\"  Model_Base_U: {f1_u:.4f}\")\n",
    "    print(f\"  Model_Base_UA: {f1_ua:.4f}\")\n",
    "    print(f\"  Model_Base_B: {f1_b:.4f}\")\n",
    "    print(f\"  Model_Base_BA: {f1_ba:.4f}\")\n"
   ]
  },
  {
   "cell_type": "markdown",
   "metadata": {
    "id": "z_wD30s7ZlF6"
   },
   "source": [
    "Let's check out the outpus of training for the models:"
   ]
  },
  {
   "cell_type": "code",
   "execution_count": null,
   "metadata": {
    "colab": {
     "base_uri": "https://localhost:8080/"
    },
    "executionInfo": {
     "elapsed": 3,
     "status": "ok",
     "timestamp": 1736801965821,
     "user": {
      "displayName": "Seyedali Shohadaeolhosseini",
      "userId": "07992724724533035419"
     },
     "user_tz": -60
    },
    "id": "zDfuBwVAk8RD",
    "outputId": "01223541-2845-4967-baaf-272250f7a8dc"
   },
   "outputs": [
    {
     "name": "stdout",
     "output_type": "stream",
     "text": [
      "\n",
      "Average Macro-F1 scores across seeds on Validation set:\n",
      "  Model_Base_U: 0.7647\n",
      "  Model_Base_UA: 0.7603\n",
      "  Model_Base_B: 0.7630\n",
      "  Model_Base_BA: 0.7629\n",
      "\n",
      "Best model based on average Macro-F1 score: Model_Base_U\n"
     ]
    }
   ],
   "source": [
    "# --- Calculate Average F1 Scores Across Seeds for Validation set ---\n",
    "average_f1_scores = {model: np.mean(scores) for model, scores in results.items()}\n",
    "best_model = max(average_f1_scores, key=average_f1_scores.get)\n",
    "\n",
    "print(\"\\nAverage Macro-F1 scores across seeds on Validation set:\")\n",
    "for model_name, score in average_f1_scores.items():\n",
    "    print(f\"  {model_name}: {score:.4f}\")\n",
    "\n",
    "print(f\"\\nBest model based on average Macro-F1 score: {best_model}\")"
   ]
  },
  {
   "cell_type": "markdown",
   "metadata": {
    "id": "9ylCNZA4jLMC"
   },
   "source": [
    "The above results are the reported results about the validation accuracy."
   ]
  },
  {
   "cell_type": "markdown",
   "metadata": {
    "id": "We0isxNEMBeY"
   },
   "source": [
    "Following cell goes through the hitories of models and plots the learning curve. This code snippet is taken from the [Geeks for Geeks](https://arc.net/l/quote/zaapqasw). However, before doing the visualization, we will calculate an average on the metrics of each model on each seeds. In other words, we average the different accuracies achieved by one model on different seeds. Then, we will use this average accuracy to demonstrate the learning curve. This demonstration is done in the error analysis section."
   ]
  },
  {
   "cell_type": "code",
   "execution_count": null,
   "metadata": {
    "id": "wQeNSIVB0j30"
   },
   "outputs": [],
   "source": [
    "average_acc_model_base = {\n",
    "    'Model_Base_U':  {'acc': [], 'val_acc': [], 'loss': [], 'val_loss': []},\n",
    "    'Model_Base_UA': {'acc': [], 'val_acc': [], 'loss': [], 'val_loss': []},\n",
    "    'Model_Base_B':  {'acc': [], 'val_acc': [], 'loss': [], 'val_loss': []},\n",
    "    'Model_Base_BA': {'acc': [], 'val_acc': [], 'loss': [], 'val_loss': []}\n",
    "}\n",
    "\n",
    "# Merging on model name\n",
    "for model, history in model_histories.items():\n",
    "    model_name = model.split(\"_seed_\")[0]\n",
    "    history_dict = history.history\n",
    "\n",
    "    # Seperating validation and training accuracy\n",
    "    acc = history_dict['accuracy']\n",
    "    val_acc = history_dict['val_accuracy']\n",
    "\n",
    "    # Seperating validation and training loss\n",
    "    loss = history_dict['loss']\n",
    "    val_loss = history_dict['val_loss']\n",
    "\n",
    "    average_acc_model_base[model_name]['acc'].append(acc)\n",
    "    average_acc_model_base[model_name]['val_acc'].append(val_acc)\n",
    "    average_acc_model_base[model_name]['loss'].append(loss)\n",
    "    average_acc_model_base[model_name]['val_loss'].append(val_loss)\n",
    "\n",
    "# Averaging the metrics on seeds\n",
    "for model_name, metric_dict in average_acc_model_base.items():\n",
    "    for metric_name, metric_list in metric_dict.items():\n",
    "        average_acc_model_base[model_name][metric_name] = np.mean(metric_list, axis=0)"
   ]
  },
  {
   "cell_type": "markdown",
   "metadata": {
    "id": "YNX3b_s_Z-vB"
   },
   "source": [
    "<a name='blstm-test-evaluation'></a>\n",
    "## Step 6 - Test Evaluation\n",
    "Let's test the models on the test data:"
   ]
  },
  {
   "cell_type": "code",
   "execution_count": null,
   "metadata": {
    "colab": {
     "base_uri": "https://localhost:8080/"
    },
    "collapsed": true,
    "executionInfo": {
     "elapsed": 2315,
     "status": "ok",
     "timestamp": 1736801968134,
     "user": {
      "displayName": "Seyedali Shohadaeolhosseini",
      "userId": "07992724724533035419"
     },
     "user_tz": -60
    },
    "id": "8fw6aYrIlK6F",
    "outputId": "de783cf3-f6ec-442d-b65b-c6e168635282"
   },
   "outputs": [
    {
     "name": "stdout",
     "output_type": "stream",
     "text": [
      "\u001b[1m9/9\u001b[0m \u001b[32m━━━━━━━━━━━━━━━━━━━━\u001b[0m\u001b[37m\u001b[0m \u001b[1m0s\u001b[0m 10ms/step\n",
      "\u001b[1m9/9\u001b[0m \u001b[32m━━━━━━━━━━━━━━━━━━━━\u001b[0m\u001b[37m\u001b[0m \u001b[1m0s\u001b[0m 17ms/step\n",
      "\u001b[1m9/9\u001b[0m \u001b[32m━━━━━━━━━━━━━━━━━━━━\u001b[0m\u001b[37m\u001b[0m \u001b[1m0s\u001b[0m 10ms/step\n",
      "\u001b[1m9/9\u001b[0m \u001b[32m━━━━━━━━━━━━━━━━━━━━\u001b[0m\u001b[37m\u001b[0m \u001b[1m0s\u001b[0m 17ms/step\n",
      "\u001b[1m9/9\u001b[0m \u001b[32m━━━━━━━━━━━━━━━━━━━━\u001b[0m\u001b[37m\u001b[0m \u001b[1m0s\u001b[0m 10ms/step\n",
      "\u001b[1m9/9\u001b[0m \u001b[32m━━━━━━━━━━━━━━━━━━━━\u001b[0m\u001b[37m\u001b[0m \u001b[1m0s\u001b[0m 17ms/step\n",
      "\u001b[1m9/9\u001b[0m \u001b[32m━━━━━━━━━━━━━━━━━━━━\u001b[0m\u001b[37m\u001b[0m \u001b[1m0s\u001b[0m 10ms/step\n",
      "\u001b[1m9/9\u001b[0m \u001b[32m━━━━━━━━━━━━━━━━━━━━\u001b[0m\u001b[37m\u001b[0m \u001b[1m0s\u001b[0m 17ms/step\n",
      "\u001b[1m9/9\u001b[0m \u001b[32m━━━━━━━━━━━━━━━━━━━━\u001b[0m\u001b[37m\u001b[0m \u001b[1m0s\u001b[0m 3ms/step \n",
      "\u001b[1m9/9\u001b[0m \u001b[32m━━━━━━━━━━━━━━━━━━━━\u001b[0m\u001b[37m\u001b[0m \u001b[1m0s\u001b[0m 4ms/step \n",
      "\u001b[1m9/9\u001b[0m \u001b[32m━━━━━━━━━━━━━━━━━━━━\u001b[0m\u001b[37m\u001b[0m \u001b[1m0s\u001b[0m 3ms/step \n",
      "\u001b[1m9/9\u001b[0m \u001b[32m━━━━━━━━━━━━━━━━━━━━\u001b[0m\u001b[37m\u001b[0m \u001b[1m0s\u001b[0m 4ms/step \n",
      "\n",
      "Average Macro-F1 scores across seeds on Test set:\n",
      "  Model_Base_U: 0.7172\n",
      "  Model_Base_UA: 0.7173\n",
      "  Model_Base_B: 0.6929\n",
      "  Model_Base_BA: 0.6894\n",
      "\n",
      "Best model based on average Macro-F1 score: Model_Base_UA\n"
     ]
    }
   ],
   "source": [
    "LSTM_test_predictions = {}\n",
    "\n",
    "for i, (model_name, model) in enumerate(model_instances.items()):\n",
    "    print(model_name, end=' : ')\n",
    "\n",
    "    if (i + 1) % 4 in (3, 0):\n",
    "        test_data = test_balanced_padded\n",
    "    else:\n",
    "        test_data = test_padded\n",
    "\n",
    "    test_predictions = (model.predict(test_data) > 0.5).astype(\"int32\")\n",
    "    test_f1 = f1_score(test_df['hard_label_task1'], test_predictions, average='macro')\n",
    "\n",
    "    LSTM_test_predictions[model_name] = [test_predictions, test_f1]\n",
    "\n",
    "\n",
    "# Calculating the averages of the accuracies of models on test sets across the seeds:\n",
    "average_LSTM_test_predictions = {\n",
    "    'Model_Base_U': [],\n",
    "    'Model_Base_UA': [],\n",
    "    'Model_Base_B': [],\n",
    "    'Model_Base_BA': []\n",
    "}\n",
    "for model_name in average_LSTM_test_predictions.keys():\n",
    "    scores = []\n",
    "    for seed in seeds:\n",
    "        scores.append(LSTM_test_predictions[f\"{model_name}_seed_{seed}\"][1])\n",
    "    average_LSTM_test_predictions[model_name] = np.mean(scores)\n",
    "\n",
    "best_model_test = max(average_LSTM_test_predictions, key=average_LSTM_test_predictions.get)\n",
    "\n",
    "print(\"\\nAverage Macro-F1 scores across seeds on Test set:\")\n",
    "for model_name, score in average_LSTM_test_predictions.items():\n",
    "    print(f\"  {model_name}: {score:.4f}\")\n",
    "\n",
    "print(f\"\\nBest model based on average Macro-F1 score: {best_model_test}\")"
   ]
  },
  {
   "cell_type": "markdown",
   "metadata": {
    "id": "bxFNTlFsjdbN"
   },
   "source": [
    "The above test results are reported in the report file as the test F1 score."
   ]
  },
  {
   "cell_type": "markdown",
   "metadata": {
    "id": "TUZ0eK_dcqEw"
   },
   "source": [
    "In the next cell, we are applying the majority voting to the predictions of the test set based on the seeds to also have a one prediction for it (same idea as averaging)."
   ]
  },
  {
   "cell_type": "code",
   "execution_count": null,
   "metadata": {
    "id": "0E5q-83IcywE"
   },
   "outputs": [],
   "source": [
    "LSTM_majority_voting_predictions = {}\n",
    "\n",
    "def pred_voting(list_of_predictions):\n",
    "    count = Counter([each_pred[0] for each_pred in list_of_predictions])\n",
    "    if count[0] > count[1]:\n",
    "        return 0\n",
    "    elif count[1] > count[0]:\n",
    "        return 1\n",
    "    else:\n",
    "        return 0\n",
    "\n",
    "for model_name in set([name.split(\"_seed_\")[0] for name in LSTM_test_predictions.keys()]):\n",
    "    predictions = []\n",
    "    for seed in seeds:\n",
    "        predictions.append(LSTM_test_predictions[f\"{model_name}_seed_{seed}\"][0])\n",
    "\n",
    "    # majority voting on that specific predictions\n",
    "    majority_vote = []\n",
    "    list_of_pred_for_that_idx = []\n",
    "    for voting_for_index in range(len(predictions[0])):\n",
    "        list_of_pred_for_that_idx = [pred_of_each_seed[voting_for_index] for pred_of_each_seed in predictions]\n",
    "        majority_vote.append(pred_voting(list_of_pred_for_that_idx))\n",
    "\n",
    "    LSTM_majority_voting_predictions[model_name] = majority_vote\n"
   ]
  },
  {
   "cell_type": "markdown",
   "metadata": {
    "id": "CSy9sPwYHUoD"
   },
   "source": [
    "<a name='transformer-model'></a>\n",
    "# Transformer Model\n",
    "\n",
    "In this section, we will use a transformer model specifically trained for hate speech detection, namely [Twitter-roBERTa-base for Hate Speech Detection](https://huggingface.co/cardiffnlp/twitter-roberta-base-hate).\n",
    "\n",
    "\n"
   ]
  },
  {
   "cell_type": "markdown",
   "metadata": {
    "id": "Ruy1_mnEb4Rt"
   },
   "source": [
    "<a name='transformer-preprocessing'></a>\n",
    "## Step 1 - Importing the Transformer and Preprocessing"
   ]
  },
  {
   "cell_type": "code",
   "execution_count": null,
   "metadata": {
    "id": "JRDLPkGCuwyD"
   },
   "outputs": [],
   "source": [
    "train_data = DS.from_pandas(train_df)\n",
    "train_data_balanced = DS.from_pandas(train_df_balanced)\n",
    "\n",
    "val_data = DS.from_pandas(val_df)\n",
    "test_data = DS.from_pandas(test_df)"
   ]
  },
  {
   "cell_type": "markdown",
   "metadata": {
    "id": "NljlIAEFwaoj"
   },
   "source": [
    "We need to tokenize the text with transformer's tokenization!"
   ]
  },
  {
   "cell_type": "code",
   "execution_count": null,
   "metadata": {
    "id": "pCi-JsF1v630"
   },
   "outputs": [],
   "source": [
    "%%capture\n",
    "# Load the Tokenizer\n",
    "task='hate'\n",
    "MODEL_NAME = f\"cardiffnlp/twitter-roberta-base-{task}\"\n",
    "\n",
    "tokenizer = AutoTokenizer.from_pretrained(MODEL_NAME)\n",
    "\n",
    "def preprocess_text(texts):\n",
    "    return tokenizer(texts['tweet'], truncation=True, max_length=max_length) # Same Max length as the BLSTMs\n",
    "\n",
    "train_data = train_data.map(preprocess_text, batched=True)\n",
    "train_data_balanced = train_data_balanced.map(preprocess_text, batched=True)\n",
    "val_data = val_data.map(preprocess_text, batched=True)\n",
    "test_data = test_data.map(preprocess_text, batched=True)"
   ]
  },
  {
   "cell_type": "code",
   "execution_count": null,
   "metadata": {
    "id": "PCsqVIqM3dye"
   },
   "outputs": [],
   "source": [
    "train_data = train_data.rename_column('hard_label_task1', 'label')\n",
    "train_data_balanced = train_data_balanced.rename_column('hard_label_task1', 'label')\n",
    "val_data = val_data.rename_column('hard_label_task1', 'label')\n",
    "test_data = test_data.rename_column('hard_label_task1', 'label')"
   ]
  },
  {
   "cell_type": "markdown",
   "metadata": {
    "id": "JLu8scuUzO4v"
   },
   "source": [
    "<a name='transformer-modeling'></a>\n",
    "## Step 2 - Defining the Model and Metrics\n",
    "It receives a batch of (input_ids, attention_mask, token_type_ids, label)"
   ]
  },
  {
   "cell_type": "code",
   "execution_count": null,
   "metadata": {
    "colab": {
     "base_uri": "https://localhost:8080/",
     "height": 49,
     "referenced_widgets": [
      "43f27198ba57491cbb894a0bb592c7e8",
      "1f872f6236f34b769fbf804972d9e8e0",
      "307edc26311f48dcadc155851a1ee7b8",
      "a1582f89a7694018a6196170cc8b77ea",
      "3a40f448d47447f4ac7bde990f2b5ed4",
      "64478aa6dd5048bf8735e8a0ef261d42",
      "d519f2ee76c54426b0689b6cca25b245",
      "523ca531ff854ce7958524027782d34b",
      "88308db6bf5e4912a49c51bdc540eb9d",
      "19e108f38b2a447e8dc1d33967c0735a",
      "20a31b7461944521be4d917788a8a3af"
     ]
    },
    "executionInfo": {
     "elapsed": 7024,
     "status": "ok",
     "timestamp": 1736801981016,
     "user": {
      "displayName": "Seyedali Shohadaeolhosseini",
      "userId": "07992724724533035419"
     },
     "user_tz": -60
    },
    "id": "YbQvQReEy_K1",
    "outputId": "5d28dab5-68f9-4946-d69b-681f5e0fe3f5"
   },
   "outputs": [
    {
     "data": {
      "application/vnd.jupyter.widget-view+json": {
       "model_id": "43f27198ba57491cbb894a0bb592c7e8",
       "version_major": 2,
       "version_minor": 0
      },
      "text/plain": [
       "pytorch_model.bin:   0%|          | 0.00/499M [00:00<?, ?B/s]"
      ]
     },
     "metadata": {},
     "output_type": "display_data"
    }
   ],
   "source": [
    "data_collator = DataCollatorWithPadding(tokenizer=tokenizer)\n",
    "\n",
    "model = AutoModelForSequenceClassification.from_pretrained(MODEL_NAME,\n",
    "                                                           num_labels=2,\n",
    "                                                           id2label={0: 'NO', 1: 'YES'},\n",
    "                                                           label2id={'NO': 0, 'YES': 1})"
   ]
  },
  {
   "cell_type": "markdown",
   "metadata": {
    "id": "oqJtSk4hxFgr"
   },
   "source": [
    "In the following, we will use the Trainer API to do the training."
   ]
  },
  {
   "cell_type": "code",
   "execution_count": null,
   "metadata": {
    "colab": {
     "base_uri": "https://localhost:8080/",
     "height": 81,
     "referenced_widgets": [
      "ab2384ad1e0a443f84a861784b1d209f",
      "43477b7c6aba42cbbd0a9ee3dcc433e1",
      "395ad571ba6e4925b9d5452f11b5d68e",
      "c0253d4f5f1441d38c8acd0349a6346e",
      "168bc830b51241218bb4422321e6ac78",
      "c9c9769753174d20a029356fda6bc7bf",
      "def8230e47a6498db98841fd95861cac",
      "db41f953fb6e4f228b9fab7152bfade7",
      "0eba588d099b43deac0fc2d18d7dfa9f",
      "635e517888224abb908eb7d32d7d2951",
      "339031855f3049e98bdfc4b6e347d6cf",
      "5adb8be7dea242b5b0aef4ff3151cd17",
      "50f9d302f5cb4c7d993100a28b5463c9",
      "bab08f32e48541979400815cb0e2ff18",
      "d0fd9ae438fe4f768153a43363bcfaf6",
      "2f7c8ae14a3041f3a9600cd2d185fce8",
      "d781e990e6d841ea908c0d9e946e9a43",
      "19f2f9788ee145c98542bb97a693b723",
      "7f62f1b49c514254951bc7ef682a7653",
      "342649383ad84fd2b06553efa421619a",
      "07bb01075ab34da69bdc4ae858f442c9",
      "82e149e47f014ce5b6962501e99e1454"
     ]
    },
    "executionInfo": {
     "elapsed": 2246,
     "status": "ok",
     "timestamp": 1736801983259,
     "user": {
      "displayName": "Seyedali Shohadaeolhosseini",
      "userId": "07992724724533035419"
     },
     "user_tz": -60
    },
    "id": "kuorVnPq0Pkt",
    "outputId": "c893a331-35da-4c2c-c5f5-677b241a347c"
   },
   "outputs": [
    {
     "data": {
      "application/vnd.jupyter.widget-view+json": {
       "model_id": "ab2384ad1e0a443f84a861784b1d209f",
       "version_major": 2,
       "version_minor": 0
      },
      "text/plain": [
       "Downloading builder script:   0%|          | 0.00/4.20k [00:00<?, ?B/s]"
      ]
     },
     "metadata": {},
     "output_type": "display_data"
    },
    {
     "data": {
      "application/vnd.jupyter.widget-view+json": {
       "model_id": "5adb8be7dea242b5b0aef4ff3151cd17",
       "version_major": 2,
       "version_minor": 0
      },
      "text/plain": [
       "Downloading builder script:   0%|          | 0.00/6.79k [00:00<?, ?B/s]"
      ]
     },
     "metadata": {},
     "output_type": "display_data"
    }
   ],
   "source": [
    "acc_metric = evaluate.load('accuracy')\n",
    "f1_metric = evaluate.load('f1')\n",
    "\n",
    "def compute_metrics(output_info):\n",
    "    predictions, labels = output_info\n",
    "    predictions = np.argmax(predictions, axis=-1)\n",
    "\n",
    "    f1 = f1_metric.compute(predictions=predictions, references=labels, average='macro')\n",
    "    acc = acc_metric.compute(predictions=predictions, references=labels)\n",
    "    return {**f1, **acc}"
   ]
  },
  {
   "cell_type": "markdown",
   "metadata": {
    "id": "XKRffvlzcb_u"
   },
   "source": [
    "<a name='transformer-training'></a>\n",
    "## Step 3 - Training\n",
    "Training the initialized models with different seeds. We are also saving the models for laters when we are calling them on the test sets.\n",
    "\n",
    "> NLP Tutorials Notebooks was fruitful for these sections."
   ]
  },
  {
   "cell_type": "code",
   "execution_count": null,
   "metadata": {
    "colab": {
     "base_uri": "https://localhost:8080/",
     "height": 1000
    },
    "collapsed": true,
    "executionInfo": {
     "elapsed": 547139,
     "status": "ok",
     "timestamp": 1736802530396,
     "user": {
      "displayName": "Seyedali Shohadaeolhosseini",
      "userId": "07992724724533035419"
     },
     "user_tz": -60
    },
    "id": "2majMg1a75hU",
    "outputId": "c40e9665-5a99-45ce-d221-73cd9e7eec52"
   },
   "outputs": [
    {
     "name": "stdout",
     "output_type": "stream",
     "text": [
      "Training with seed: 512\n",
      "Training on unbalanced dataset\n"
     ]
    },
    {
     "data": {
      "text/html": [
       "\n",
       "    <div>\n",
       "      \n",
       "      <progress value='1795' max='1795' style='width:300px; height:20px; vertical-align: middle;'></progress>\n",
       "      [1795/1795 01:36, Epoch 5/5]\n",
       "    </div>\n",
       "    <table border=\"1\" class=\"dataframe\">\n",
       "  <thead>\n",
       " <tr style=\"text-align: left;\">\n",
       "      <th>Epoch</th>\n",
       "      <th>Training Loss</th>\n",
       "      <th>Validation Loss</th>\n",
       "      <th>F1</th>\n",
       "      <th>Accuracy</th>\n",
       "    </tr>\n",
       "  </thead>\n",
       "  <tbody>\n",
       "    <tr>\n",
       "      <td>1</td>\n",
       "      <td>No log</td>\n",
       "      <td>0.321835</td>\n",
       "      <td>0.868003</td>\n",
       "      <td>0.873418</td>\n",
       "    </tr>\n",
       "    <tr>\n",
       "      <td>2</td>\n",
       "      <td>0.405900</td>\n",
       "      <td>0.509828</td>\n",
       "      <td>0.852211</td>\n",
       "      <td>0.860759</td>\n",
       "    </tr>\n",
       "    <tr>\n",
       "      <td>3</td>\n",
       "      <td>0.268000</td>\n",
       "      <td>0.690080</td>\n",
       "      <td>0.843176</td>\n",
       "      <td>0.848101</td>\n",
       "    </tr>\n",
       "    <tr>\n",
       "      <td>4</td>\n",
       "      <td>0.268000</td>\n",
       "      <td>0.815408</td>\n",
       "      <td>0.840726</td>\n",
       "      <td>0.848101</td>\n",
       "    </tr>\n",
       "    <tr>\n",
       "      <td>5</td>\n",
       "      <td>0.123000</td>\n",
       "      <td>0.894540</td>\n",
       "      <td>0.840726</td>\n",
       "      <td>0.848101</td>\n",
       "    </tr>\n",
       "  </tbody>\n",
       "</table><p>"
      ],
      "text/plain": [
       "<IPython.core.display.HTML object>"
      ]
     },
     "metadata": {},
     "output_type": "display_data"
    },
    {
     "data": {
      "text/html": [
       "\n",
       "    <div>\n",
       "      \n",
       "      <progress value='20' max='20' style='width:300px; height:20px; vertical-align: middle;'></progress>\n",
       "      [20/20 00:00]\n",
       "    </div>\n",
       "    "
      ],
      "text/plain": [
       "<IPython.core.display.HTML object>"
      ]
     },
     "metadata": {},
     "output_type": "display_data"
    },
    {
     "name": "stdout",
     "output_type": "stream",
     "text": [
      "Dataset: unbalanced -> Results for seed 512: {'eval_loss': 0.32183462381362915, 'eval_f1': 0.8680033416875522, 'eval_accuracy': 0.8734177215189873, 'eval_runtime': 0.2548, 'eval_samples_per_second': 619.977, 'eval_steps_per_second': 78.478, 'epoch': 5.0}\n",
      "Training on balanced dataset\n"
     ]
    },
    {
     "data": {
      "text/html": [
       "\n",
       "    <div>\n",
       "      \n",
       "      <progress value='1425' max='1425' style='width:300px; height:20px; vertical-align: middle;'></progress>\n",
       "      [1425/1425 01:22, Epoch 5/5]\n",
       "    </div>\n",
       "    <table border=\"1\" class=\"dataframe\">\n",
       "  <thead>\n",
       " <tr style=\"text-align: left;\">\n",
       "      <th>Epoch</th>\n",
       "      <th>Training Loss</th>\n",
       "      <th>Validation Loss</th>\n",
       "      <th>F1</th>\n",
       "      <th>Accuracy</th>\n",
       "    </tr>\n",
       "  </thead>\n",
       "  <tbody>\n",
       "    <tr>\n",
       "      <td>1</td>\n",
       "      <td>No log</td>\n",
       "      <td>0.435585</td>\n",
       "      <td>0.844986</td>\n",
       "      <td>0.854430</td>\n",
       "    </tr>\n",
       "    <tr>\n",
       "      <td>2</td>\n",
       "      <td>0.288000</td>\n",
       "      <td>0.497024</td>\n",
       "      <td>0.882905</td>\n",
       "      <td>0.886076</td>\n",
       "    </tr>\n",
       "    <tr>\n",
       "      <td>3</td>\n",
       "      <td>0.288000</td>\n",
       "      <td>0.885874</td>\n",
       "      <td>0.861767</td>\n",
       "      <td>0.867089</td>\n",
       "    </tr>\n",
       "    <tr>\n",
       "      <td>4</td>\n",
       "      <td>0.106200</td>\n",
       "      <td>0.971819</td>\n",
       "      <td>0.838927</td>\n",
       "      <td>0.841772</td>\n",
       "    </tr>\n",
       "    <tr>\n",
       "      <td>5</td>\n",
       "      <td>0.106200</td>\n",
       "      <td>0.978723</td>\n",
       "      <td>0.850052</td>\n",
       "      <td>0.854430</td>\n",
       "    </tr>\n",
       "  </tbody>\n",
       "</table><p>"
      ],
      "text/plain": [
       "<IPython.core.display.HTML object>"
      ]
     },
     "metadata": {},
     "output_type": "display_data"
    },
    {
     "data": {
      "text/html": [
       "\n",
       "    <div>\n",
       "      \n",
       "      <progress value='20' max='20' style='width:300px; height:20px; vertical-align: middle;'></progress>\n",
       "      [20/20 00:00]\n",
       "    </div>\n",
       "    "
      ],
      "text/plain": [
       "<IPython.core.display.HTML object>"
      ]
     },
     "metadata": {},
     "output_type": "display_data"
    },
    {
     "name": "stdout",
     "output_type": "stream",
     "text": [
      "Dataset: balanced -> Results for seed 512: {'eval_loss': 0.49702438712120056, 'eval_f1': 0.8829051383399209, 'eval_accuracy': 0.8860759493670886, 'eval_runtime': 0.2578, 'eval_samples_per_second': 612.851, 'eval_steps_per_second': 77.576, 'epoch': 5.0}\n",
      "Training with seed: 1024\n",
      "Training on unbalanced dataset\n"
     ]
    },
    {
     "data": {
      "text/html": [
       "\n",
       "    <div>\n",
       "      \n",
       "      <progress value='1795' max='1795' style='width:300px; height:20px; vertical-align: middle;'></progress>\n",
       "      [1795/1795 01:39, Epoch 5/5]\n",
       "    </div>\n",
       "    <table border=\"1\" class=\"dataframe\">\n",
       "  <thead>\n",
       " <tr style=\"text-align: left;\">\n",
       "      <th>Epoch</th>\n",
       "      <th>Training Loss</th>\n",
       "      <th>Validation Loss</th>\n",
       "      <th>F1</th>\n",
       "      <th>Accuracy</th>\n",
       "    </tr>\n",
       "  </thead>\n",
       "  <tbody>\n",
       "    <tr>\n",
       "      <td>1</td>\n",
       "      <td>No log</td>\n",
       "      <td>1.068756</td>\n",
       "      <td>0.830348</td>\n",
       "      <td>0.841772</td>\n",
       "    </tr>\n",
       "    <tr>\n",
       "      <td>2</td>\n",
       "      <td>0.192000</td>\n",
       "      <td>1.031616</td>\n",
       "      <td>0.827453</td>\n",
       "      <td>0.835443</td>\n",
       "    </tr>\n",
       "    <tr>\n",
       "      <td>3</td>\n",
       "      <td>0.064500</td>\n",
       "      <td>1.320768</td>\n",
       "      <td>0.831506</td>\n",
       "      <td>0.841772</td>\n",
       "    </tr>\n",
       "    <tr>\n",
       "      <td>4</td>\n",
       "      <td>0.064500</td>\n",
       "      <td>1.148819</td>\n",
       "      <td>0.848602</td>\n",
       "      <td>0.854430</td>\n",
       "    </tr>\n",
       "    <tr>\n",
       "      <td>5</td>\n",
       "      <td>0.013800</td>\n",
       "      <td>1.244483</td>\n",
       "      <td>0.853135</td>\n",
       "      <td>0.860759</td>\n",
       "    </tr>\n",
       "  </tbody>\n",
       "</table><p>"
      ],
      "text/plain": [
       "<IPython.core.display.HTML object>"
      ]
     },
     "metadata": {},
     "output_type": "display_data"
    },
    {
     "data": {
      "text/html": [
       "\n",
       "    <div>\n",
       "      \n",
       "      <progress value='20' max='20' style='width:300px; height:20px; vertical-align: middle;'></progress>\n",
       "      [20/20 00:00]\n",
       "    </div>\n",
       "    "
      ],
      "text/plain": [
       "<IPython.core.display.HTML object>"
      ]
     },
     "metadata": {},
     "output_type": "display_data"
    },
    {
     "name": "stdout",
     "output_type": "stream",
     "text": [
      "Dataset: unbalanced -> Results for seed 1024: {'eval_loss': 1.2444831132888794, 'eval_f1': 0.8531350346459354, 'eval_accuracy': 0.8607594936708861, 'eval_runtime': 0.2479, 'eval_samples_per_second': 637.308, 'eval_steps_per_second': 80.672, 'epoch': 5.0}\n",
      "Training on balanced dataset\n"
     ]
    },
    {
     "data": {
      "text/html": [
       "\n",
       "    <div>\n",
       "      \n",
       "      <progress value='1425' max='1425' style='width:300px; height:20px; vertical-align: middle;'></progress>\n",
       "      [1425/1425 01:17, Epoch 5/5]\n",
       "    </div>\n",
       "    <table border=\"1\" class=\"dataframe\">\n",
       "  <thead>\n",
       " <tr style=\"text-align: left;\">\n",
       "      <th>Epoch</th>\n",
       "      <th>Training Loss</th>\n",
       "      <th>Validation Loss</th>\n",
       "      <th>F1</th>\n",
       "      <th>Accuracy</th>\n",
       "    </tr>\n",
       "  </thead>\n",
       "  <tbody>\n",
       "    <tr>\n",
       "      <td>1</td>\n",
       "      <td>No log</td>\n",
       "      <td>1.312139</td>\n",
       "      <td>0.861026</td>\n",
       "      <td>0.867089</td>\n",
       "    </tr>\n",
       "    <tr>\n",
       "      <td>2</td>\n",
       "      <td>0.057000</td>\n",
       "      <td>1.322465</td>\n",
       "      <td>0.854804</td>\n",
       "      <td>0.860759</td>\n",
       "    </tr>\n",
       "    <tr>\n",
       "      <td>3</td>\n",
       "      <td>0.057000</td>\n",
       "      <td>1.505570</td>\n",
       "      <td>0.840726</td>\n",
       "      <td>0.848101</td>\n",
       "    </tr>\n",
       "    <tr>\n",
       "      <td>4</td>\n",
       "      <td>0.013500</td>\n",
       "      <td>1.626680</td>\n",
       "      <td>0.845984</td>\n",
       "      <td>0.854430</td>\n",
       "    </tr>\n",
       "    <tr>\n",
       "      <td>5</td>\n",
       "      <td>0.013500</td>\n",
       "      <td>1.632241</td>\n",
       "      <td>0.845984</td>\n",
       "      <td>0.854430</td>\n",
       "    </tr>\n",
       "  </tbody>\n",
       "</table><p>"
      ],
      "text/plain": [
       "<IPython.core.display.HTML object>"
      ]
     },
     "metadata": {},
     "output_type": "display_data"
    },
    {
     "data": {
      "text/html": [
       "\n",
       "    <div>\n",
       "      \n",
       "      <progress value='20' max='20' style='width:300px; height:20px; vertical-align: middle;'></progress>\n",
       "      [20/20 00:00]\n",
       "    </div>\n",
       "    "
      ],
      "text/plain": [
       "<IPython.core.display.HTML object>"
      ]
     },
     "metadata": {},
     "output_type": "display_data"
    },
    {
     "name": "stdout",
     "output_type": "stream",
     "text": [
      "Dataset: balanced -> Results for seed 1024: {'eval_loss': 1.3121387958526611, 'eval_f1': 0.8610261780104712, 'eval_accuracy': 0.8670886075949367, 'eval_runtime': 0.2621, 'eval_samples_per_second': 602.734, 'eval_steps_per_second': 76.295, 'epoch': 5.0}\n",
      "Training with seed: 2048\n",
      "Training on unbalanced dataset\n"
     ]
    },
    {
     "data": {
      "text/html": [
       "\n",
       "    <div>\n",
       "      \n",
       "      <progress value='1795' max='1795' style='width:300px; height:20px; vertical-align: middle;'></progress>\n",
       "      [1795/1795 01:38, Epoch 5/5]\n",
       "    </div>\n",
       "    <table border=\"1\" class=\"dataframe\">\n",
       "  <thead>\n",
       " <tr style=\"text-align: left;\">\n",
       "      <th>Epoch</th>\n",
       "      <th>Training Loss</th>\n",
       "      <th>Validation Loss</th>\n",
       "      <th>F1</th>\n",
       "      <th>Accuracy</th>\n",
       "    </tr>\n",
       "  </thead>\n",
       "  <tbody>\n",
       "    <tr>\n",
       "      <td>1</td>\n",
       "      <td>No log</td>\n",
       "      <td>0.763336</td>\n",
       "      <td>0.854804</td>\n",
       "      <td>0.860759</td>\n",
       "    </tr>\n",
       "    <tr>\n",
       "      <td>2</td>\n",
       "      <td>0.044000</td>\n",
       "      <td>1.192183</td>\n",
       "      <td>0.838776</td>\n",
       "      <td>0.848101</td>\n",
       "    </tr>\n",
       "    <tr>\n",
       "      <td>3</td>\n",
       "      <td>0.028100</td>\n",
       "      <td>0.968528</td>\n",
       "      <td>0.862455</td>\n",
       "      <td>0.867089</td>\n",
       "    </tr>\n",
       "    <tr>\n",
       "      <td>4</td>\n",
       "      <td>0.028100</td>\n",
       "      <td>1.181212</td>\n",
       "      <td>0.866486</td>\n",
       "      <td>0.873418</td>\n",
       "    </tr>\n",
       "    <tr>\n",
       "      <td>5</td>\n",
       "      <td>0.017500</td>\n",
       "      <td>1.210813</td>\n",
       "      <td>0.866486</td>\n",
       "      <td>0.873418</td>\n",
       "    </tr>\n",
       "  </tbody>\n",
       "</table><p>"
      ],
      "text/plain": [
       "<IPython.core.display.HTML object>"
      ]
     },
     "metadata": {},
     "output_type": "display_data"
    },
    {
     "data": {
      "text/html": [
       "\n",
       "    <div>\n",
       "      \n",
       "      <progress value='20' max='20' style='width:300px; height:20px; vertical-align: middle;'></progress>\n",
       "      [20/20 00:00]\n",
       "    </div>\n",
       "    "
      ],
      "text/plain": [
       "<IPython.core.display.HTML object>"
      ]
     },
     "metadata": {},
     "output_type": "display_data"
    },
    {
     "name": "stdout",
     "output_type": "stream",
     "text": [
      "Dataset: unbalanced -> Results for seed 2048: {'eval_loss': 1.181212067604065, 'eval_f1': 0.8664863951326687, 'eval_accuracy': 0.8734177215189873, 'eval_runtime': 0.2502, 'eval_samples_per_second': 631.531, 'eval_steps_per_second': 79.941, 'epoch': 5.0}\n",
      "Training on balanced dataset\n"
     ]
    },
    {
     "data": {
      "text/html": [
       "\n",
       "    <div>\n",
       "      \n",
       "      <progress value='1425' max='1425' style='width:300px; height:20px; vertical-align: middle;'></progress>\n",
       "      [1425/1425 01:17, Epoch 5/5]\n",
       "    </div>\n",
       "    <table border=\"1\" class=\"dataframe\">\n",
       "  <thead>\n",
       " <tr style=\"text-align: left;\">\n",
       "      <th>Epoch</th>\n",
       "      <th>Training Loss</th>\n",
       "      <th>Validation Loss</th>\n",
       "      <th>F1</th>\n",
       "      <th>Accuracy</th>\n",
       "    </tr>\n",
       "  </thead>\n",
       "  <tbody>\n",
       "    <tr>\n",
       "      <td>1</td>\n",
       "      <td>No log</td>\n",
       "      <td>1.527544</td>\n",
       "      <td>0.829289</td>\n",
       "      <td>0.835443</td>\n",
       "    </tr>\n",
       "    <tr>\n",
       "      <td>2</td>\n",
       "      <td>0.053400</td>\n",
       "      <td>1.451357</td>\n",
       "      <td>0.828404</td>\n",
       "      <td>0.835443</td>\n",
       "    </tr>\n",
       "    <tr>\n",
       "      <td>3</td>\n",
       "      <td>0.053400</td>\n",
       "      <td>1.618985</td>\n",
       "      <td>0.829289</td>\n",
       "      <td>0.835443</td>\n",
       "    </tr>\n",
       "    <tr>\n",
       "      <td>4</td>\n",
       "      <td>0.017700</td>\n",
       "      <td>1.619357</td>\n",
       "      <td>0.814180</td>\n",
       "      <td>0.822785</td>\n",
       "    </tr>\n",
       "    <tr>\n",
       "      <td>5</td>\n",
       "      <td>0.017700</td>\n",
       "      <td>1.618042</td>\n",
       "      <td>0.822272</td>\n",
       "      <td>0.829114</td>\n",
       "    </tr>\n",
       "  </tbody>\n",
       "</table><p>"
      ],
      "text/plain": [
       "<IPython.core.display.HTML object>"
      ]
     },
     "metadata": {},
     "output_type": "display_data"
    },
    {
     "data": {
      "text/html": [
       "\n",
       "    <div>\n",
       "      \n",
       "      <progress value='20' max='20' style='width:300px; height:20px; vertical-align: middle;'></progress>\n",
       "      [20/20 00:00]\n",
       "    </div>\n",
       "    "
      ],
      "text/plain": [
       "<IPython.core.display.HTML object>"
      ]
     },
     "metadata": {},
     "output_type": "display_data"
    },
    {
     "name": "stdout",
     "output_type": "stream",
     "text": [
      "Dataset: balanced -> Results for seed 2048: {'eval_loss': 1.5275442600250244, 'eval_f1': 0.8292885638297872, 'eval_accuracy': 0.8354430379746836, 'eval_runtime': 0.2526, 'eval_samples_per_second': 625.6, 'eval_steps_per_second': 79.19, 'epoch': 5.0}\n"
     ]
    }
   ],
   "source": [
    "EPOCHS = 5\n",
    "seeds = [512, 1024, 2048]\n",
    "transformer_results_path = \"Transformer_results\"\n",
    "\n",
    "# Directory to save results\n",
    "results_dir = Path(transformer_results_path)\n",
    "results_dir.mkdir(exist_ok=True)\n",
    "\n",
    "# Results of each seed and dataset\n",
    "log_history = []\n",
    "\n",
    "datasets = {\n",
    "    \"unbalanced\": train_data,\n",
    "    \"balanced\": train_data_balanced\n",
    "}\n",
    "\n",
    "for seed in seeds:\n",
    "    set_seed(seed)\n",
    "    print(f\"Training with seed: {seed}\")\n",
    "\n",
    "    for dataset_name, dataset in datasets.items():\n",
    "        print(f\"Training on {dataset_name} dataset\")\n",
    "\n",
    "        # --------------------- Arguments settings\n",
    "        output_dir = results_dir / f\"{dataset_name}_seed_{seed}\"\n",
    "        output_dir.mkdir(exist_ok=True)\n",
    "\n",
    "        training_args = TrainingArguments(\n",
    "            output_dir=str(output_dir),\n",
    "            learning_rate=2e-5,\n",
    "            per_device_train_batch_size=8,\n",
    "            per_device_eval_batch_size=8,\n",
    "            num_train_epochs=EPOCHS,\n",
    "            weight_decay=0.01,\n",
    "            eval_strategy=\"epoch\",\n",
    "            save_strategy=\"epoch\",\n",
    "            load_best_model_at_end=True,\n",
    "            metric_for_best_model=\"eval_accuracy\",\n",
    "            seed=seed,                                    # Upadating Every Seed\n",
    "            report_to='none'\n",
    "        )\n",
    "\n",
    "        # (Re)Initialize Trainer On the new seed and data\n",
    "        trainer = Trainer(\n",
    "            model=model,\n",
    "            args=training_args,\n",
    "            train_dataset=dataset,                            # Updating dataset\n",
    "            eval_dataset=val_data,\n",
    "            data_collator=data_collator,\n",
    "            compute_metrics=compute_metrics,\n",
    "        )\n",
    "        train_output = trainer.train()\n",
    "\n",
    "        # Save the model and tokenizer for test section\n",
    "        trainer.model.save_pretrained(str(output_dir / \"model\"))\n",
    "        tokenizer.save_pretrained(str(output_dir / \"tokenizer\"))\n",
    "\n",
    "        # Evaluate the model\n",
    "        eval_results = trainer.evaluate()\n",
    "        print(f\"Dataset: {dataset_name} -> Results for seed {seed}: {eval_results}\")\n",
    "\n",
    "        # Save log history\n",
    "        log_hist = trainer.state.log_history\n",
    "        for log in log_hist:\n",
    "            if 'epoch' in log:\n",
    "                log_history.append({\n",
    "                    'seed': seed,\n",
    "                    'dataset': dataset_name,\n",
    "                    'epoch': log['epoch'],\n",
    "                    'log': log\n",
    "                })\n"
   ]
  },
  {
   "cell_type": "markdown",
   "metadata": {
    "id": "L0SJ8FoN2nB2"
   },
   "source": [
    "<a name='transformer-test-evaluation'></a>\n",
    "## Step 4 - Test Evaluation\n",
    "Here, models and tokenizers are being retreived from the saved directory and then evaluation on test set is being applied."
   ]
  },
  {
   "cell_type": "code",
   "execution_count": null,
   "metadata": {
    "colab": {
     "base_uri": "https://localhost:8080/",
     "height": 121
    },
    "executionInfo": {
     "elapsed": 4336,
     "status": "ok",
     "timestamp": 1736803986043,
     "user": {
      "displayName": "Seyedali Shohadaeolhosseini",
      "userId": "07992724724533035419"
     },
     "user_tz": -60
    },
    "id": "pPAXddRk9-2w",
    "outputId": "ed43ce72-311e-402a-99c5-ef89ebfe5666"
   },
   "outputs": [
    {
     "data": {
      "text/html": [],
      "text/plain": [
       "<IPython.core.display.HTML object>"
      ]
     },
     "metadata": {},
     "output_type": "display_data"
    },
    {
     "data": {
      "text/html": [],
      "text/plain": [
       "<IPython.core.display.HTML object>"
      ]
     },
     "metadata": {},
     "output_type": "display_data"
    },
    {
     "data": {
      "text/html": [],
      "text/plain": [
       "<IPython.core.display.HTML object>"
      ]
     },
     "metadata": {},
     "output_type": "display_data"
    },
    {
     "data": {
      "text/html": [],
      "text/plain": [
       "<IPython.core.display.HTML object>"
      ]
     },
     "metadata": {},
     "output_type": "display_data"
    },
    {
     "data": {
      "text/html": [],
      "text/plain": [
       "<IPython.core.display.HTML object>"
      ]
     },
     "metadata": {},
     "output_type": "display_data"
    },
    {
     "data": {
      "text/html": [],
      "text/plain": [
       "<IPython.core.display.HTML object>"
      ]
     },
     "metadata": {},
     "output_type": "display_data"
    },
    {
     "name": "stdout",
     "output_type": "stream",
     "text": [
      " Seed: 512, Dataset: unbalanced, Test Metrics: {'f1': 0.823482940798894, 'accuracy': 0.8251748251748252}\n",
      " Seed: 512, Dataset: balanced, Test Metrics: {'f1': 0.8386558744174638, 'accuracy': 0.8391608391608392}\n",
      " Seed: 1024, Dataset: unbalanced, Test Metrics: {'f1': 0.8373714398734178, 'accuracy': 0.8391608391608392}\n",
      " Seed: 1024, Dataset: balanced, Test Metrics: {'f1': 0.8268914829226113, 'accuracy': 0.8286713286713286}\n",
      " Seed: 2048, Dataset: unbalanced, Test Metrics: {'f1': 0.8376043055349824, 'accuracy': 0.8391608391608392}\n",
      " Seed: 2048, Dataset: balanced, Test Metrics: {'f1': 0.8281987471037502, 'accuracy': 0.8286713286713286}\n"
     ]
    }
   ],
   "source": [
    "def compute_metrics_test(output_info):\n",
    "    predictions, labels = output_info\n",
    "\n",
    "    f1 = f1_metric.compute(predictions=predictions, references=labels, average='macro')\n",
    "    acc = acc_metric.compute(predictions=predictions, references=labels)\n",
    "    return {**f1, **acc}\n",
    "\n",
    "# Path to saved models\n",
    "results_dir = Path(transformer_results_path)\n",
    "\n",
    "# Evaluation results\n",
    "test_results = []\n",
    "\n",
    "# os.environ[\"WANDB_DISABLED\"] = \"true\"\n",
    "eval_args = TrainingArguments(\n",
    "    output_dir=\"temp_eval_output\",\n",
    "    report_to=\"none\"\n",
    ")\n",
    "\n",
    "for seed in seeds:\n",
    "    for dataset_name in datasets.keys():\n",
    "        # Retrieving Model and Tokenizer\n",
    "        model_dir = results_dir / f\"{dataset_name}_seed_{seed}\" / \"model\"\n",
    "        tokenizer_dir = results_dir / f\"{dataset_name}_seed_{seed}\" / \"tokenizer\"\n",
    "\n",
    "        model = AutoModelForSequenceClassification.from_pretrained(model_dir)\n",
    "        tokenizer = AutoTokenizer.from_pretrained(tokenizer_dir)\n",
    "\n",
    "        # Initialize a new Trainer for inference\n",
    "        trainer = Trainer(\n",
    "            model=model,\n",
    "            tokenizer=tokenizer, # This is also deprecating\n",
    "            args=eval_args\n",
    "        )\n",
    "\n",
    "        # Predict on test data\n",
    "        predictions = trainer.predict(test_data)\n",
    "\n",
    "        # Extract metrics and predictions\n",
    "        metrics = predictions.metrics\n",
    "        pred_labels = predictions.predictions.argmax(axis=-1)\n",
    "        true_labels = test_data[\"label\"]  # True labels from test data\n",
    "\n",
    "        # Save results for this seed\n",
    "        test_results.append({\n",
    "            \"seed\": seed,\n",
    "            \"dataset\": dataset_name,\n",
    "            \"metrics\": metrics,\n",
    "            \"predictions\": pred_labels.tolist(),\n",
    "            \"true_labels\": true_labels\n",
    "        })\n",
    "\n",
    "# Print all test evaluation results\n",
    "res_avg = {\n",
    "    \"unbalanced\": [[], []],\n",
    "    \"balanced\": [[], []]\n",
    "}\n",
    "for result in test_results:\n",
    "    output = (np.array(result['predictions']), np.array(result['true_labels']))\n",
    "    test_met = compute_metrics_test(output)\n",
    "    res_avg[result['dataset']][0].append(test_met['f1'])\n",
    "    res_avg[result['dataset']][1].append(test_met['accuracy'])\n",
    "    print(f\" Seed: {result['seed']}, Dataset: {result['dataset']}, Test Metrics: {test_met}\")"
   ]
  },
  {
   "cell_type": "code",
   "execution_count": null,
   "metadata": {
    "colab": {
     "base_uri": "https://localhost:8080/"
    },
    "executionInfo": {
     "elapsed": 366,
     "status": "ok",
     "timestamp": 1736804113065,
     "user": {
      "displayName": "Seyedali Shohadaeolhosseini",
      "userId": "07992724724533035419"
     },
     "user_tz": -60
    },
    "id": "dsx9Ry6ukjp0",
    "outputId": "4dc17b4c-fb71-4eb6-f596-3d3705276a7a"
   },
   "outputs": [
    {
     "name": "stdout",
     "output_type": "stream",
     "text": [
      "Dataset:  unbalanced\n",
      "Average F1 Score for unbalanced: 0.832819562069098\n",
      "Average Accuracy for unbalanced: 0.8344988344988344\n",
      "\n",
      "Dataset:  balanced\n",
      "Average F1 Score for balanced: 0.8312487014812749\n",
      "Average Accuracy for balanced: 0.8321678321678322\n",
      "\n"
     ]
    }
   ],
   "source": [
    "for datasets, metrics in res_avg.items():\n",
    "    print(\"Dataset: \", datasets)\n",
    "    print(f\"Average F1 Score for {datasets}: {np.mean(metrics[0])}\")\n",
    "    print(f\"Average Accuracy for {datasets}: {np.mean(metrics[1])}\\n\")"
   ]
  },
  {
   "cell_type": "markdown",
   "metadata": {
    "id": "LzhjHQ_HkW6U"
   },
   "source": [
    "The above results are reported in the transformer table in the report file."
   ]
  },
  {
   "cell_type": "markdown",
   "metadata": {
    "id": "QSG74OqmhoLE"
   },
   "source": [
    "An amazing performance is being performed by the transformer. Transformer is getting the accuracy of **~0.83** on the test set"
   ]
  },
  {
   "cell_type": "markdown",
   "metadata": {
    "id": "2N2euydx4yrN"
   },
   "source": [
    "As we have 3 seeds for rubostness, in the next cell, we have applied a majority voting for the predictions on each tweets and as the results we came up with two arrays of predictions one for the balance dataset and another for the unbalance dataset.  "
   ]
  },
  {
   "cell_type": "code",
   "execution_count": null,
   "metadata": {
    "id": "Im7U6mPV2Fg2"
   },
   "outputs": [],
   "source": [
    "predictions_in_each_seed = {\n",
    "    \"unbalanced\": [],\n",
    "    \"balanced\": []\n",
    "}\n",
    "for each_test_result in test_results:\n",
    "    predictions_in_each_seed[each_test_result['dataset']].append(each_test_result['predictions'])\n",
    "\n",
    "def pred_voting_for_transformer(list_of_predictions):\n",
    "    count = Counter(list_of_predictions)\n",
    "    if count[0] > count[1]:\n",
    "        return 0\n",
    "    elif count[1] > count[0]:\n",
    "        return 1\n",
    "    else:\n",
    "        return 0\n",
    "\n",
    "average_predictions_in_each_seed = {\n",
    "    \"unbalanced\": [],\n",
    "    \"balanced\": []\n",
    "}\n",
    "for each_dataset in predictions_in_each_seed.keys():\n",
    "    transformer_majority_vote = []\n",
    "    transformer_list_of_pred_for_that_idx = []\n",
    "    for voting_for_index in range(len(predictions_in_each_seed[\"unbalanced\"][0])):\n",
    "        transformer_list_of_pred_for_that_idx = [pred_of_each_seed[voting_for_index] for pred_of_each_seed in predictions_in_each_seed[each_dataset]]\n",
    "        transformer_majority_vote.append(pred_voting_for_transformer(transformer_list_of_pred_for_that_idx))\n",
    "    average_predictions_in_each_seed[each_dataset] = transformer_majority_vote"
   ]
  },
  {
   "cell_type": "markdown",
   "metadata": {
    "id": "3gtiG2mAL3HM"
   },
   "source": [
    "<a name='result-analysis'></a>\n",
    "# Results Analysis\n"
   ]
  },
  {
   "cell_type": "markdown",
   "metadata": {
    "id": "Anqc5dhglt2p"
   },
   "source": [
    "<a name='curve-analysis'></a>\n",
    "## BLSTM Curve Analysis\n",
    "Following cell visualizes the accuracy curve of both training and validation of the BLSTM."
   ]
  },
  {
   "cell_type": "code",
   "execution_count": null,
   "metadata": {
    "id": "ooGQXdJUcemv"
   },
   "outputs": [],
   "source": [
    "for model_name, metrics in average_acc_model_base.items():\n",
    "    print(\" \".join(model_name.split('_')), \"------ # ------------- # \\n\\n\")\n",
    "    print(\"Training Accuracy: \", metrics['acc'])\n",
    "    print(\"Validation: \", metrics['val_acc'])"
   ]
  },
  {
   "cell_type": "code",
   "execution_count": null,
   "metadata": {
    "colab": {
     "base_uri": "https://localhost:8080/",
     "height": 1367
    },
    "executionInfo": {
     "elapsed": 2602,
     "status": "ok",
     "timestamp": 1736787839977,
     "user": {
      "displayName": "Seyedali Shohadaeolhosseini",
      "userId": "07992724724533035419"
     },
     "user_tz": -60
    },
    "id": "uq6sRzxGmJuj",
    "outputId": "e732dd59-a456-4c87-d80b-b2f0c9c37621"
   },
   "outputs": [
    {
     "name": "stdout",
     "output_type": "stream",
     "text": [
      "\n",
      "\n",
      "# ------------- # ------ Model Base U ------ # ------------- # \n",
      "\n",
      "\n"
     ]
    },
    {
     "data": {
      "image/png": "[encoded data removed]",
      "text/plain": [
       "<Figure size 1200x400 with 2 Axes>"
      ]
     },
     "metadata": {},
     "output_type": "display_data"
    },
    {
     "name": "stdout",
     "output_type": "stream",
     "text": [
      "\n",
      "\n",
      "# ------------- # ------ Model Base UA ------ # ------------- # \n",
      "\n",
      "\n"
     ]
    },
    {
     "data": {
      "image/png": "[encoded data removed]",
      "text/plain": [
       "<Figure size 1200x400 with 2 Axes>"
      ]
     },
     "metadata": {},
     "output_type": "display_data"
    },
    {
     "name": "stdout",
     "output_type": "stream",
     "text": [
      "\n",
      "\n",
      "# ------------- # ------ Model Base B ------ # ------------- # \n",
      "\n",
      "\n"
     ]
    },
    {
     "data": {
      "image/png": "[encoded data removed]",
      "text/plain": [
       "<Figure size 1200x400 with 2 Axes>"
      ]
     },
     "metadata": {},
     "output_type": "display_data"
    },
    {
     "name": "stdout",
     "output_type": "stream",
     "text": [
      "\n",
      "\n",
      "# ------------- # ------ Model Base BA ------ # ------------- # \n",
      "\n",
      "\n"
     ]
    },
    {
     "data": {
      "image/png": "[encoded data removed]",
      "text/plain": [
       "<Figure size 1200x400 with 2 Axes>"
      ]
     },
     "metadata": {},
     "output_type": "display_data"
    }
   ],
   "source": [
    "for model_name, metrics in average_acc_model_base.items():\n",
    "    print(\"\\n\\n# ------------- # ------\", \" \".join(model_name.split('_')), \"------ # ------------- # \\n\\n\")\n",
    "    # Seperating validation and training accuracy\n",
    "    acc = metrics['acc']\n",
    "    val_acc = metrics['val_acc']\n",
    "\n",
    "    # Seperating validation and training loss\n",
    "    loss = metrics['loss']\n",
    "    val_loss = metrics['val_loss']\n",
    "\n",
    "    # Plotting\n",
    "    plt.figure(figsize=(12, 4))\n",
    "    plt.subplot(1, 2, 1)\n",
    "    plt.plot(acc)\n",
    "    plt.plot(val_acc)\n",
    "    plt.title('Training and Validation Accuracy')\n",
    "    plt.xlabel('Epochs')\n",
    "    plt.ylabel('Accuracy')\n",
    "    plt.legend(['Accuracy', 'Validation Accuracy'])\n",
    "\n",
    "    plt.subplot(1, 2, 2)\n",
    "    plt.plot(loss)\n",
    "    plt.plot(val_loss)\n",
    "    plt.title('Training and Validation Loss')\n",
    "    plt.xlabel('Epochs')\n",
    "    plt.ylabel('Loss')\n",
    "    plt.legend(['Loss', 'Validation Loss'])\n",
    "\n",
    "    plt.show()"
   ]
  },
  {
   "cell_type": "markdown",
   "metadata": {
    "id": "3ZilKgEfnXz-"
   },
   "source": [
    "The losses of both the training and validation data on all of the models have almost a same structure. Training loss for all the four different models is decreasing epoch after epoch. However, the validation loss, almost in all the four models, starts increasing after epoch ~5.\n",
    "\n",
    "- This suggests the models are overfitting to the training data and are losing the generalization abilities.\n",
    "\n",
    "The same is also true for the accuracy section. While the accuracy on the training is getting better and better after each epoch, the accuracy of validation data is not experiencing a better results and even in some cases it gets worse after epoch ~8."
   ]
  },
  {
   "cell_type": "markdown",
   "metadata": {
    "id": "GJnXDHt0o9kf"
   },
   "source": [
    "<a name='tokenization-analysis'></a>\n",
    "## Vocabulary and Tokenization\n",
    "Following cell shows the total number of tokens that are unknown to the model."
   ]
  },
  {
   "cell_type": "code",
   "execution_count": null,
   "metadata": {
    "colab": {
     "base_uri": "https://localhost:8080/"
    },
    "executionInfo": {
     "elapsed": 371,
     "status": "ok",
     "timestamp": 1736788215914,
     "user": {
      "displayName": "Seyedali Shohadaeolhosseini",
      "userId": "07992724724533035419"
     },
     "user_tz": -60
    },
    "id": "LxQIM0YipCQv",
    "outputId": "d26e767f-c5bc-471e-9c54-1a40cb8d0b4e"
   },
   "outputs": [
    {
     "name": "stdout",
     "output_type": "stream",
     "text": [
      "OOV in unbalanced training set: 0\n",
      "OOV in unbalanced validation set: 295\n",
      "OOV in unbalanced test set: 456\n",
      "----------\n",
      "OOV in balanced training set: 0\n",
      "OOV in balanced validation set: 315\n",
      "OOV in balanced test set: 473\n"
     ]
    }
   ],
   "source": [
    "print(\"OOV in unbalanced training set:\", check_OOV(train_sequences, index_to_word))\n",
    "print(\"OOV in unbalanced validation set:\", check_OOV(val_sequences, index_to_word))\n",
    "print(\"OOV in unbalanced test set:\", check_OOV(test_sequences, index_to_word))\n",
    "print('----------')\n",
    "print(\"OOV in balanced training set:\", check_OOV(train_balanced_sequences, index_to_word))\n",
    "print(\"OOV in balanced validation set:\", check_OOV(val_balanced_sequences, index_to_word))\n",
    "print(\"OOV in balanced test set:\", check_OOV(test_balanced_sequences, index_to_word))"
   ]
  },
  {
   "cell_type": "markdown",
   "metadata": {
    "id": "3bCRBMvxpUDp"
   },
   "source": [
    "Why there is a difference between the number of OOV of balanced and unbalanced data? This is because, unbalanced data is the whole dataset, a larger dataset, which means there are more tokens inside it. As the results, the model has a larger vocabulary list. However, in the balanced dataset we have narrowed down the larger class, meaning that there were tweets that we didn't see them and we haven't add them to the vocabulary. Leading to a smaller vocabulary list."
   ]
  },
  {
   "cell_type": "markdown",
   "metadata": {
    "id": "66hLESS_qBPa"
   },
   "source": [
    "In this project we have tokenized the data based on the word (Word Tokenization technique) where we choose all the preprocessed, lemmatized word types as a token. However, in modern Language Models, tokenization are being cared more carefully.\n",
    "- Changing the strategy for the tokenization also helps in encoutering less OOV which helps the model to understand the data better. Having said that, we can say that one of the reason that transformer is doing better in this task, here in this project, is the different tokenization it uses."
   ]
  },
  {
   "cell_type": "markdown",
   "metadata": {
    "id": "4os6S2FrBben"
   },
   "source": [
    "<a name='confusion-matrix-analysis'></a>\n",
    "## Confusion Matrix\n",
    "Next, we'll define the metric functions and demonstrate the confusion matrix."
   ]
  },
  {
   "cell_type": "code",
   "execution_count": null,
   "metadata": {
    "id": "-w6MrUY1xzwP"
   },
   "outputs": [],
   "source": [
    "acc_metric = evaluate.load('accuracy')\n",
    "f1_metric = evaluate.load('f1')\n",
    "\n",
    "def compute_metrics(responses, y_true):\n",
    "    \"\"\"\n",
    "    This function takes predicted and ground-truth labels and compute metrics.\n",
    "    In particular, this function compute accuracy and fail-ratio metrics.\n",
    "    This function internally invokes `process_response` to compute metrics.\n",
    "\n",
    "    Inputs:\n",
    "        responses: generated LLM responses\n",
    "        y_true: ground-truth binary labels\n",
    "\n",
    "    Outputs:\n",
    "        dictionary containing desired metrics\n",
    "    \"\"\"\n",
    "    f1 = f1_metric.compute(predictions=responses, references=y_true, average='macro')\n",
    "    acc = acc_metric.compute(predictions=responses, references=y_true)\n",
    "    return {**f1, **acc}"
   ]
  },
  {
   "cell_type": "code",
   "execution_count": null,
   "metadata": {
    "colab": {
     "base_uri": "https://localhost:8080/",
     "height": 1000
    },
    "executionInfo": {
     "elapsed": 2633,
     "status": "ok",
     "timestamp": 1736789358585,
     "user": {
      "displayName": "Seyedali Shohadaeolhosseini",
      "userId": "07992724724533035419"
     },
     "user_tz": -60
    },
    "id": "EB5yWRj4yBQ-",
    "outputId": "1ae41edc-01bb-4489-e572-5ee4b62b22e8"
   },
   "outputs": [
    {
     "data": {
      "image/png": "[encoded data removed]",
      "text/plain": [
       "<Figure size 1000x1200 with 12 Axes>"
      ]
     },
     "metadata": {},
     "output_type": "display_data"
    }
   ],
   "source": [
    "ground_truth = np.array(test_df['hard_label_task1'])\n",
    "preds_list = {}\n",
    "\n",
    "for lstm_model_name in LSTM_majority_voting_predictions.keys():\n",
    "    prediction = LSTM_majority_voting_predictions[lstm_model_name]\n",
    "    preds_list[lstm_model_name] = prediction\n",
    "\n",
    "for dataset_name in average_predictions_in_each_seed.keys():\n",
    "    preds_list[f\"Transformer on {dataset_name} dataset\"] = average_predictions_in_each_seed[dataset_name]\n",
    "\n",
    "fig, axes = plt.subplots(nrows=3, ncols=2, figsize=(10, 3 * 4))\n",
    "axes = axes.ravel()\n",
    "\n",
    "for idx, model_name in enumerate(preds_list.keys()):\n",
    "    predictions = preds_list[model_name]\n",
    "\n",
    "    cm = confusion_matrix(ground_truth, predictions)\n",
    "\n",
    "    sns.heatmap(cm, annot=True, cmap='Blues', fmt='d',\n",
    "                xticklabels=[\"Predicted 0\", \"Predicted 1\"],\n",
    "                yticklabels=[\"True 0\", \"True 1\"],\n",
    "                ax=axes[idx])\n",
    "\n",
    "    axes[idx].set_title(f\"{model_name}\")\n",
    "    axes[idx].set_ylabel(\"True label\")\n",
    "    axes[idx].set_xlabel(\"Predicted label\")\n",
    "\n",
    "plt.tight_layout()\n",
    "plt.show()"
   ]
  },
  {
   "cell_type": "markdown",
   "metadata": {
    "id": "ptxSJkSqrMzR"
   },
   "source": [
    "By studying these diagrams we can get a good understanding on the difference of the datasets that we have worked on."
   ]
  },
  {
   "cell_type": "markdown",
   "metadata": {
    "id": "MvrCRD6W1SAB"
   },
   "source": [
    "#### BLSTM Diagram Analysis\n",
    "Here's the corresponding meaning of each name of the diagrams:\n",
    "- Model Base U  : The Base BLSTM; trained on `unbalance` data\n",
    "- Model Base UA : The BLSTM with Additional LSTM layer; trained on `unbalance` data\n",
    "- Model Base B  : The Base BLSTM; trained on `balance` data\n",
    "- Model Base BA : The BLSTM with Additional LSTM layer; trained on `balance` data\n",
    "\n",
    "Diagrams for the unbalanced datasets are showing that the models is performing significantly better on predicting the tweets with the class 0, none sexist tweets. As expected, this is due the more data that we have for the class 0. Additionaly, between these two models trained on this dataset, the model with additional LSTM layer is performing poorer than the base model. This is due to the overfitting that happens with more layers. Because the amount of data for such architecture is very less.\n",
    "\n",
    "However, unexpectedly, the model trained on the balanced data are also performing better on classifying the non-sexist tweets. This may be due to the randomness, since during development, we've seen so many changes in these numbers. However, this attitude of cannot strongly be assigned to the randomness. One other reason that may causes this better performing on the class 0 may be because of the validation set. We also had the unbalanced data on the validation set. Although the model is not learning directly from the validation set, validation set is the set that helps model to update its weights and a bias in the validation set indeed can infect the training."
   ]
  },
  {
   "cell_type": "markdown",
   "metadata": {
    "id": "1oQABUR01Pa0"
   },
   "source": [
    "#### Transformer Diagram Analysis\n",
    "At the third row we have the confusion matrix of the transformer. Which is a showing that transformers are indeed more powerful than the BLSTM.\n",
    "\n",
    "The difference between the transformer trained on the balanced data (the one on the right) and the transformer trained on the unbalanced data (the diagram on the left) with the results of the BLSTM architecuters can prove that, no matter how strong the architecture is, as long as the quality of the data is not good, or we don't have enough data for training, the model cannot perform better after some points.\n",
    "\n",
    "Here, confusion matrices are showing us that transformer makes mistakes less than the BLSTM, but it is not performing significantly better. As mentioned, this may have different reasons, and one of them is the amount of data and the quality of data. The other one is the amount of training. A model overfitted to the training data cannot perform well on unseen data."
   ]
  },
  {
   "cell_type": "markdown",
   "metadata": {
    "id": "PZBRbn1cmKgu"
   },
   "source": [
    "<a name='other-analysis'></a>\n",
    "## Other Notes\n",
    "Other notes:"
   ]
  },
  {
   "cell_type": "markdown",
   "metadata": {
    "id": "e0wTJ5jSzddG"
   },
   "source": [
    "- One of the things that can improve the performance is to augmente the data. Data augmentation can be used to increase the amount of data so our model doesn't overfit the data easily.\n",
    "- Data Balancing is an important step that should be considered as well. Although we have experienced in some cases that the accuracy of the models on the unbalanced dataset was better, however, we must not rely on it. Because having an unbalanced data leads to a bias model, which maybe good even when you test it on test set, but cannot rely on it since the model is able to predict one class better than the other. Hence, we cannot say that the performance of the model is good because of the good predictino it has on that class. But on the other side, it is performing poor.\n",
    "- One other things that could be exploit from is to use the grid search strategy to find the better parameters for the model. Although, still, when we don't have enough data, we cannot change the performance significantly better.\n",
    "- One other things that can be done is to to instead of down sampling the majority class to balance the data, we could upsample the minority class the to have the same amount of examples as the mjority class. This increases the amount of data a bit.\n",
    "    - This upsampling is also can be complex as the characteristic of text is complex. However, finding the similarities between words and even sentences, could help us increase the number of examples we have for the minority class.\n"
   ]
  }
 ],
 "metadata": {
  "colab": {
   "collapsed_sections": [
    "Pz1W0D0UayC0",
    "9Suoq71nb7TP",
    "2iu1X4I98M8B",
    "8O5lEVRba-Uu",
    "NKufy9NVujy3",
    "KMQqyE9df7bu",
    "u0oCc481yJ1d",
    "5beqALd1zORL",
    "U9XO-L7k06Db",
    "cFbpvB6NQnx4",
    "QNvRuzG82bUM",
    "LWiqP72wQuZs",
    "Y2nxrcjrM5lx",
    "F7F6c7IDBw64",
    "bMHAiSp-_S_b",
    "6JLnuLGHGAUT",
    "hyTvMNnZEWw8",
    "YNX3b_s_Z-vB",
    "CSy9sPwYHUoD",
    "Ruy1_mnEb4Rt",
    "JLu8scuUzO4v",
    "XKRffvlzcb_u",
    "L0SJ8FoN2nB2",
    "3gtiG2mAL3HM",
    "Anqc5dhglt2p",
    "GJnXDHt0o9kf",
    "4os6S2FrBben",
    "PZBRbn1cmKgu"
   ],
   "provenance": [],
   "toc_visible": true
  },
  "kernelspec": {
   "display_name": "Python 3",
   "name": "python3"
  },
  "language_info": {
   "name": "python"
  },
  "widgets": {
   "application/vnd.jupyter.widget-state+json": {
    "07bb01075ab34da69bdc4ae858f442c9": {
     "model_module": "@jupyter-widgets/base",
     "model_module_version": "1.2.0",
     "model_name": "LayoutModel",
     "state": {
      "_model_module": "@jupyter-widgets/base",
      "_model_module_version": "1.2.0",
      "_model_name": "LayoutModel",
      "_view_count": null,
      "_view_module": "@jupyter-widgets/base",
      "_view_module_version": "1.2.0",
      "_view_name": "LayoutView",
      "align_content": null,
      "align_items": null,
      "align_self": null,
      "border": null,
      "bottom": null,
      "display": null,
      "flex": null,
      "flex_flow": null,
      "grid_area": null,
      "grid_auto_columns": null,
      "grid_auto_flow": null,
      "grid_auto_rows": null,
      "grid_column": null,
      "grid_gap": null,
      "grid_row": null,
      "grid_template_areas": null,
      "grid_template_columns": null,
      "grid_template_rows": null,
      "height": null,
      "justify_content": null,
      "justify_items": null,
      "left": null,
      "margin": null,
      "max_height": null,
      "max_width": null,
      "min_height": null,
      "min_width": null,
      "object_fit": null,
      "object_position": null,
      "order": null,
      "overflow": null,
      "overflow_x": null,
      "overflow_y": null,
      "padding": null,
      "right": null,
      "top": null,
      "visibility": null,
      "width": null
     }
    },
    "0eba588d099b43deac0fc2d18d7dfa9f": {
     "model_module": "@jupyter-widgets/controls",
     "model_module_version": "1.5.0",
     "model_name": "ProgressStyleModel",
     "state": {
      "_model_module": "@jupyter-widgets/controls",
      "_model_module_version": "1.5.0",
      "_model_name": "ProgressStyleModel",
      "_view_count": null,
      "_view_module": "@jupyter-widgets/base",
      "_view_module_version": "1.2.0",
      "_view_name": "StyleView",
      "bar_color": null,
      "description_width": ""
     }
    },
    "168bc830b51241218bb4422321e6ac78": {
     "model_module": "@jupyter-widgets/base",
     "model_module_version": "1.2.0",
     "model_name": "LayoutModel",
     "state": {
      "_model_module": "@jupyter-widgets/base",
      "_model_module_version": "1.2.0",
      "_model_name": "LayoutModel",
      "_view_count": null,
      "_view_module": "@jupyter-widgets/base",
      "_view_module_version": "1.2.0",
      "_view_name": "LayoutView",
      "align_content": null,
      "align_items": null,
      "align_self": null,
      "border": null,
      "bottom": null,
      "display": null,
      "flex": null,
      "flex_flow": null,
      "grid_area": null,
      "grid_auto_columns": null,
      "grid_auto_flow": null,
      "grid_auto_rows": null,
      "grid_column": null,
      "grid_gap": null,
      "grid_row": null,
      "grid_template_areas": null,
      "grid_template_columns": null,
      "grid_template_rows": null,
      "height": null,
      "justify_content": null,
      "justify_items": null,
      "left": null,
      "margin": null,
      "max_height": null,
      "max_width": null,
      "min_height": null,
      "min_width": null,
      "object_fit": null,
      "object_position": null,
      "order": null,
      "overflow": null,
      "overflow_x": null,
      "overflow_y": null,
      "padding": null,
      "right": null,
      "top": null,
      "visibility": null,
      "width": null
     }
    },
    "19e108f38b2a447e8dc1d33967c0735a": {
     "model_module": "@jupyter-widgets/base",
     "model_module_version": "1.2.0",
     "model_name": "LayoutModel",
     "state": {
      "_model_module": "@jupyter-widgets/base",
      "_model_module_version": "1.2.0",
      "_model_name": "LayoutModel",
      "_view_count": null,
      "_view_module": "@jupyter-widgets/base",
      "_view_module_version": "1.2.0",
      "_view_name": "LayoutView",
      "align_content": null,
      "align_items": null,
      "align_self": null,
      "border": null,
      "bottom": null,
      "display": null,
      "flex": null,
      "flex_flow": null,
      "grid_area": null,
      "grid_auto_columns": null,
      "grid_auto_flow": null,
      "grid_auto_rows": null,
      "grid_column": null,
      "grid_gap": null,
      "grid_row": null,
      "grid_template_areas": null,
      "grid_template_columns": null,
      "grid_template_rows": null,
      "height": null,
      "justify_content": null,
      "justify_items": null,
      "left": null,
      "margin": null,
      "max_height": null,
      "max_width": null,
      "min_height": null,
      "min_width": null,
      "object_fit": null,
      "object_position": null,
      "order": null,
      "overflow": null,
      "overflow_x": null,
      "overflow_y": null,
      "padding": null,
      "right": null,
      "top": null,
      "visibility": null,
      "width": null
     }
    },
    "19f2f9788ee145c98542bb97a693b723": {
     "model_module": "@jupyter-widgets/controls",
     "model_module_version": "1.5.0",
     "model_name": "DescriptionStyleModel",
     "state": {
      "_model_module": "@jupyter-widgets/controls",
      "_model_module_version": "1.5.0",
      "_model_name": "DescriptionStyleModel",
      "_view_count": null,
      "_view_module": "@jupyter-widgets/base",
      "_view_module_version": "1.2.0",
      "_view_name": "StyleView",
      "description_width": ""
     }
    },
    "1f872f6236f34b769fbf804972d9e8e0": {
     "model_module": "@jupyter-widgets/controls",
     "model_module_version": "1.5.0",
     "model_name": "HTMLModel",
     "state": {
      "_dom_classes": [],
      "_model_module": "@jupyter-widgets/controls",
      "_model_module_version": "1.5.0",
      "_model_name": "HTMLModel",
      "_view_count": null,
      "_view_module": "@jupyter-widgets/controls",
      "_view_module_version": "1.5.0",
      "_view_name": "HTMLView",
      "description": "",
      "description_tooltip": null,
      "layout": "IPY_MODEL_64478aa6dd5048bf8735e8a0ef261d42",
      "placeholder": "​",
      "style": "IPY_MODEL_d519f2ee76c54426b0689b6cca25b245",
      "value": "pytorch_model.bin: 100%"
     }
    },
    "20a31b7461944521be4d917788a8a3af": {
     "model_module": "@jupyter-widgets/controls",
     "model_module_version": "1.5.0",
     "model_name": "DescriptionStyleModel",
     "state": {
      "_model_module": "@jupyter-widgets/controls",
      "_model_module_version": "1.5.0",
      "_model_name": "DescriptionStyleModel",
      "_view_count": null,
      "_view_module": "@jupyter-widgets/base",
      "_view_module_version": "1.2.0",
      "_view_name": "StyleView",
      "description_width": ""
     }
    },
    "2f7c8ae14a3041f3a9600cd2d185fce8": {
     "model_module": "@jupyter-widgets/base",
     "model_module_version": "1.2.0",
     "model_name": "LayoutModel",
     "state": {
      "_model_module": "@jupyter-widgets/base",
      "_model_module_version": "1.2.0",
      "_model_name": "LayoutModel",
      "_view_count": null,
      "_view_module": "@jupyter-widgets/base",
      "_view_module_version": "1.2.0",
      "_view_name": "LayoutView",
      "align_content": null,
      "align_items": null,
      "align_self": null,
      "border": null,
      "bottom": null,
      "display": null,
      "flex": null,
      "flex_flow": null,
      "grid_area": null,
      "grid_auto_columns": null,
      "grid_auto_flow": null,
      "grid_auto_rows": null,
      "grid_column": null,
      "grid_gap": null,
      "grid_row": null,
      "grid_template_areas": null,
      "grid_template_columns": null,
      "grid_template_rows": null,
      "height": null,
      "justify_content": null,
      "justify_items": null,
      "left": null,
      "margin": null,
      "max_height": null,
      "max_width": null,
      "min_height": null,
      "min_width": null,
      "object_fit": null,
      "object_position": null,
      "order": null,
      "overflow": null,
      "overflow_x": null,
      "overflow_y": null,
      "padding": null,
      "right": null,
      "top": null,
      "visibility": null,
      "width": null
     }
    },
    "307edc26311f48dcadc155851a1ee7b8": {
     "model_module": "@jupyter-widgets/controls",
     "model_module_version": "1.5.0",
     "model_name": "FloatProgressModel",
     "state": {
      "_dom_classes": [],
      "_model_module": "@jupyter-widgets/controls",
      "_model_module_version": "1.5.0",
      "_model_name": "FloatProgressModel",
      "_view_count": null,
      "_view_module": "@jupyter-widgets/controls",
      "_view_module_version": "1.5.0",
      "_view_name": "ProgressView",
      "bar_style": "success",
      "description": "",
      "description_tooltip": null,
      "layout": "IPY_MODEL_523ca531ff854ce7958524027782d34b",
      "max": 498676425,
      "min": 0,
      "orientation": "horizontal",
      "style": "IPY_MODEL_88308db6bf5e4912a49c51bdc540eb9d",
      "value": 498676425
     }
    },
    "339031855f3049e98bdfc4b6e347d6cf": {
     "model_module": "@jupyter-widgets/controls",
     "model_module_version": "1.5.0",
     "model_name": "DescriptionStyleModel",
     "state": {
      "_model_module": "@jupyter-widgets/controls",
      "_model_module_version": "1.5.0",
      "_model_name": "DescriptionStyleModel",
      "_view_count": null,
      "_view_module": "@jupyter-widgets/base",
      "_view_module_version": "1.2.0",
      "_view_name": "StyleView",
      "description_width": ""
     }
    },
    "342649383ad84fd2b06553efa421619a": {
     "model_module": "@jupyter-widgets/controls",
     "model_module_version": "1.5.0",
     "model_name": "ProgressStyleModel",
     "state": {
      "_model_module": "@jupyter-widgets/controls",
      "_model_module_version": "1.5.0",
      "_model_name": "ProgressStyleModel",
      "_view_count": null,
      "_view_module": "@jupyter-widgets/base",
      "_view_module_version": "1.2.0",
      "_view_name": "StyleView",
      "bar_color": null,
      "description_width": ""
     }
    },
    "395ad571ba6e4925b9d5452f11b5d68e": {
     "model_module": "@jupyter-widgets/controls",
     "model_module_version": "1.5.0",
     "model_name": "FloatProgressModel",
     "state": {
      "_dom_classes": [],
      "_model_module": "@jupyter-widgets/controls",
      "_model_module_version": "1.5.0",
      "_model_name": "FloatProgressModel",
      "_view_count": null,
      "_view_module": "@jupyter-widgets/controls",
      "_view_module_version": "1.5.0",
      "_view_name": "ProgressView",
      "bar_style": "success",
      "description": "",
      "description_tooltip": null,
      "layout": "IPY_MODEL_db41f953fb6e4f228b9fab7152bfade7",
      "max": 4203,
      "min": 0,
      "orientation": "horizontal",
      "style": "IPY_MODEL_0eba588d099b43deac0fc2d18d7dfa9f",
      "value": 4203
     }
    },
    "3a40f448d47447f4ac7bde990f2b5ed4": {
     "model_module": "@jupyter-widgets/base",
     "model_module_version": "1.2.0",
     "model_name": "LayoutModel",
     "state": {
      "_model_module": "@jupyter-widgets/base",
      "_model_module_version": "1.2.0",
      "_model_name": "LayoutModel",
      "_view_count": null,
      "_view_module": "@jupyter-widgets/base",
      "_view_module_version": "1.2.0",
      "_view_name": "LayoutView",
      "align_content": null,
      "align_items": null,
      "align_self": null,
      "border": null,
      "bottom": null,
      "display": null,
      "flex": null,
      "flex_flow": null,
      "grid_area": null,
      "grid_auto_columns": null,
      "grid_auto_flow": null,
      "grid_auto_rows": null,
      "grid_column": null,
      "grid_gap": null,
      "grid_row": null,
      "grid_template_areas": null,
      "grid_template_columns": null,
      "grid_template_rows": null,
      "height": null,
      "justify_content": null,
      "justify_items": null,
      "left": null,
      "margin": null,
      "max_height": null,
      "max_width": null,
      "min_height": null,
      "min_width": null,
      "object_fit": null,
      "object_position": null,
      "order": null,
      "overflow": null,
      "overflow_x": null,
      "overflow_y": null,
      "padding": null,
      "right": null,
      "top": null,
      "visibility": null,
      "width": null
     }
    },
    "43477b7c6aba42cbbd0a9ee3dcc433e1": {
     "model_module": "@jupyter-widgets/controls",
     "model_module_version": "1.5.0",
     "model_name": "HTMLModel",
     "state": {
      "_dom_classes": [],
      "_model_module": "@jupyter-widgets/controls",
      "_model_module_version": "1.5.0",
      "_model_name": "HTMLModel",
      "_view_count": null,
      "_view_module": "@jupyter-widgets/controls",
      "_view_module_version": "1.5.0",
      "_view_name": "HTMLView",
      "description": "",
      "description_tooltip": null,
      "layout": "IPY_MODEL_c9c9769753174d20a029356fda6bc7bf",
      "placeholder": "​",
      "style": "IPY_MODEL_def8230e47a6498db98841fd95861cac",
      "value": "Downloading builder script: 100%"
     }
    },
    "43f27198ba57491cbb894a0bb592c7e8": {
     "model_module": "@jupyter-widgets/controls",
     "model_module_version": "1.5.0",
     "model_name": "HBoxModel",
     "state": {
      "_dom_classes": [],
      "_model_module": "@jupyter-widgets/controls",
      "_model_module_version": "1.5.0",
      "_model_name": "HBoxModel",
      "_view_count": null,
      "_view_module": "@jupyter-widgets/controls",
      "_view_module_version": "1.5.0",
      "_view_name": "HBoxView",
      "box_style": "",
      "children": [
       "IPY_MODEL_1f872f6236f34b769fbf804972d9e8e0",
       "IPY_MODEL_307edc26311f48dcadc155851a1ee7b8",
       "IPY_MODEL_a1582f89a7694018a6196170cc8b77ea"
      ],
      "layout": "IPY_MODEL_3a40f448d47447f4ac7bde990f2b5ed4"
     }
    },
    "50f9d302f5cb4c7d993100a28b5463c9": {
     "model_module": "@jupyter-widgets/controls",
     "model_module_version": "1.5.0",
     "model_name": "HTMLModel",
     "state": {
      "_dom_classes": [],
      "_model_module": "@jupyter-widgets/controls",
      "_model_module_version": "1.5.0",
      "_model_name": "HTMLModel",
      "_view_count": null,
      "_view_module": "@jupyter-widgets/controls",
      "_view_module_version": "1.5.0",
      "_view_name": "HTMLView",
      "description": "",
      "description_tooltip": null,
      "layout": "IPY_MODEL_d781e990e6d841ea908c0d9e946e9a43",
      "placeholder": "​",
      "style": "IPY_MODEL_19f2f9788ee145c98542bb97a693b723",
      "value": "Downloading builder script: 100%"
     }
    },
    "523ca531ff854ce7958524027782d34b": {
     "model_module": "@jupyter-widgets/base",
     "model_module_version": "1.2.0",
     "model_name": "LayoutModel",
     "state": {
      "_model_module": "@jupyter-widgets/base",
      "_model_module_version": "1.2.0",
      "_model_name": "LayoutModel",
      "_view_count": null,
      "_view_module": "@jupyter-widgets/base",
      "_view_module_version": "1.2.0",
      "_view_name": "LayoutView",
      "align_content": null,
      "align_items": null,
      "align_self": null,
      "border": null,
      "bottom": null,
      "display": null,
      "flex": null,
      "flex_flow": null,
      "grid_area": null,
      "grid_auto_columns": null,
      "grid_auto_flow": null,
      "grid_auto_rows": null,
      "grid_column": null,
      "grid_gap": null,
      "grid_row": null,
      "grid_template_areas": null,
      "grid_template_columns": null,
      "grid_template_rows": null,
      "height": null,
      "justify_content": null,
      "justify_items": null,
      "left": null,
      "margin": null,
      "max_height": null,
      "max_width": null,
      "min_height": null,
      "min_width": null,
      "object_fit": null,
      "object_position": null,
      "order": null,
      "overflow": null,
      "overflow_x": null,
      "overflow_y": null,
      "padding": null,
      "right": null,
      "top": null,
      "visibility": null,
      "width": null
     }
    },
    "5adb8be7dea242b5b0aef4ff3151cd17": {
     "model_module": "@jupyter-widgets/controls",
     "model_module_version": "1.5.0",
     "model_name": "HBoxModel",
     "state": {
      "_dom_classes": [],
      "_model_module": "@jupyter-widgets/controls",
      "_model_module_version": "1.5.0",
      "_model_name": "HBoxModel",
      "_view_count": null,
      "_view_module": "@jupyter-widgets/controls",
      "_view_module_version": "1.5.0",
      "_view_name": "HBoxView",
      "box_style": "",
      "children": [
       "IPY_MODEL_50f9d302f5cb4c7d993100a28b5463c9",
       "IPY_MODEL_bab08f32e48541979400815cb0e2ff18",
       "IPY_MODEL_d0fd9ae438fe4f768153a43363bcfaf6"
      ],
      "layout": "IPY_MODEL_2f7c8ae14a3041f3a9600cd2d185fce8"
     }
    },
    "635e517888224abb908eb7d32d7d2951": {
     "model_module": "@jupyter-widgets/base",
     "model_module_version": "1.2.0",
     "model_name": "LayoutModel",
     "state": {
      "_model_module": "@jupyter-widgets/base",
      "_model_module_version": "1.2.0",
      "_model_name": "LayoutModel",
      "_view_count": null,
      "_view_module": "@jupyter-widgets/base",
      "_view_module_version": "1.2.0",
      "_view_name": "LayoutView",
      "align_content": null,
      "align_items": null,
      "align_self": null,
      "border": null,
      "bottom": null,
      "display": null,
      "flex": null,
      "flex_flow": null,
      "grid_area": null,
      "grid_auto_columns": null,
      "grid_auto_flow": null,
      "grid_auto_rows": null,
      "grid_column": null,
      "grid_gap": null,
      "grid_row": null,
      "grid_template_areas": null,
      "grid_template_columns": null,
      "grid_template_rows": null,
      "height": null,
      "justify_content": null,
      "justify_items": null,
      "left": null,
      "margin": null,
      "max_height": null,
      "max_width": null,
      "min_height": null,
      "min_width": null,
      "object_fit": null,
      "object_position": null,
      "order": null,
      "overflow": null,
      "overflow_x": null,
      "overflow_y": null,
      "padding": null,
      "right": null,
      "top": null,
      "visibility": null,
      "width": null
     }
    },
    "64478aa6dd5048bf8735e8a0ef261d42": {
     "model_module": "@jupyter-widgets/base",
     "model_module_version": "1.2.0",
     "model_name": "LayoutModel",
     "state": {
      "_model_module": "@jupyter-widgets/base",
      "_model_module_version": "1.2.0",
      "_model_name": "LayoutModel",
      "_view_count": null,
      "_view_module": "@jupyter-widgets/base",
      "_view_module_version": "1.2.0",
      "_view_name": "LayoutView",
      "align_content": null,
      "align_items": null,
      "align_self": null,
      "border": null,
      "bottom": null,
      "display": null,
      "flex": null,
      "flex_flow": null,
      "grid_area": null,
      "grid_auto_columns": null,
      "grid_auto_flow": null,
      "grid_auto_rows": null,
      "grid_column": null,
      "grid_gap": null,
      "grid_row": null,
      "grid_template_areas": null,
      "grid_template_columns": null,
      "grid_template_rows": null,
      "height": null,
      "justify_content": null,
      "justify_items": null,
      "left": null,
      "margin": null,
      "max_height": null,
      "max_width": null,
      "min_height": null,
      "min_width": null,
      "object_fit": null,
      "object_position": null,
      "order": null,
      "overflow": null,
      "overflow_x": null,
      "overflow_y": null,
      "padding": null,
      "right": null,
      "top": null,
      "visibility": null,
      "width": null
     }
    },
    "7f62f1b49c514254951bc7ef682a7653": {
     "model_module": "@jupyter-widgets/base",
     "model_module_version": "1.2.0",
     "model_name": "LayoutModel",
     "state": {
      "_model_module": "@jupyter-widgets/base",
      "_model_module_version": "1.2.0",
      "_model_name": "LayoutModel",
      "_view_count": null,
      "_view_module": "@jupyter-widgets/base",
      "_view_module_version": "1.2.0",
      "_view_name": "LayoutView",
      "align_content": null,
      "align_items": null,
      "align_self": null,
      "border": null,
      "bottom": null,
      "display": null,
      "flex": null,
      "flex_flow": null,
      "grid_area": null,
      "grid_auto_columns": null,
      "grid_auto_flow": null,
      "grid_auto_rows": null,
      "grid_column": null,
      "grid_gap": null,
      "grid_row": null,
      "grid_template_areas": null,
      "grid_template_columns": null,
      "grid_template_rows": null,
      "height": null,
      "justify_content": null,
      "justify_items": null,
      "left": null,
      "margin": null,
      "max_height": null,
      "max_width": null,
      "min_height": null,
      "min_width": null,
      "object_fit": null,
      "object_position": null,
      "order": null,
      "overflow": null,
      "overflow_x": null,
      "overflow_y": null,
      "padding": null,
      "right": null,
      "top": null,
      "visibility": null,
      "width": null
     }
    },
    "82e149e47f014ce5b6962501e99e1454": {
     "model_module": "@jupyter-widgets/controls",
     "model_module_version": "1.5.0",
     "model_name": "DescriptionStyleModel",
     "state": {
      "_model_module": "@jupyter-widgets/controls",
      "_model_module_version": "1.5.0",
      "_model_name": "DescriptionStyleModel",
      "_view_count": null,
      "_view_module": "@jupyter-widgets/base",
      "_view_module_version": "1.2.0",
      "_view_name": "StyleView",
      "description_width": ""
     }
    },
    "88308db6bf5e4912a49c51bdc540eb9d": {
     "model_module": "@jupyter-widgets/controls",
     "model_module_version": "1.5.0",
     "model_name": "ProgressStyleModel",
     "state": {
      "_model_module": "@jupyter-widgets/controls",
      "_model_module_version": "1.5.0",
      "_model_name": "ProgressStyleModel",
      "_view_count": null,
      "_view_module": "@jupyter-widgets/base",
      "_view_module_version": "1.2.0",
      "_view_name": "StyleView",
      "bar_color": null,
      "description_width": ""
     }
    },
    "a1582f89a7694018a6196170cc8b77ea": {
     "model_module": "@jupyter-widgets/controls",
     "model_module_version": "1.5.0",
     "model_name": "HTMLModel",
     "state": {
      "_dom_classes": [],
      "_model_module": "@jupyter-widgets/controls",
      "_model_module_version": "1.5.0",
      "_model_name": "HTMLModel",
      "_view_count": null,
      "_view_module": "@jupyter-widgets/controls",
      "_view_module_version": "1.5.0",
      "_view_name": "HTMLView",
      "description": "",
      "description_tooltip": null,
      "layout": "IPY_MODEL_19e108f38b2a447e8dc1d33967c0735a",
      "placeholder": "​",
      "style": "IPY_MODEL_20a31b7461944521be4d917788a8a3af",
      "value": " 499M/499M [00:02&lt;00:00, 233MB/s]"
     }
    },
    "ab2384ad1e0a443f84a861784b1d209f": {
     "model_module": "@jupyter-widgets/controls",
     "model_module_version": "1.5.0",
     "model_name": "HBoxModel",
     "state": {
      "_dom_classes": [],
      "_model_module": "@jupyter-widgets/controls",
      "_model_module_version": "1.5.0",
      "_model_name": "HBoxModel",
      "_view_count": null,
      "_view_module": "@jupyter-widgets/controls",
      "_view_module_version": "1.5.0",
      "_view_name": "HBoxView",
      "box_style": "",
      "children": [
       "IPY_MODEL_43477b7c6aba42cbbd0a9ee3dcc433e1",
       "IPY_MODEL_395ad571ba6e4925b9d5452f11b5d68e",
       "IPY_MODEL_c0253d4f5f1441d38c8acd0349a6346e"
      ],
      "layout": "IPY_MODEL_168bc830b51241218bb4422321e6ac78"
     }
    },
    "bab08f32e48541979400815cb0e2ff18": {
     "model_module": "@jupyter-widgets/controls",
     "model_module_version": "1.5.0",
     "model_name": "FloatProgressModel",
     "state": {
      "_dom_classes": [],
      "_model_module": "@jupyter-widgets/controls",
      "_model_module_version": "1.5.0",
      "_model_name": "FloatProgressModel",
      "_view_count": null,
      "_view_module": "@jupyter-widgets/controls",
      "_view_module_version": "1.5.0",
      "_view_name": "ProgressView",
      "bar_style": "success",
      "description": "",
      "description_tooltip": null,
      "layout": "IPY_MODEL_7f62f1b49c514254951bc7ef682a7653",
      "max": 6785,
      "min": 0,
      "orientation": "horizontal",
      "style": "IPY_MODEL_342649383ad84fd2b06553efa421619a",
      "value": 6785
     }
    },
    "c0253d4f5f1441d38c8acd0349a6346e": {
     "model_module": "@jupyter-widgets/controls",
     "model_module_version": "1.5.0",
     "model_name": "HTMLModel",
     "state": {
      "_dom_classes": [],
      "_model_module": "@jupyter-widgets/controls",
      "_model_module_version": "1.5.0",
      "_model_name": "HTMLModel",
      "_view_count": null,
      "_view_module": "@jupyter-widgets/controls",
      "_view_module_version": "1.5.0",
      "_view_name": "HTMLView",
      "description": "",
      "description_tooltip": null,
      "layout": "IPY_MODEL_635e517888224abb908eb7d32d7d2951",
      "placeholder": "​",
      "style": "IPY_MODEL_339031855f3049e98bdfc4b6e347d6cf",
      "value": " 4.20k/4.20k [00:00&lt;00:00, 252kB/s]"
     }
    },
    "c9c9769753174d20a029356fda6bc7bf": {
     "model_module": "@jupyter-widgets/base",
     "model_module_version": "1.2.0",
     "model_name": "LayoutModel",
     "state": {
      "_model_module": "@jupyter-widgets/base",
      "_model_module_version": "1.2.0",
      "_model_name": "LayoutModel",
      "_view_count": null,
      "_view_module": "@jupyter-widgets/base",
      "_view_module_version": "1.2.0",
      "_view_name": "LayoutView",
      "align_content": null,
      "align_items": null,
      "align_self": null,
      "border": null,
      "bottom": null,
      "display": null,
      "flex": null,
      "flex_flow": null,
      "grid_area": null,
      "grid_auto_columns": null,
      "grid_auto_flow": null,
      "grid_auto_rows": null,
      "grid_column": null,
      "grid_gap": null,
      "grid_row": null,
      "grid_template_areas": null,
      "grid_template_columns": null,
      "grid_template_rows": null,
      "height": null,
      "justify_content": null,
      "justify_items": null,
      "left": null,
      "margin": null,
      "max_height": null,
      "max_width": null,
      "min_height": null,
      "min_width": null,
      "object_fit": null,
      "object_position": null,
      "order": null,
      "overflow": null,
      "overflow_x": null,
      "overflow_y": null,
      "padding": null,
      "right": null,
      "top": null,
      "visibility": null,
      "width": null
     }
    },
    "d0fd9ae438fe4f768153a43363bcfaf6": {
     "model_module": "@jupyter-widgets/controls",
     "model_module_version": "1.5.0",
     "model_name": "HTMLModel",
     "state": {
      "_dom_classes": [],
      "_model_module": "@jupyter-widgets/controls",
      "_model_module_version": "1.5.0",
      "_model_name": "HTMLModel",
      "_view_count": null,
      "_view_module": "@jupyter-widgets/controls",
      "_view_module_version": "1.5.0",
      "_view_name": "HTMLView",
      "description": "",
      "description_tooltip": null,
      "layout": "IPY_MODEL_07bb01075ab34da69bdc4ae858f442c9",
      "placeholder": "​",
      "style": "IPY_MODEL_82e149e47f014ce5b6962501e99e1454",
      "value": " 6.79k/6.79k [00:00&lt;00:00, 511kB/s]"
     }
    },
    "d519f2ee76c54426b0689b6cca25b245": {
     "model_module": "@jupyter-widgets/controls",
     "model_module_version": "1.5.0",
     "model_name": "DescriptionStyleModel",
     "state": {
      "_model_module": "@jupyter-widgets/controls",
      "_model_module_version": "1.5.0",
      "_model_name": "DescriptionStyleModel",
      "_view_count": null,
      "_view_module": "@jupyter-widgets/base",
      "_view_module_version": "1.2.0",
      "_view_name": "StyleView",
      "description_width": ""
     }
    },
    "d781e990e6d841ea908c0d9e946e9a43": {
     "model_module": "@jupyter-widgets/base",
     "model_module_version": "1.2.0",
     "model_name": "LayoutModel",
     "state": {
      "_model_module": "@jupyter-widgets/base",
      "_model_module_version": "1.2.0",
      "_model_name": "LayoutModel",
      "_view_count": null,
      "_view_module": "@jupyter-widgets/base",
      "_view_module_version": "1.2.0",
      "_view_name": "LayoutView",
      "align_content": null,
      "align_items": null,
      "align_self": null,
      "border": null,
      "bottom": null,
      "display": null,
      "flex": null,
      "flex_flow": null,
      "grid_area": null,
      "grid_auto_columns": null,
      "grid_auto_flow": null,
      "grid_auto_rows": null,
      "grid_column": null,
      "grid_gap": null,
      "grid_row": null,
      "grid_template_areas": null,
      "grid_template_columns": null,
      "grid_template_rows": null,
      "height": null,
      "justify_content": null,
      "justify_items": null,
      "left": null,
      "margin": null,
      "max_height": null,
      "max_width": null,
      "min_height": null,
      "min_width": null,
      "object_fit": null,
      "object_position": null,
      "order": null,
      "overflow": null,
      "overflow_x": null,
      "overflow_y": null,
      "padding": null,
      "right": null,
      "top": null,
      "visibility": null,
      "width": null
     }
    },
    "db41f953fb6e4f228b9fab7152bfade7": {
     "model_module": "@jupyter-widgets/base",
     "model_module_version": "1.2.0",
     "model_name": "LayoutModel",
     "state": {
      "_model_module": "@jupyter-widgets/base",
      "_model_module_version": "1.2.0",
      "_model_name": "LayoutModel",
      "_view_count": null,
      "_view_module": "@jupyter-widgets/base",
      "_view_module_version": "1.2.0",
      "_view_name": "LayoutView",
      "align_content": null,
      "align_items": null,
      "align_self": null,
      "border": null,
      "bottom": null,
      "display": null,
      "flex": null,
      "flex_flow": null,
      "grid_area": null,
      "grid_auto_columns": null,
      "grid_auto_flow": null,
      "grid_auto_rows": null,
      "grid_column": null,
      "grid_gap": null,
      "grid_row": null,
      "grid_template_areas": null,
      "grid_template_columns": null,
      "grid_template_rows": null,
      "height": null,
      "justify_content": null,
      "justify_items": null,
      "left": null,
      "margin": null,
      "max_height": null,
      "max_width": null,
      "min_height": null,
      "min_width": null,
      "object_fit": null,
      "object_position": null,
      "order": null,
      "overflow": null,
      "overflow_x": null,
      "overflow_y": null,
      "padding": null,
      "right": null,
      "top": null,
      "visibility": null,
      "width": null
     }
    },
    "def8230e47a6498db98841fd95861cac": {
     "model_module": "@jupyter-widgets/controls",
     "model_module_version": "1.5.0",
     "model_name": "DescriptionStyleModel",
     "state": {
      "_model_module": "@jupyter-widgets/controls",
      "_model_module_version": "1.5.0",
      "_model_name": "DescriptionStyleModel",
      "_view_count": null,
      "_view_module": "@jupyter-widgets/base",
      "_view_module_version": "1.2.0",
      "_view_name": "StyleView",
      "description_width": ""
     }
    }
   }
  }
 },
 "nbformat": 4,
 "nbformat_minor": 0
}
